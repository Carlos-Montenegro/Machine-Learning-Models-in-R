{
 "cells": [
  {
   "cell_type": "markdown",
   "metadata": {},
   "source": [
    "### Individual Assignment for the class of Statistical and Machine Learning\n",
    "\n",
    "Code from the class and from the online sources where used in this project."
   ]
  },
  {
   "cell_type": "markdown",
   "metadata": {},
   "source": [
    "## 1. Initiation"
   ]
  },
  {
   "cell_type": "code",
   "execution_count": 1,
   "metadata": {},
   "outputs": [],
   "source": [
    "# install.packages(\"vita\")\n",
    "# install.packages(\"dataPreparation\")\n",
    "# install.packages(\"woeBinning\")\n",
    "# install.packages(\"Boruta\")\n",
    "# install.packages(\"xgboost\")"
   ]
  },
  {
   "cell_type": "code",
   "execution_count": 2,
   "metadata": {},
   "outputs": [
    {
     "name": "stderr",
     "output_type": "stream",
     "text": [
      "Warning message:\n",
      "\"package 'vita' was built under R version 3.6.3\"Warning message:\n",
      "\"package 'dataPreparation' was built under R version 3.6.3\"Loading required package: lubridate\n",
      "\n",
      "Attaching package: 'lubridate'\n",
      "\n",
      "The following object is masked from 'package:plyr':\n",
      "\n",
      "    here\n",
      "\n",
      "The following objects are masked from 'package:data.table':\n",
      "\n",
      "    hour, isoweek, mday, minute, month, quarter, second, wday, week,\n",
      "    yday, year\n",
      "\n",
      "The following object is masked from 'package:base':\n",
      "\n",
      "    date\n",
      "\n",
      "Loading required package: Matrix\n",
      "Loading required package: progress\n",
      "dataPreparation 0.4.3\n",
      "Type dataPrepNews() to see new features/changes/bug fixes.\n",
      "Warning message:\n",
      "\"package 'Boruta' was built under R version 3.6.3\"Loading required package: ranger\n",
      "Warning message:\n",
      "\"package 'ranger' was built under R version 3.6.3\"Warning message:\n",
      "\"package 'mlr' was built under R version 3.6.2\"Loading required package: ParamHelpers\n",
      "Warning message:\n",
      "\"package 'ParamHelpers' was built under R version 3.6.2\"'mlr' is in maintenance mode since July 2019. Future development\n",
      "efforts will go into its successor 'mlr3' (<https://mlr3.mlr-org.com>).\n",
      "Loading required package: lattice\n",
      "Loading required package: ggplot2\n",
      "\n",
      "Attaching package: 'caret'\n",
      "\n",
      "The following object is masked from 'package:mlr':\n",
      "\n",
      "    train\n",
      "\n",
      "randomForest 4.6-14\n",
      "Type rfNews() to see new features/changes/bug fixes.\n",
      "\n",
      "Attaching package: 'randomForest'\n",
      "\n",
      "The following object is masked from 'package:ggplot2':\n",
      "\n",
      "    margin\n",
      "\n",
      "The following object is masked from 'package:ranger':\n",
      "\n",
      "    importance\n",
      "\n",
      "Warning message:\n",
      "\"package 'gbm' was built under R version 3.6.2\"Loaded gbm 2.1.5\n",
      "Warning message:\n",
      "\"package 'xgboost' was built under R version 3.6.3\""
     ]
    }
   ],
   "source": [
    "Sys.setenv(LANG = \"en\")\n",
    "\n",
    "# Data processing library\n",
    "library(data.table)       # Data manipulation\n",
    "library(plyr)             # Data manipulation\n",
    "library(stringr)          # String, text processing\n",
    "library(vita)             # Quickly check variable importance\n",
    "library(dataPreparation)  # Data preparation library\n",
    "library(woeBinning)       # Decision tree–based binning for numerical and categorical variables\n",
    "library(Boruta)           # Variable selection\n",
    "\n",
    "# Machine learning library\n",
    "library(mlr)          # Machine learning framework\n",
    "library(caret)         # Data processing and machine learning framework\n",
    "library(MASS)          # LDA\n",
    "library(randomForest)  # RF\n",
    "library(gbm)           # Boosting Tree\n",
    "library(xgboost)       # XGboost"
   ]
  },
  {
   "cell_type": "code",
   "execution_count": 3,
   "metadata": {},
   "outputs": [],
   "source": [
    "#install.packages('funModeling')"
   ]
  },
  {
   "cell_type": "markdown",
   "metadata": {},
   "source": [
    "## 2. Data summary and processing"
   ]
  },
  {
   "cell_type": "markdown",
   "metadata": {},
   "source": [
    "### 2.1. Data summary"
   ]
  },
  {
   "cell_type": "markdown",
   "metadata": {},
   "source": [
    "#### Read and print out some data"
   ]
  },
  {
   "cell_type": "code",
   "execution_count": 4,
   "metadata": {},
   "outputs": [],
   "source": [
    "setwd(\"D:/User/Google Drive/Proyectos/Estudios/Maestría/Courses/15. Statistical & Machine Learning/Individual Assignment/Data\")"
   ]
  },
  {
   "cell_type": "code",
   "execution_count": 5,
   "metadata": {},
   "outputs": [],
   "source": [
    "# Read train (full), test (holdout)\n",
    "train_full <- read.csv('bank_mkt_train.csv')  # Training dataset\n",
    "test_holdout <- read.csv('bank_mkt_test.csv')  # Holdout data set without response"
   ]
  },
  {
   "cell_type": "code",
   "execution_count": 6,
   "metadata": {},
   "outputs": [
    {
     "name": "stdout",
     "output_type": "stream",
     "text": [
      "[1] Number of observations in the train is 7000\n",
      "[1] Number of observations in the train is 3000\n"
     ]
    }
   ],
   "source": [
    "print(paste(\"Number of observations in the train is\",nrow(train_full)),quote=FALSE)\n",
    "print(paste(\"Number of observations in the train is\",nrow(test_holdout)),quote=FALSE)"
   ]
  },
  {
   "cell_type": "code",
   "execution_count": 7,
   "metadata": {},
   "outputs": [
    {
     "name": "stdout",
     "output_type": "stream",
     "text": [
      "'data.frame':\t7000 obs. of  21 variables:\n",
      " $ client_id     : int  2 3 4 5 6 7 8 9 14 15 ...\n",
      " $ age           : int  29 39 49 32 29 51 34 52 52 29 ...\n",
      " $ job           : Factor w/ 12 levels \"admin.\",\"blue-collar\",..: 4 11 2 7 1 7 2 8 1 1 ...\n",
      " $ marital       : Factor w/ 4 levels \"divorced\",\"married\",..: 3 2 2 3 3 2 2 2 2 3 ...\n",
      " $ education     : Factor w/ 8 levels \"basic.4y\",\"basic.6y\",..: 4 3 2 7 4 7 1 4 7 7 ...\n",
      " $ default       : Factor w/ 2 levels \"no\",\"unknown\": 1 2 2 1 2 2 1 1 1 1 ...\n",
      " $ housing       : Factor w/ 3 levels \"no\",\"unknown\",..: 1 3 1 3 3 3 3 3 3 3 ...\n",
      " $ loan          : Factor w/ 3 levels \"no\",\"unknown\",..: 1 1 1 1 1 1 1 1 1 1 ...\n",
      " $ contact       : Factor w/ 2 levels \"cellular\",\"telephone\": 2 2 1 1 1 2 1 1 1 1 ...\n",
      " $ month         : Factor w/ 10 levels \"apr\",\"aug\",\"dec\",..: 7 5 8 7 4 5 8 8 8 5 ...\n",
      " $ day_of_week   : Factor w/ 5 levels \"fri\",\"mon\",\"thu\",..: 2 1 4 2 1 4 4 4 3 2 ...\n",
      " $ campaign      : int  3 6 2 3 2 1 1 1 3 1 ...\n",
      " $ pdays         : int  999 999 999 999 999 999 999 999 999 999 ...\n",
      " $ previous      : int  0 0 0 1 0 0 0 0 0 0 ...\n",
      " $ poutcome      : Factor w/ 3 levels \"failure\",\"nonexistent\",..: 2 2 2 1 2 2 2 2 2 2 ...\n",
      " $ emp.var.rate  : num  1.1 1.4 -0.1 -1.8 1.4 1.4 -0.1 -0.1 -0.1 -2.9 ...\n",
      " $ cons.price.idx: num  94 94.5 93.2 92.9 93.9 ...\n",
      " $ cons.conf.idx : num  -36.4 -41.8 -42 -46.2 -42.7 -41.8 -42 -42 -42 -40.8 ...\n",
      " $ euribor3m     : num  4.86 4.96 4.15 1.3 4.96 ...\n",
      " $ nr.employed   : num  5191 5228 5196 5099 5228 ...\n",
      " $ subscribe     : int  0 0 0 0 0 0 0 0 0 0 ...\n"
     ]
    }
   ],
   "source": [
    "# Print out to check the data type\n",
    "# Both of the datasets have the same information (one is for the train set and the other one will be used as a test set)\n",
    "str(train_full)"
   ]
  },
  {
   "cell_type": "code",
   "execution_count": 8,
   "metadata": {
    "scrolled": true
   },
   "outputs": [
    {
     "data": {
      "text/html": [
       "<table>\n",
       "<thead><tr><th scope=col>client_id</th><th scope=col>age</th><th scope=col>job</th><th scope=col>marital</th><th scope=col>education</th><th scope=col>default</th><th scope=col>housing</th><th scope=col>loan</th><th scope=col>contact</th><th scope=col>month</th><th scope=col>...</th><th scope=col>campaign</th><th scope=col>pdays</th><th scope=col>previous</th><th scope=col>poutcome</th><th scope=col>emp.var.rate</th><th scope=col>cons.price.idx</th><th scope=col>cons.conf.idx</th><th scope=col>euribor3m</th><th scope=col>nr.employed</th><th scope=col>subscribe</th></tr></thead>\n",
       "<tbody>\n",
       "\t<tr><td>2                </td><td>29               </td><td>housemaid        </td><td>single           </td><td>high.school      </td><td>no               </td><td>no               </td><td>no               </td><td>telephone        </td><td>may              </td><td>...              </td><td>3                </td><td>999              </td><td>0                </td><td>nonexistent      </td><td> 1.1             </td><td>93.994           </td><td>-36.4            </td><td>4.858            </td><td>5191.0           </td><td>0                </td></tr>\n",
       "\t<tr><td>3                </td><td>39               </td><td>unemployed       </td><td>married          </td><td>basic.9y         </td><td>unknown          </td><td>yes              </td><td>no               </td><td>telephone        </td><td>jun              </td><td>...              </td><td>6                </td><td>999              </td><td>0                </td><td>nonexistent      </td><td> 1.4             </td><td>94.465           </td><td>-41.8            </td><td>4.959            </td><td>5228.1           </td><td>0                </td></tr>\n",
       "\t<tr><td>4                </td><td>49               </td><td>blue-collar      </td><td>married          </td><td>basic.6y         </td><td>unknown          </td><td>no               </td><td>no               </td><td>cellular         </td><td>nov              </td><td>...              </td><td>2                </td><td>999              </td><td>0                </td><td>nonexistent      </td><td>-0.1             </td><td>93.200           </td><td>-42.0            </td><td>4.153            </td><td>5195.8           </td><td>0                </td></tr>\n",
       "\t<tr><td>5                </td><td>32               </td><td>self-employed    </td><td>single           </td><td>university.degree</td><td>no               </td><td>yes              </td><td>no               </td><td>cellular         </td><td>may              </td><td>...              </td><td>3                </td><td>999              </td><td>1                </td><td>failure          </td><td>-1.8             </td><td>92.893           </td><td>-46.2            </td><td>1.299            </td><td>5099.1           </td><td>0                </td></tr>\n",
       "\t<tr><td>6                </td><td>29               </td><td>admin.           </td><td>single           </td><td>high.school      </td><td>unknown          </td><td>yes              </td><td>no               </td><td>cellular         </td><td>jul              </td><td>...              </td><td>2                </td><td>999              </td><td>0                </td><td>nonexistent      </td><td> 1.4             </td><td>93.918           </td><td>-42.7            </td><td>4.963            </td><td>5228.1           </td><td>0                </td></tr>\n",
       "\t<tr><td>7                </td><td>51               </td><td>self-employed    </td><td>married          </td><td>university.degree</td><td>unknown          </td><td>yes              </td><td>no               </td><td>telephone        </td><td>jun              </td><td>...              </td><td>1                </td><td>999              </td><td>0                </td><td>nonexistent      </td><td> 1.4             </td><td>94.465           </td><td>-41.8            </td><td>4.864            </td><td>5228.1           </td><td>0                </td></tr>\n",
       "</tbody>\n",
       "</table>\n"
      ],
      "text/latex": [
       "\\begin{tabular}{r|lllllllllllllllllllll}\n",
       " client\\_id & age & job & marital & education & default & housing & loan & contact & month & ... & campaign & pdays & previous & poutcome & emp.var.rate & cons.price.idx & cons.conf.idx & euribor3m & nr.employed & subscribe\\\\\n",
       "\\hline\n",
       "\t 2                 & 29                & housemaid         & single            & high.school       & no                & no                & no                & telephone         & may               & ...               & 3                 & 999               & 0                 & nonexistent       &  1.1              & 93.994            & -36.4             & 4.858             & 5191.0            & 0                \\\\\n",
       "\t 3                 & 39                & unemployed        & married           & basic.9y          & unknown           & yes               & no                & telephone         & jun               & ...               & 6                 & 999               & 0                 & nonexistent       &  1.4              & 94.465            & -41.8             & 4.959             & 5228.1            & 0                \\\\\n",
       "\t 4                 & 49                & blue-collar       & married           & basic.6y          & unknown           & no                & no                & cellular          & nov               & ...               & 2                 & 999               & 0                 & nonexistent       & -0.1              & 93.200            & -42.0             & 4.153             & 5195.8            & 0                \\\\\n",
       "\t 5                 & 32                & self-employed     & single            & university.degree & no                & yes               & no                & cellular          & may               & ...               & 3                 & 999               & 1                 & failure           & -1.8              & 92.893            & -46.2             & 1.299             & 5099.1            & 0                \\\\\n",
       "\t 6                 & 29                & admin.            & single            & high.school       & unknown           & yes               & no                & cellular          & jul               & ...               & 2                 & 999               & 0                 & nonexistent       &  1.4              & 93.918            & -42.7             & 4.963             & 5228.1            & 0                \\\\\n",
       "\t 7                 & 51                & self-employed     & married           & university.degree & unknown           & yes               & no                & telephone         & jun               & ...               & 1                 & 999               & 0                 & nonexistent       &  1.4              & 94.465            & -41.8             & 4.864             & 5228.1            & 0                \\\\\n",
       "\\end{tabular}\n"
      ],
      "text/markdown": [
       "\n",
       "| client_id | age | job | marital | education | default | housing | loan | contact | month | ... | campaign | pdays | previous | poutcome | emp.var.rate | cons.price.idx | cons.conf.idx | euribor3m | nr.employed | subscribe |\n",
       "|---|---|---|---|---|---|---|---|---|---|---|---|---|---|---|---|---|---|---|---|---|\n",
       "| 2                 | 29                | housemaid         | single            | high.school       | no                | no                | no                | telephone         | may               | ...               | 3                 | 999               | 0                 | nonexistent       |  1.1              | 93.994            | -36.4             | 4.858             | 5191.0            | 0                 |\n",
       "| 3                 | 39                | unemployed        | married           | basic.9y          | unknown           | yes               | no                | telephone         | jun               | ...               | 6                 | 999               | 0                 | nonexistent       |  1.4              | 94.465            | -41.8             | 4.959             | 5228.1            | 0                 |\n",
       "| 4                 | 49                | blue-collar       | married           | basic.6y          | unknown           | no                | no                | cellular          | nov               | ...               | 2                 | 999               | 0                 | nonexistent       | -0.1              | 93.200            | -42.0             | 4.153             | 5195.8            | 0                 |\n",
       "| 5                 | 32                | self-employed     | single            | university.degree | no                | yes               | no                | cellular          | may               | ...               | 3                 | 999               | 1                 | failure           | -1.8              | 92.893            | -46.2             | 1.299             | 5099.1            | 0                 |\n",
       "| 6                 | 29                | admin.            | single            | high.school       | unknown           | yes               | no                | cellular          | jul               | ...               | 2                 | 999               | 0                 | nonexistent       |  1.4              | 93.918            | -42.7             | 4.963             | 5228.1            | 0                 |\n",
       "| 7                 | 51                | self-employed     | married           | university.degree | unknown           | yes               | no                | telephone         | jun               | ...               | 1                 | 999               | 0                 | nonexistent       |  1.4              | 94.465            | -41.8             | 4.864             | 5228.1            | 0                 |\n",
       "\n"
      ],
      "text/plain": [
       "  client_id age job           marital education         default housing loan\n",
       "1 2         29  housemaid     single  high.school       no      no      no  \n",
       "2 3         39  unemployed    married basic.9y          unknown yes     no  \n",
       "3 4         49  blue-collar   married basic.6y          unknown no      no  \n",
       "4 5         32  self-employed single  university.degree no      yes     no  \n",
       "5 6         29  admin.        single  high.school       unknown yes     no  \n",
       "6 7         51  self-employed married university.degree unknown yes     no  \n",
       "  contact   month ... campaign pdays previous poutcome    emp.var.rate\n",
       "1 telephone may   ... 3        999   0        nonexistent  1.1        \n",
       "2 telephone jun   ... 6        999   0        nonexistent  1.4        \n",
       "3 cellular  nov   ... 2        999   0        nonexistent -0.1        \n",
       "4 cellular  may   ... 3        999   1        failure     -1.8        \n",
       "5 cellular  jul   ... 2        999   0        nonexistent  1.4        \n",
       "6 telephone jun   ... 1        999   0        nonexistent  1.4        \n",
       "  cons.price.idx cons.conf.idx euribor3m nr.employed subscribe\n",
       "1 93.994         -36.4         4.858     5191.0      0        \n",
       "2 94.465         -41.8         4.959     5228.1      0        \n",
       "3 93.200         -42.0         4.153     5195.8      0        \n",
       "4 92.893         -46.2         1.299     5099.1      0        \n",
       "5 93.918         -42.7         4.963     5228.1      0        \n",
       "6 94.465         -41.8         4.864     5228.1      0        "
      ]
     },
     "metadata": {},
     "output_type": "display_data"
    }
   ],
   "source": [
    "head(train_full)"
   ]
  },
  {
   "cell_type": "markdown",
   "metadata": {},
   "source": [
    "#### Correct the variable: campaign\n",
    "\n",
    "Since campaign includes also the last contact, its value should be reduce by 1."
   ]
  },
  {
   "cell_type": "code",
   "execution_count": 9,
   "metadata": {},
   "outputs": [],
   "source": [
    "# Fix the value\n",
    "train_full[, 'campaign'] <- train_full[, 'campaign'] - 1\n",
    "test_holdout[, 'campaign'] <- test_holdout[, 'campaign'] - 1\n",
    "# Quick check\n",
    "# min(train_full[, 'campaign'])  # Previously = 1\n",
    "# min(test_holdout[, 'campaign'])  # Previously = 1"
   ]
  },
  {
   "cell_type": "markdown",
   "metadata": {},
   "source": [
    "#### Check and fix data error (if any)"
   ]
  },
  {
   "cell_type": "code",
   "execution_count": 10,
   "metadata": {},
   "outputs": [
    {
     "data": {
      "text/html": [
       "<dl class=dl-horizontal>\n",
       "\t<dt>client_id</dt>\n",
       "\t\t<dd>0</dd>\n",
       "\t<dt>age</dt>\n",
       "\t\t<dd>0</dd>\n",
       "\t<dt>job</dt>\n",
       "\t\t<dd>0</dd>\n",
       "\t<dt>marital</dt>\n",
       "\t\t<dd>0</dd>\n",
       "\t<dt>education</dt>\n",
       "\t\t<dd>0</dd>\n",
       "\t<dt>default</dt>\n",
       "\t\t<dd>0</dd>\n",
       "\t<dt>housing</dt>\n",
       "\t\t<dd>0</dd>\n",
       "\t<dt>loan</dt>\n",
       "\t\t<dd>0</dd>\n",
       "\t<dt>contact</dt>\n",
       "\t\t<dd>0</dd>\n",
       "\t<dt>month</dt>\n",
       "\t\t<dd>0</dd>\n",
       "\t<dt>day_of_week</dt>\n",
       "\t\t<dd>0</dd>\n",
       "\t<dt>campaign</dt>\n",
       "\t\t<dd>0</dd>\n",
       "\t<dt>pdays</dt>\n",
       "\t\t<dd>0</dd>\n",
       "\t<dt>previous</dt>\n",
       "\t\t<dd>0</dd>\n",
       "\t<dt>poutcome</dt>\n",
       "\t\t<dd>0</dd>\n",
       "\t<dt>emp.var.rate</dt>\n",
       "\t\t<dd>0</dd>\n",
       "\t<dt>cons.price.idx</dt>\n",
       "\t\t<dd>0</dd>\n",
       "\t<dt>cons.conf.idx</dt>\n",
       "\t\t<dd>0</dd>\n",
       "\t<dt>euribor3m</dt>\n",
       "\t\t<dd>0</dd>\n",
       "\t<dt>nr.employed</dt>\n",
       "\t\t<dd>0</dd>\n",
       "\t<dt>subscribe</dt>\n",
       "\t\t<dd>0</dd>\n",
       "</dl>\n"
      ],
      "text/latex": [
       "\\begin{description*}\n",
       "\\item[client\\textbackslash{}\\_id] 0\n",
       "\\item[age] 0\n",
       "\\item[job] 0\n",
       "\\item[marital] 0\n",
       "\\item[education] 0\n",
       "\\item[default] 0\n",
       "\\item[housing] 0\n",
       "\\item[loan] 0\n",
       "\\item[contact] 0\n",
       "\\item[month] 0\n",
       "\\item[day\\textbackslash{}\\_of\\textbackslash{}\\_week] 0\n",
       "\\item[campaign] 0\n",
       "\\item[pdays] 0\n",
       "\\item[previous] 0\n",
       "\\item[poutcome] 0\n",
       "\\item[emp.var.rate] 0\n",
       "\\item[cons.price.idx] 0\n",
       "\\item[cons.conf.idx] 0\n",
       "\\item[euribor3m] 0\n",
       "\\item[nr.employed] 0\n",
       "\\item[subscribe] 0\n",
       "\\end{description*}\n"
      ],
      "text/markdown": [
       "client_id\n",
       ":   0age\n",
       ":   0job\n",
       ":   0marital\n",
       ":   0education\n",
       ":   0default\n",
       ":   0housing\n",
       ":   0loan\n",
       ":   0contact\n",
       ":   0month\n",
       ":   0day_of_week\n",
       ":   0campaign\n",
       ":   0pdays\n",
       ":   0previous\n",
       ":   0poutcome\n",
       ":   0emp.var.rate\n",
       ":   0cons.price.idx\n",
       ":   0cons.conf.idx\n",
       ":   0euribor3m\n",
       ":   0nr.employed\n",
       ":   0subscribe\n",
       ":   0\n",
       "\n"
      ],
      "text/plain": [
       "     client_id            age            job        marital      education \n",
       "             0              0              0              0              0 \n",
       "       default        housing           loan        contact          month \n",
       "             0              0              0              0              0 \n",
       "   day_of_week       campaign          pdays       previous       poutcome \n",
       "             0              0              0              0              0 \n",
       "  emp.var.rate cons.price.idx  cons.conf.idx      euribor3m    nr.employed \n",
       "             0              0              0              0              0 \n",
       "     subscribe \n",
       "             0 "
      ]
     },
     "metadata": {},
     "output_type": "display_data"
    }
   ],
   "source": [
    "# Check missing value\n",
    "apply(is.na(train_fullTh ), 2, sum)"
   ]
  },
  {
   "cell_type": "markdown",
   "metadata": {},
   "source": [
    "#### Check outliers"
   ]
  },
  {
   "cell_type": "code",
   "execution_count": 11,
   "metadata": {},
   "outputs": [
    {
     "name": "stderr",
     "output_type": "stream",
     "text": [
      "\n",
      "Attaching package: 'outliers'\n",
      "\n",
      "The following object is masked from 'package:randomForest':\n",
      "\n",
      "    outlier\n",
      "\n"
     ]
    },
    {
     "data": {
      "text/html": [
       "98"
      ],
      "text/latex": [
       "98"
      ],
      "text/markdown": [
       "98"
      ],
      "text/plain": [
       "[1] 98"
      ]
     },
     "metadata": {},
     "output_type": "display_data"
    }
   ],
   "source": [
    "# install.packages(\"outliers\")\n",
    "library(\"outliers\")\n",
    "outlier(train_full$age)"
   ]
  },
  {
   "cell_type": "code",
   "execution_count": 12,
   "metadata": {
    "scrolled": true
   },
   "outputs": [
    {
     "name": "stderr",
     "output_type": "stream",
     "text": [
      "Warning message:\n",
      "\"package 'psych' was built under R version 3.6.2\"\n",
      "Attaching package: 'psych'\n",
      "\n",
      "The following object is masked from 'package:outliers':\n",
      "\n",
      "    outlier\n",
      "\n",
      "The following object is masked from 'package:randomForest':\n",
      "\n",
      "    outlier\n",
      "\n",
      "The following objects are masked from 'package:ggplot2':\n",
      "\n",
      "    %+%, alpha\n",
      "\n"
     ]
    },
    {
     "data": {
      "text/html": [
       "<table>\n",
       "<thead><tr><th></th><th scope=col>vars</th><th scope=col>n</th><th scope=col>mean</th><th scope=col>sd</th><th scope=col>median</th><th scope=col>trimmed</th><th scope=col>mad</th><th scope=col>min</th><th scope=col>max</th><th scope=col>range</th><th scope=col>skew</th><th scope=col>kurtosis</th><th scope=col>se</th></tr></thead>\n",
       "<tbody>\n",
       "\t<tr><th scope=row>client_id</th><td> 1           </td><td>7000         </td><td>5002.60785714</td><td>2891.9901535 </td><td>5018.500     </td><td>5001.87285714</td><td>3725.0325000 </td><td>   2.000     </td><td>9998.000     </td><td>9996.000     </td><td> 0.004286773 </td><td>-1.2005890   </td><td>34.565893693 </td></tr>\n",
       "\t<tr><th scope=row>age</th><td> 2           </td><td>7000         </td><td>  40.34357143</td><td>  10.6024871 </td><td>  38.000     </td><td>  39.60107143</td><td>  10.3782000 </td><td>  18.000     </td><td>  98.000     </td><td>  80.000     </td><td> 0.822653018 </td><td> 0.9674292   </td><td> 0.126723959 </td></tr>\n",
       "\t<tr><th scope=row>job*</th><td> 3           </td><td>7000         </td><td>   4.74214286</td><td>   3.5794329 </td><td>   3.000     </td><td>   4.50375000</td><td>   2.9652000 </td><td>   1.000     </td><td>  12.000     </td><td>  11.000     </td><td> 0.438387413 </td><td>-1.3953122   </td><td> 0.042782406 </td></tr>\n",
       "\t<tr><th scope=row>marital*</th><td> 4           </td><td>7000         </td><td>   2.16942857</td><td>   0.5996925 </td><td>   2.000     </td><td>   2.21035714</td><td>   0.0000000 </td><td>   1.000     </td><td>   4.000     </td><td>   3.000     </td><td>-0.052613827 </td><td>-0.3175492   </td><td> 0.007167696 </td></tr>\n",
       "\t<tr><th scope=row>education*</th><td> 5           </td><td>7000         </td><td>   4.77185714</td><td>   2.1353225 </td><td>   4.000     </td><td>   4.91214286</td><td>   2.9652000 </td><td>   1.000     </td><td>   8.000     </td><td>   7.000     </td><td>-0.257946129 </td><td>-1.1959371   </td><td> 0.025521986 </td></tr>\n",
       "\t<tr><th scope=row>default*</th><td> 6           </td><td>7000         </td><td>   1.20414286</td><td>   0.4031027 </td><td>   1.000     </td><td>   1.13017857</td><td>   0.0000000 </td><td>   1.000     </td><td>   2.000     </td><td>   1.000     </td><td> 1.467689986 </td><td> 0.1541360   </td><td> 0.004817998 </td></tr>\n",
       "\t<tr><th scope=row>housing*</th><td> 7           </td><td>7000         </td><td>   2.06442857</td><td>   0.9856770 </td><td>   3.000     </td><td>   2.08053571</td><td>   0.0000000 </td><td>   1.000     </td><td>   3.000     </td><td>   2.000     </td><td>-0.129067394 </td><td>-1.9583801   </td><td> 0.011781094 </td></tr>\n",
       "\t<tr><th scope=row>loan*</th><td> 8           </td><td>7000         </td><td>   1.31671429</td><td>   0.7132775 </td><td>   1.000     </td><td>   1.14589286</td><td>   0.0000000 </td><td>   1.000     </td><td>   3.000     </td><td>   2.000     </td><td> 1.869634180 </td><td> 1.5857008   </td><td> 0.008525296 </td></tr>\n",
       "\t<tr><th scope=row>contact*</th><td> 9           </td><td>7000         </td><td>   1.35971429</td><td>   0.4799509 </td><td>   1.000     </td><td>   1.32464286</td><td>   0.0000000 </td><td>   1.000     </td><td>   2.000     </td><td>   1.000     </td><td> 0.584500147 </td><td>-1.6585965   </td><td> 0.005736510 </td></tr>\n",
       "\t<tr><th scope=row>month*</th><td>10           </td><td>7000         </td><td>   5.24871429</td><td>   2.3338330 </td><td>   5.000     </td><td>   5.32642857</td><td>   2.9652000 </td><td>   1.000     </td><td>  10.000     </td><td>   9.000     </td><td>-0.299013583 </td><td>-1.0127403   </td><td> 0.027894640 </td></tr>\n",
       "\t<tr><th scope=row>day_of_week*</th><td>11           </td><td>7000         </td><td>   3.02014286</td><td>   1.3988831 </td><td>   3.000     </td><td>   3.02517857</td><td>   1.4826000 </td><td>   1.000     </td><td>   5.000     </td><td>   4.000     </td><td>-0.012978591 </td><td>-1.2749168   </td><td> 0.016719851 </td></tr>\n",
       "\t<tr><th scope=row>campaign</th><td>12           </td><td>7000         </td><td>   1.55500000</td><td>   2.6315055 </td><td>   1.000     </td><td>   0.99910714</td><td>   1.4826000 </td><td>   0.000     </td><td>  32.000     </td><td>  32.000     </td><td> 4.160547700 </td><td>26.5522882   </td><td> 0.031452507 </td></tr>\n",
       "\t<tr><th scope=row>pdays</th><td>13           </td><td>7000         </td><td> 962.26442857</td><td> 187.4276625 </td><td> 999.000     </td><td> 999.00000000</td><td>   0.0000000 </td><td>   0.000     </td><td> 999.000     </td><td> 999.000     </td><td>-4.904734224 </td><td>22.0600271   </td><td> 2.240189044 </td></tr>\n",
       "\t<tr><th scope=row>previous</th><td>14           </td><td>7000         </td><td>   0.17614286</td><td>   0.4965686 </td><td>   0.000     </td><td>   0.04982143</td><td>   0.0000000 </td><td>   0.000     </td><td>   6.000     </td><td>   6.000     </td><td> 3.767054784 </td><td>19.4431201   </td><td> 0.005935130 </td></tr>\n",
       "\t<tr><th scope=row>poutcome*</th><td>15           </td><td>7000         </td><td>   1.92614286</td><td>   0.3666353 </td><td>   2.000     </td><td>   1.99142857</td><td>   0.0000000 </td><td>   1.000     </td><td>   3.000     </td><td>   2.000     </td><td>-0.886187415 </td><td> 3.7809451   </td><td> 0.004382130 </td></tr>\n",
       "\t<tr><th scope=row>emp.var.rate</th><td>16           </td><td>7000         </td><td>   0.04881429</td><td>   1.5878130 </td><td>   1.100     </td><td>   0.23405357</td><td>   0.4447800 </td><td>  -3.400     </td><td>   1.400     </td><td>   4.800     </td><td>-0.694219113 </td><td>-1.1032336   </td><td> 0.018977995 </td></tr>\n",
       "\t<tr><th scope=row>cons.price.idx</th><td>17           </td><td>7000         </td><td>  93.56868986</td><td>   0.5829994 </td><td>  93.444     </td><td>  93.57442946</td><td>   0.8154300 </td><td>  92.201     </td><td>  94.767     </td><td>   2.566     </td><td>-0.228388905 </td><td>-0.8438292   </td><td> 0.006968175 </td></tr>\n",
       "\t<tr><th scope=row>cons.conf.idx</th><td>18           </td><td>7000         </td><td> -40.47275714</td><td>   4.6829851 </td><td> -41.800     </td><td> -40.59971429</td><td>   6.5234400 </td><td> -50.800     </td><td> -26.900     </td><td>  23.900     </td><td> 0.333920059 </td><td>-0.3153432   </td><td> 0.055972378 </td></tr>\n",
       "\t<tr><th scope=row>euribor3m</th><td>19           </td><td>7000         </td><td>   3.58687614</td><td>   1.7488719 </td><td>   4.857     </td><td>   3.76443143</td><td>   0.1601208 </td><td>   0.634     </td><td>   5.045     </td><td>   4.411     </td><td>-0.669202310 </td><td>-1.4640703   </td><td> 0.020903018 </td></tr>\n",
       "\t<tr><th scope=row>nr.employed</th><td>20           </td><td>7000         </td><td>5165.42015714</td><td>  73.3050028 </td><td>5191.000     </td><td>5176.93112500</td><td>  55.0044600 </td><td>4963.600     </td><td>5228.100     </td><td> 264.500     </td><td>-1.009506512 </td><td>-0.1018737   </td><td> 0.876162365 </td></tr>\n",
       "\t<tr><th scope=row>subscribe</th><td>21           </td><td>7000         </td><td>   0.11742857</td><td>   0.3219533 </td><td>   0.000     </td><td>   0.02178571</td><td>   0.0000000 </td><td>   0.000     </td><td>   1.000     </td><td>   1.000     </td><td> 2.376225422 </td><td> 3.6469683   </td><td> 0.003848078 </td></tr>\n",
       "</tbody>\n",
       "</table>\n"
      ],
      "text/latex": [
       "\\begin{tabular}{r|lllllllllllll}\n",
       "  & vars & n & mean & sd & median & trimmed & mad & min & max & range & skew & kurtosis & se\\\\\n",
       "\\hline\n",
       "\tclient\\_id &  1            & 7000          & 5002.60785714 & 2891.9901535  & 5018.500      & 5001.87285714 & 3725.0325000  &    2.000      & 9998.000      & 9996.000      &  0.004286773  & -1.2005890    & 34.565893693 \\\\\n",
       "\tage &  2            & 7000          &   40.34357143 &   10.6024871  &   38.000      &   39.60107143 &   10.3782000  &   18.000      &   98.000      &   80.000      &  0.822653018  &  0.9674292    &  0.126723959 \\\\\n",
       "\tjob* &  3            & 7000          &    4.74214286 &    3.5794329  &    3.000      &    4.50375000 &    2.9652000  &    1.000      &   12.000      &   11.000      &  0.438387413  & -1.3953122    &  0.042782406 \\\\\n",
       "\tmarital* &  4            & 7000          &    2.16942857 &    0.5996925  &    2.000      &    2.21035714 &    0.0000000  &    1.000      &    4.000      &    3.000      & -0.052613827  & -0.3175492    &  0.007167696 \\\\\n",
       "\teducation* &  5            & 7000          &    4.77185714 &    2.1353225  &    4.000      &    4.91214286 &    2.9652000  &    1.000      &    8.000      &    7.000      & -0.257946129  & -1.1959371    &  0.025521986 \\\\\n",
       "\tdefault* &  6            & 7000          &    1.20414286 &    0.4031027  &    1.000      &    1.13017857 &    0.0000000  &    1.000      &    2.000      &    1.000      &  1.467689986  &  0.1541360    &  0.004817998 \\\\\n",
       "\thousing* &  7            & 7000          &    2.06442857 &    0.9856770  &    3.000      &    2.08053571 &    0.0000000  &    1.000      &    3.000      &    2.000      & -0.129067394  & -1.9583801    &  0.011781094 \\\\\n",
       "\tloan* &  8            & 7000          &    1.31671429 &    0.7132775  &    1.000      &    1.14589286 &    0.0000000  &    1.000      &    3.000      &    2.000      &  1.869634180  &  1.5857008    &  0.008525296 \\\\\n",
       "\tcontact* &  9            & 7000          &    1.35971429 &    0.4799509  &    1.000      &    1.32464286 &    0.0000000  &    1.000      &    2.000      &    1.000      &  0.584500147  & -1.6585965    &  0.005736510 \\\\\n",
       "\tmonth* & 10            & 7000          &    5.24871429 &    2.3338330  &    5.000      &    5.32642857 &    2.9652000  &    1.000      &   10.000      &    9.000      & -0.299013583  & -1.0127403    &  0.027894640 \\\\\n",
       "\tday\\_of\\_week* & 11            & 7000          &    3.02014286 &    1.3988831  &    3.000      &    3.02517857 &    1.4826000  &    1.000      &    5.000      &    4.000      & -0.012978591  & -1.2749168    &  0.016719851 \\\\\n",
       "\tcampaign & 12            & 7000          &    1.55500000 &    2.6315055  &    1.000      &    0.99910714 &    1.4826000  &    0.000      &   32.000      &   32.000      &  4.160547700  & 26.5522882    &  0.031452507 \\\\\n",
       "\tpdays & 13            & 7000          &  962.26442857 &  187.4276625  &  999.000      &  999.00000000 &    0.0000000  &    0.000      &  999.000      &  999.000      & -4.904734224  & 22.0600271    &  2.240189044 \\\\\n",
       "\tprevious & 14            & 7000          &    0.17614286 &    0.4965686  &    0.000      &    0.04982143 &    0.0000000  &    0.000      &    6.000      &    6.000      &  3.767054784  & 19.4431201    &  0.005935130 \\\\\n",
       "\tpoutcome* & 15            & 7000          &    1.92614286 &    0.3666353  &    2.000      &    1.99142857 &    0.0000000  &    1.000      &    3.000      &    2.000      & -0.886187415  &  3.7809451    &  0.004382130 \\\\\n",
       "\temp.var.rate & 16            & 7000          &    0.04881429 &    1.5878130  &    1.100      &    0.23405357 &    0.4447800  &   -3.400      &    1.400      &    4.800      & -0.694219113  & -1.1032336    &  0.018977995 \\\\\n",
       "\tcons.price.idx & 17            & 7000          &   93.56868986 &    0.5829994  &   93.444      &   93.57442946 &    0.8154300  &   92.201      &   94.767      &    2.566      & -0.228388905  & -0.8438292    &  0.006968175 \\\\\n",
       "\tcons.conf.idx & 18            & 7000          &  -40.47275714 &    4.6829851  &  -41.800      &  -40.59971429 &    6.5234400  &  -50.800      &  -26.900      &   23.900      &  0.333920059  & -0.3153432    &  0.055972378 \\\\\n",
       "\teuribor3m & 19            & 7000          &    3.58687614 &    1.7488719  &    4.857      &    3.76443143 &    0.1601208  &    0.634      &    5.045      &    4.411      & -0.669202310  & -1.4640703    &  0.020903018 \\\\\n",
       "\tnr.employed & 20            & 7000          & 5165.42015714 &   73.3050028  & 5191.000      & 5176.93112500 &   55.0044600  & 4963.600      & 5228.100      &  264.500      & -1.009506512  & -0.1018737    &  0.876162365 \\\\\n",
       "\tsubscribe & 21            & 7000          &    0.11742857 &    0.3219533  &    0.000      &    0.02178571 &    0.0000000  &    0.000      &    1.000      &    1.000      &  2.376225422  &  3.6469683    &  0.003848078 \\\\\n",
       "\\end{tabular}\n"
      ],
      "text/markdown": [
       "\n",
       "| <!--/--> | vars | n | mean | sd | median | trimmed | mad | min | max | range | skew | kurtosis | se |\n",
       "|---|---|---|---|---|---|---|---|---|---|---|---|---|---|\n",
       "| client_id |  1            | 7000          | 5002.60785714 | 2891.9901535  | 5018.500      | 5001.87285714 | 3725.0325000  |    2.000      | 9998.000      | 9996.000      |  0.004286773  | -1.2005890    | 34.565893693  |\n",
       "| age |  2            | 7000          |   40.34357143 |   10.6024871  |   38.000      |   39.60107143 |   10.3782000  |   18.000      |   98.000      |   80.000      |  0.822653018  |  0.9674292    |  0.126723959  |\n",
       "| job* |  3            | 7000          |    4.74214286 |    3.5794329  |    3.000      |    4.50375000 |    2.9652000  |    1.000      |   12.000      |   11.000      |  0.438387413  | -1.3953122    |  0.042782406  |\n",
       "| marital* |  4            | 7000          |    2.16942857 |    0.5996925  |    2.000      |    2.21035714 |    0.0000000  |    1.000      |    4.000      |    3.000      | -0.052613827  | -0.3175492    |  0.007167696  |\n",
       "| education* |  5            | 7000          |    4.77185714 |    2.1353225  |    4.000      |    4.91214286 |    2.9652000  |    1.000      |    8.000      |    7.000      | -0.257946129  | -1.1959371    |  0.025521986  |\n",
       "| default* |  6            | 7000          |    1.20414286 |    0.4031027  |    1.000      |    1.13017857 |    0.0000000  |    1.000      |    2.000      |    1.000      |  1.467689986  |  0.1541360    |  0.004817998  |\n",
       "| housing* |  7            | 7000          |    2.06442857 |    0.9856770  |    3.000      |    2.08053571 |    0.0000000  |    1.000      |    3.000      |    2.000      | -0.129067394  | -1.9583801    |  0.011781094  |\n",
       "| loan* |  8            | 7000          |    1.31671429 |    0.7132775  |    1.000      |    1.14589286 |    0.0000000  |    1.000      |    3.000      |    2.000      |  1.869634180  |  1.5857008    |  0.008525296  |\n",
       "| contact* |  9            | 7000          |    1.35971429 |    0.4799509  |    1.000      |    1.32464286 |    0.0000000  |    1.000      |    2.000      |    1.000      |  0.584500147  | -1.6585965    |  0.005736510  |\n",
       "| month* | 10            | 7000          |    5.24871429 |    2.3338330  |    5.000      |    5.32642857 |    2.9652000  |    1.000      |   10.000      |    9.000      | -0.299013583  | -1.0127403    |  0.027894640  |\n",
       "| day_of_week* | 11            | 7000          |    3.02014286 |    1.3988831  |    3.000      |    3.02517857 |    1.4826000  |    1.000      |    5.000      |    4.000      | -0.012978591  | -1.2749168    |  0.016719851  |\n",
       "| campaign | 12            | 7000          |    1.55500000 |    2.6315055  |    1.000      |    0.99910714 |    1.4826000  |    0.000      |   32.000      |   32.000      |  4.160547700  | 26.5522882    |  0.031452507  |\n",
       "| pdays | 13            | 7000          |  962.26442857 |  187.4276625  |  999.000      |  999.00000000 |    0.0000000  |    0.000      |  999.000      |  999.000      | -4.904734224  | 22.0600271    |  2.240189044  |\n",
       "| previous | 14            | 7000          |    0.17614286 |    0.4965686  |    0.000      |    0.04982143 |    0.0000000  |    0.000      |    6.000      |    6.000      |  3.767054784  | 19.4431201    |  0.005935130  |\n",
       "| poutcome* | 15            | 7000          |    1.92614286 |    0.3666353  |    2.000      |    1.99142857 |    0.0000000  |    1.000      |    3.000      |    2.000      | -0.886187415  |  3.7809451    |  0.004382130  |\n",
       "| emp.var.rate | 16            | 7000          |    0.04881429 |    1.5878130  |    1.100      |    0.23405357 |    0.4447800  |   -3.400      |    1.400      |    4.800      | -0.694219113  | -1.1032336    |  0.018977995  |\n",
       "| cons.price.idx | 17            | 7000          |   93.56868986 |    0.5829994  |   93.444      |   93.57442946 |    0.8154300  |   92.201      |   94.767      |    2.566      | -0.228388905  | -0.8438292    |  0.006968175  |\n",
       "| cons.conf.idx | 18            | 7000          |  -40.47275714 |    4.6829851  |  -41.800      |  -40.59971429 |    6.5234400  |  -50.800      |  -26.900      |   23.900      |  0.333920059  | -0.3153432    |  0.055972378  |\n",
       "| euribor3m | 19            | 7000          |    3.58687614 |    1.7488719  |    4.857      |    3.76443143 |    0.1601208  |    0.634      |    5.045      |    4.411      | -0.669202310  | -1.4640703    |  0.020903018  |\n",
       "| nr.employed | 20            | 7000          | 5165.42015714 |   73.3050028  | 5191.000      | 5176.93112500 |   55.0044600  | 4963.600      | 5228.100      |  264.500      | -1.009506512  | -0.1018737    |  0.876162365  |\n",
       "| subscribe | 21            | 7000          |    0.11742857 |    0.3219533  |    0.000      |    0.02178571 |    0.0000000  |    0.000      |    1.000      |    1.000      |  2.376225422  |  3.6469683    |  0.003848078  |\n",
       "\n"
      ],
      "text/plain": [
       "               vars n    mean          sd           median   trimmed      \n",
       "client_id       1   7000 5002.60785714 2891.9901535 5018.500 5001.87285714\n",
       "age             2   7000   40.34357143   10.6024871   38.000   39.60107143\n",
       "job*            3   7000    4.74214286    3.5794329    3.000    4.50375000\n",
       "marital*        4   7000    2.16942857    0.5996925    2.000    2.21035714\n",
       "education*      5   7000    4.77185714    2.1353225    4.000    4.91214286\n",
       "default*        6   7000    1.20414286    0.4031027    1.000    1.13017857\n",
       "housing*        7   7000    2.06442857    0.9856770    3.000    2.08053571\n",
       "loan*           8   7000    1.31671429    0.7132775    1.000    1.14589286\n",
       "contact*        9   7000    1.35971429    0.4799509    1.000    1.32464286\n",
       "month*         10   7000    5.24871429    2.3338330    5.000    5.32642857\n",
       "day_of_week*   11   7000    3.02014286    1.3988831    3.000    3.02517857\n",
       "campaign       12   7000    1.55500000    2.6315055    1.000    0.99910714\n",
       "pdays          13   7000  962.26442857  187.4276625  999.000  999.00000000\n",
       "previous       14   7000    0.17614286    0.4965686    0.000    0.04982143\n",
       "poutcome*      15   7000    1.92614286    0.3666353    2.000    1.99142857\n",
       "emp.var.rate   16   7000    0.04881429    1.5878130    1.100    0.23405357\n",
       "cons.price.idx 17   7000   93.56868986    0.5829994   93.444   93.57442946\n",
       "cons.conf.idx  18   7000  -40.47275714    4.6829851  -41.800  -40.59971429\n",
       "euribor3m      19   7000    3.58687614    1.7488719    4.857    3.76443143\n",
       "nr.employed    20   7000 5165.42015714   73.3050028 5191.000 5176.93112500\n",
       "subscribe      21   7000    0.11742857    0.3219533    0.000    0.02178571\n",
       "               mad          min      max      range    skew         kurtosis  \n",
       "client_id      3725.0325000    2.000 9998.000 9996.000  0.004286773 -1.2005890\n",
       "age              10.3782000   18.000   98.000   80.000  0.822653018  0.9674292\n",
       "job*              2.9652000    1.000   12.000   11.000  0.438387413 -1.3953122\n",
       "marital*          0.0000000    1.000    4.000    3.000 -0.052613827 -0.3175492\n",
       "education*        2.9652000    1.000    8.000    7.000 -0.257946129 -1.1959371\n",
       "default*          0.0000000    1.000    2.000    1.000  1.467689986  0.1541360\n",
       "housing*          0.0000000    1.000    3.000    2.000 -0.129067394 -1.9583801\n",
       "loan*             0.0000000    1.000    3.000    2.000  1.869634180  1.5857008\n",
       "contact*          0.0000000    1.000    2.000    1.000  0.584500147 -1.6585965\n",
       "month*            2.9652000    1.000   10.000    9.000 -0.299013583 -1.0127403\n",
       "day_of_week*      1.4826000    1.000    5.000    4.000 -0.012978591 -1.2749168\n",
       "campaign          1.4826000    0.000   32.000   32.000  4.160547700 26.5522882\n",
       "pdays             0.0000000    0.000  999.000  999.000 -4.904734224 22.0600271\n",
       "previous          0.0000000    0.000    6.000    6.000  3.767054784 19.4431201\n",
       "poutcome*         0.0000000    1.000    3.000    2.000 -0.886187415  3.7809451\n",
       "emp.var.rate      0.4447800   -3.400    1.400    4.800 -0.694219113 -1.1032336\n",
       "cons.price.idx    0.8154300   92.201   94.767    2.566 -0.228388905 -0.8438292\n",
       "cons.conf.idx     6.5234400  -50.800  -26.900   23.900  0.333920059 -0.3153432\n",
       "euribor3m         0.1601208    0.634    5.045    4.411 -0.669202310 -1.4640703\n",
       "nr.employed      55.0044600 4963.600 5228.100  264.500 -1.009506512 -0.1018737\n",
       "subscribe         0.0000000    0.000    1.000    1.000  2.376225422  3.6469683\n",
       "               se          \n",
       "client_id      34.565893693\n",
       "age             0.126723959\n",
       "job*            0.042782406\n",
       "marital*        0.007167696\n",
       "education*      0.025521986\n",
       "default*        0.004817998\n",
       "housing*        0.011781094\n",
       "loan*           0.008525296\n",
       "contact*        0.005736510\n",
       "month*          0.027894640\n",
       "day_of_week*    0.016719851\n",
       "campaign        0.031452507\n",
       "pdays           2.240189044\n",
       "previous        0.005935130\n",
       "poutcome*       0.004382130\n",
       "emp.var.rate    0.018977995\n",
       "cons.price.idx  0.006968175\n",
       "cons.conf.idx   0.055972378\n",
       "euribor3m       0.020903018\n",
       "nr.employed     0.876162365\n",
       "subscribe       0.003848078"
      ]
     },
     "metadata": {},
     "output_type": "display_data"
    }
   ],
   "source": [
    "library(psych)\n",
    "describe(train_full)"
   ]
  },
  {
   "cell_type": "markdown",
   "metadata": {},
   "source": [
    "So, when is the skewness too much?  The rule of thumb seems to be:\n",
    "\n",
    "* If the skewness is between -0.5 and 0.5, the data are fairly symmetrical\n",
    "* If the skewness is between -1 and – 0.5 or between 0.5 and 1, the data are moderately skewed\n",
    "* If the skewness is less than -1 or greater than 1, the data are highly skewed\n"
   ]
  },
  {
   "cell_type": "markdown",
   "metadata": {},
   "source": [
    "Kurtosis:\n",
    "\n",
    "* Mesokurtic: This distribution has kurtosis statistic similar to that of the normal distribution. It means that the extreme values of the distribution are similar to that of a normal distribution characteristic. This definition is used so that the standard normal distribution has a kurtosis of three.\n",
    "* Leptokurtic (Kurtosis > 3): Distribution is longer, tails are fatter. Peak is higher and sharper than Mesokurtic, which means that data are heavy-tailed or profusion of outliers.\n",
    "Outliers stretch the horizontal axis of the histogram graph, which makes the bulk of the data appear in a narrow (“skinny”) vertical range, thereby giving the “skinniness” of a leptokurtic distribution.\n",
    "* Platykurtic: (Kurtosis < 3): Distribution is shorter, tails are thinner than the normal distribution. The peak is lower and broader than Mesokurtic, which means that data are light-tailed or lack of outliers.\n",
    "The reason for this is because the extreme values are less than that of the normal distribution."
   ]
  },
  {
   "cell_type": "markdown",
   "metadata": {},
   "source": [
    "We can observe that the following variables that are highly skewed\n",
    "* default, loan, campaign, pdays, previous, nr.employed, subscribe\n",
    "\n",
    "We observe that the variable with a high kurtosis are the following:\n",
    "* campaign, pdays, previous\t"
   ]
  },
  {
   "cell_type": "markdown",
   "metadata": {},
   "source": [
    "#### Split train (full) data into train, valid, test (60:20:20)"
   ]
  },
  {
   "cell_type": "code",
   "execution_count": 13,
   "metadata": {},
   "outputs": [],
   "source": [
    "set.seed(1)\n",
    "\n",
    "train_idx <- caret::createDataPartition(y=train_full[, 'subscribe'], p=.6, list=F)\n",
    "train <- train_full[train_idx, ]  # Train 60%\n",
    "valid_test <- train_full[-train_idx, ]  # Valid + Test 40%\n",
    "\n",
    "valid_idx <- caret::createDataPartition(y=valid_test[, 'subscribe'], p=.5, list=F)\n",
    "valid <- valid_test[valid_idx, ]  # Valid 20%\n",
    "test <- valid_test[-valid_idx, ]  # Test 20%"
   ]
  },
  {
   "cell_type": "markdown",
   "metadata": {},
   "source": [
    "#### Check the target variable class distribution"
   ]
  },
  {
   "cell_type": "code",
   "execution_count": 14,
   "metadata": {},
   "outputs": [
    {
     "data": {
      "text/plain": [
       "\n",
       "   0    1 \n",
       "3721  479 "
      ]
     },
     "metadata": {},
     "output_type": "display_data"
    },
    {
     "data": {
      "text/plain": [
       "\n",
       "   0    1 \n",
       "1247  153 "
      ]
     },
     "metadata": {},
     "output_type": "display_data"
    },
    {
     "data": {
      "text/plain": [
       "\n",
       "   0    1 \n",
       "1210  190 "
      ]
     },
     "metadata": {},
     "output_type": "display_data"
    }
   ],
   "source": [
    "# By number\n",
    "table(train$subscribe)\n",
    "table(valid$subscribe)\n",
    "table(test$subscribe)"
   ]
  },
  {
   "cell_type": "code",
   "execution_count": 15,
   "metadata": {},
   "outputs": [
    {
     "data": {
      "text/plain": [
       "\n",
       "        0         1 \n",
       "0.8859524 0.1140476 "
      ]
     },
     "metadata": {},
     "output_type": "display_data"
    },
    {
     "data": {
      "text/plain": [
       "\n",
       "        0         1 \n",
       "0.8907143 0.1092857 "
      ]
     },
     "metadata": {},
     "output_type": "display_data"
    },
    {
     "data": {
      "text/plain": [
       "\n",
       "        0         1 \n",
       "0.8642857 0.1357143 "
      ]
     },
     "metadata": {},
     "output_type": "display_data"
    }
   ],
   "source": [
    "# By percentage\n",
    "table(train$subscribe) / nrow(train)\n",
    "table(valid$subscribe) / nrow(valid)\n",
    "table(test$subscribe) / nrow(test)"
   ]
  },
  {
   "cell_type": "markdown",
   "metadata": {},
   "source": [
    "#### Simply check which variables are potentially important\n",
    "\n",
    "Note: Running this permutation algorithm may take some time."
   ]
  },
  {
   "cell_type": "code",
   "execution_count": 16,
   "metadata": {},
   "outputs": [],
   "source": [
    "# PIMP-Algorithm For The Permutation Variable Importance Measure\n",
    "# https://cran.r-project.org/web/packages/vita/vita.pdf\n",
    "X <- train[, 2:(ncol(train)-1)]\n",
    "y <- as.factor(train[, 'subscribe'])\n",
    "rf_model <- randomForest(X, y, mtry=3, ntree=100, importance=T, seed=1)\n",
    "pimp_varImp <- PIMP(X, y, rf_model, S=10, parallel=F, seed=123)"
   ]
  },
  {
   "cell_type": "code",
   "execution_count": 17,
   "metadata": {},
   "outputs": [
    {
     "data": {
      "text/html": [
       "<dl class=dl-horizontal>\n",
       "\t<dt>month</dt>\n",
       "\t\t<dd>0.0439019024108637</dd>\n",
       "\t<dt>euribor3m</dt>\n",
       "\t\t<dd>0.0353360324336437</dd>\n",
       "\t<dt>emp.var.rate</dt>\n",
       "\t\t<dd>0.0276972976097451</dd>\n",
       "\t<dt>nr.employed</dt>\n",
       "\t\t<dd>0.0269144391913644</dd>\n",
       "\t<dt>cons.price.idx</dt>\n",
       "\t\t<dd>0.02533161014393</dd>\n",
       "\t<dt>cons.conf.idx</dt>\n",
       "\t\t<dd>0.0241773645454122</dd>\n",
       "\t<dt>job</dt>\n",
       "\t\t<dd>0.00702391418911149</dd>\n",
       "\t<dt>age</dt>\n",
       "\t\t<dd>0.0053797729663522</dd>\n",
       "\t<dt>education</dt>\n",
       "\t\t<dd>0.00331095577112139</dd>\n",
       "\t<dt>poutcome</dt>\n",
       "\t\t<dd>0.00313731673609587</dd>\n",
       "\t<dt>day_of_week</dt>\n",
       "\t\t<dd>0.00176998806329924</dd>\n",
       "\t<dt>contact</dt>\n",
       "\t\t<dd>0.00164554427311226</dd>\n",
       "\t<dt>previous</dt>\n",
       "\t\t<dd>0.00162039179248673</dd>\n",
       "\t<dt>marital</dt>\n",
       "\t\t<dd>0.00124804659674341</dd>\n",
       "\t<dt>pdays</dt>\n",
       "\t\t<dd>0.000999405012347407</dd>\n",
       "\t<dt>default</dt>\n",
       "\t\t<dd>0.000487367151322942</dd>\n",
       "\t<dt>loan</dt>\n",
       "\t\t<dd>-1.7359642664433e-05</dd>\n",
       "\t<dt>housing</dt>\n",
       "\t\t<dd>-0.000276515193546284</dd>\n",
       "\t<dt>campaign</dt>\n",
       "\t\t<dd>-0.000648275618301422</dd>\n",
       "</dl>\n"
      ],
      "text/latex": [
       "\\begin{description*}\n",
       "\\item[month] 0.0439019024108637\n",
       "\\item[euribor3m] 0.0353360324336437\n",
       "\\item[emp.var.rate] 0.0276972976097451\n",
       "\\item[nr.employed] 0.0269144391913644\n",
       "\\item[cons.price.idx] 0.02533161014393\n",
       "\\item[cons.conf.idx] 0.0241773645454122\n",
       "\\item[job] 0.00702391418911149\n",
       "\\item[age] 0.0053797729663522\n",
       "\\item[education] 0.00331095577112139\n",
       "\\item[poutcome] 0.00313731673609587\n",
       "\\item[day\\textbackslash{}\\_of\\textbackslash{}\\_week] 0.00176998806329924\n",
       "\\item[contact] 0.00164554427311226\n",
       "\\item[previous] 0.00162039179248673\n",
       "\\item[marital] 0.00124804659674341\n",
       "\\item[pdays] 0.000999405012347407\n",
       "\\item[default] 0.000487367151322942\n",
       "\\item[loan] -1.7359642664433e-05\n",
       "\\item[housing] -0.000276515193546284\n",
       "\\item[campaign] -0.000648275618301422\n",
       "\\end{description*}\n"
      ],
      "text/markdown": [
       "month\n",
       ":   0.0439019024108637euribor3m\n",
       ":   0.0353360324336437emp.var.rate\n",
       ":   0.0276972976097451nr.employed\n",
       ":   0.0269144391913644cons.price.idx\n",
       ":   0.02533161014393cons.conf.idx\n",
       ":   0.0241773645454122job\n",
       ":   0.00702391418911149age\n",
       ":   0.0053797729663522education\n",
       ":   0.00331095577112139poutcome\n",
       ":   0.00313731673609587day_of_week\n",
       ":   0.00176998806329924contact\n",
       ":   0.00164554427311226previous\n",
       ":   0.00162039179248673marital\n",
       ":   0.00124804659674341pdays\n",
       ":   0.000999405012347407default\n",
       ":   0.000487367151322942loan\n",
       ":   -1.7359642664433e-05housing\n",
       ":   -0.000276515193546284campaign\n",
       ":   -0.000648275618301422\n",
       "\n"
      ],
      "text/plain": [
       "         month      euribor3m   emp.var.rate    nr.employed cons.price.idx \n",
       "  4.390190e-02   3.533603e-02   2.769730e-02   2.691444e-02   2.533161e-02 \n",
       " cons.conf.idx            job            age      education       poutcome \n",
       "  2.417736e-02   7.023914e-03   5.379773e-03   3.310956e-03   3.137317e-03 \n",
       "   day_of_week        contact       previous        marital          pdays \n",
       "  1.769988e-03   1.645544e-03   1.620392e-03   1.248047e-03   9.994050e-04 \n",
       "       default           loan        housing       campaign \n",
       "  4.873672e-04  -1.735964e-05  -2.765152e-04  -6.482756e-04 "
      ]
     },
     "metadata": {},
     "output_type": "display_data"
    }
   ],
   "source": [
    "# Print out top most important variables\n",
    "pimp_varImp$VarImp[order(pimp_varImp$VarImp[, 1], decreasing=T), ]"
   ]
  },
  {
   "cell_type": "markdown",
   "metadata": {},
   "source": [
    "### 2.2. Feature engineering\n",
    "\n",
    "Hints:\n",
    "- Focus on the most important variables.\n",
    "- Create some framework for searching the new variables."
   ]
  },
  {
   "cell_type": "markdown",
   "metadata": {},
   "source": [
    "#### Add variable: month_spring"
   ]
  },
  {
   "cell_type": "code",
   "execution_count": 18,
   "metadata": {},
   "outputs": [],
   "source": [
    "# Add new variable to train and test (holdout)\n",
    "# Train, valid, test\n",
    "train[, 'month_spring'] <- as.logical(train$month %in% c('mar', 'apr', 'may'))\n",
    "valid[, 'month_spring'] <- as.logical(valid$month %in% c('mar', 'apr', 'may'))\n",
    "test[, 'month_spring'] <- as.logical(test$month %in% c('mar', 'apr', 'may'))\n",
    "# Test (holdout)\n",
    "test_holdout[, 'month_spring'] <- as.logical(test_holdout$month %in% c('mar', 'apr', 'may'))"
   ]
  },
  {
   "cell_type": "markdown",
   "metadata": {},
   "source": [
    "#### Add variable: month_summer"
   ]
  },
  {
   "cell_type": "code",
   "execution_count": 19,
   "metadata": {},
   "outputs": [],
   "source": [
    "# Add new variable to train and test (holdout)\n",
    "# Train, valid, test\n",
    "train[, 'month_summer'] <- as.logical(train$month %in% c('jun', 'jul', 'aug'))\n",
    "valid[, 'month_summer'] <- as.logical(valid$month %in% c('jun', 'jul', 'aug'))\n",
    "test[, 'month_summer'] <- as.logical(test$month %in% c('jun', 'jul', 'aug'))\n",
    "# Test (holdout)\n",
    "test_holdout[, 'month_summer'] <- as.logical(test_holdout$month %in% c('jun', 'jul', 'aug'))"
   ]
  },
  {
   "cell_type": "markdown",
   "metadata": {},
   "source": [
    "#### Add variable: month_autumn"
   ]
  },
  {
   "cell_type": "code",
   "execution_count": 20,
   "metadata": {},
   "outputs": [],
   "source": [
    "# Add new variable to train and test (holdout)\n",
    "# Train, valid, test\n",
    "train[, 'month_autumn'] <- as.logical(train$month %in% c('sep', 'oct', 'nov'))\n",
    "valid[, 'month_autumn'] <- as.logical(valid$month %in% c('sep', 'oct', 'nov'))\n",
    "test[, 'month_autumn'] <- as.logical(test$month %in% c('sep', 'oct', 'nov'))\n",
    "# Test (holdout)\n",
    "test_holdout[, 'month_autumn'] <- as.logical(test_holdout$month %in% c('sep', 'oct', 'nov'))"
   ]
  },
  {
   "cell_type": "markdown",
   "metadata": {},
   "source": [
    "#### Add variable: month_winter"
   ]
  },
  {
   "cell_type": "code",
   "execution_count": 21,
   "metadata": {},
   "outputs": [],
   "source": [
    "# Add new variable to train and test (holdout)\n",
    "# Train, valid, test\n",
    "train[, 'month_winter'] <- as.logical(train$month %in% c('dec', 'jan', 'feb'))\n",
    "valid[, 'month_winter'] <- as.logical(valid$month %in% c('dec', 'jan', 'feb'))\n",
    "test[, 'month_winter'] <- as.logical(test$month %in% c('dec', 'jan', 'feb'))\n",
    "# Test (holdout)\n",
    "test_holdout[, 'month_winter'] <- as.logical(test_holdout$month %in% c('dec', 'jan', 'feb'))"
   ]
  },
  {
   "cell_type": "markdown",
   "metadata": {},
   "source": [
    "#### Add variable: age > mean(age)"
   ]
  },
  {
   "cell_type": "code",
   "execution_count": 22,
   "metadata": {},
   "outputs": [],
   "source": [
    "# Add new variable to train and test (holdout)\n",
    "# Train, valid, test\n",
    "train[, 'age_ge_mean'] <- as.logical(train$age > mean(train$age))\n",
    "valid[, 'age_ge_mean'] <- as.logical(valid$age > mean(valid$age))\n",
    "test[, 'age_ge_mean'] <- as.logical(test$age > mean(test$age))\n",
    "# Test (holdout)\n",
    "test_holdout[, 'age_ge_mean'] <- as.logical(test_holdout$age > mean(train$age))"
   ]
  },
  {
   "cell_type": "markdown",
   "metadata": {},
   "source": [
    "#### Add variable: pdays_999"
   ]
  },
  {
   "cell_type": "code",
   "execution_count": 23,
   "metadata": {},
   "outputs": [],
   "source": [
    "# Add new variable to train and test (holdout)\n",
    "# pdays == 999 is a special value\n",
    "# Train, valid, test\n",
    "train[, 'pdays_999'] <- as.logical(train$pdays == 999)\n",
    "valid[, 'pdays_999'] <- as.logical(valid$pdays == 999)\n",
    "test[, 'pdays_999'] <- as.logical(test$pdays == 999)\n",
    "# Test (holdout)\n",
    "test_holdout[, 'pdays_999'] <- as.logical(test_holdout$pdays == 999)"
   ]
  },
  {
   "cell_type": "markdown",
   "metadata": {},
   "source": [
    "### 2.3. Processing data"
   ]
  },
  {
   "cell_type": "markdown",
   "metadata": {},
   "source": [
    "#### 2.3.1. Value transformation\n",
    "\n",
    "- Categorical variables: remapping\n",
    "- Continuous variables: discretization\n",
    "\n",
    "Reference:  \n",
    "\n",
    "Coussement, K., Lessmann, S., & Verstraeten, G. (2017). A comparative analysis of data preparation algorithms for customer churn prediction: A case study in the telecommunication industry. Decision Support Systems, 95, 27-36."
   ]
  },
  {
   "cell_type": "markdown",
   "metadata": {},
   "source": [
    "#### Get the list of categorical, boolean and numerical variables"
   ]
  },
  {
   "cell_type": "code",
   "execution_count": 24,
   "metadata": {},
   "outputs": [],
   "source": [
    "# Get the IV and DV list name\n",
    "# Dependent variable (DV)\n",
    "dv_list <- c('subscribe')\n",
    "# Independent variable (IV)\n",
    "iv_list <- setdiff(colnames(train), dv_list)  # Exclude the target variable\n",
    "iv_list <- setdiff(iv_list, 'client_id')  # Exclude the client_id"
   ]
  },
  {
   "cell_type": "code",
   "execution_count": 25,
   "metadata": {},
   "outputs": [],
   "source": [
    "# Pick out categorical, boolean and numerical variable\n",
    "iv_cat_list <- c()  # List to store categorical variable\n",
    "iv_bool_list <- c()  # List to store boolean variable\n",
    "iv_num_list <- c()  # List to store numerical variable\n",
    "for (v in iv_list) {\n",
    "    if (class(train[, v]) == 'factor') {  # Factor == categorical variable\n",
    "        iv_cat_list <- c(iv_cat_list, v)\n",
    "    } else if (class(train[, v]) == 'logical') {  # Logical == boolean variable\n",
    "        iv_bool_list <- c(iv_bool_list, v)\n",
    "    } else {  # Non-factor + Non-logical == numerical variable\n",
    "        iv_num_list <- c(iv_num_list, v)\n",
    "    }\n",
    "}"
   ]
  },
  {
   "cell_type": "markdown",
   "metadata": {},
   "source": [
    "#### Grouping (or remapping) categorical variables - Decision tree–based remapping\n",
    "\n",
    "Reference:  \n",
    "\n",
    "Package ‘woeBinning’: https://cran.r-project.org/web/packages/woeBinning/woeBinning.pdf"
   ]
  },
  {
   "cell_type": "markdown",
   "metadata": {},
   "source": [
    "Test the variable remmaping on a categorical variable."
   ]
  },
  {
   "cell_type": "code",
   "execution_count": 26,
   "metadata": {},
   "outputs": [
    {
     "data": {
      "text/html": [
       "<ol>\n",
       "\t<li>'job'</li>\n",
       "\t<li><table>\n",
       "<thead><tr><th></th><th scope=col>Group.2</th><th scope=col>Group.1</th><th scope=col>woe</th><th scope=col>iv.total.final</th><th scope=col>1</th><th scope=col>0</th><th scope=col>col.perc.a</th><th scope=col>col.perc.b</th><th scope=col>iv.bins</th></tr></thead>\n",
       "<tbody>\n",
       "\t<tr><th scope=row>2</th><td>management + technician + misc. level neg. + blue-collar + services</td><td>blue-collar                                                        </td><td>-26.98343                                                          </td><td>0.1237265                                                          </td><td>235                                                                </td><td>2391                                                               </td><td>0.4906054                                                          </td><td>0.6425692                                                          </td><td>0.041005042                                                        </td></tr>\n",
       "\t<tr><th scope=row>3</th><td>management + technician + misc. level neg. + blue-collar + services</td><td>entrepreneur                                                       </td><td>-26.98343                                                          </td><td>0.1237265                                                          </td><td>235                                                                </td><td>2391                                                               </td><td>0.4906054                                                          </td><td>0.6425692                                                          </td><td>0.041005042                                                        </td></tr>\n",
       "\t<tr><th scope=row>4</th><td>management + technician + misc. level neg. + blue-collar + services</td><td>housemaid                                                          </td><td>-26.98343                                                          </td><td>0.1237265                                                          </td><td>235                                                                </td><td>2391                                                               </td><td>0.4906054                                                          </td><td>0.6425692                                                          </td><td>0.041005042                                                        </td></tr>\n",
       "\t<tr><th scope=row>5</th><td>management + technician + misc. level neg. + blue-collar + services</td><td>management                                                         </td><td>-26.98343                                                          </td><td>0.1237265                                                          </td><td>235                                                                </td><td>2391                                                               </td><td>0.4906054                                                          </td><td>0.6425692                                                          </td><td>0.041005042                                                        </td></tr>\n",
       "\t<tr><th scope=row>6</th><td>management + technician + misc. level neg. + blue-collar + services</td><td>services                                                           </td><td>-26.98343                                                          </td><td>0.1237265                                                          </td><td>235                                                                </td><td>2391                                                               </td><td>0.4906054                                                          </td><td>0.6425692                                                          </td><td>0.041005042                                                        </td></tr>\n",
       "\t<tr><th scope=row>7</th><td>management + technician + misc. level neg. + blue-collar + services</td><td>technician                                                         </td><td>-26.98343                                                          </td><td>0.1237265                                                          </td><td>235                                                                </td><td>2391                                                               </td><td>0.4906054                                                          </td><td>0.6425692                                                          </td><td>0.041005042                                                        </td></tr>\n",
       "\t<tr><th scope=row>8</th><td>management + technician + misc. level neg. + blue-collar + services</td><td>unknown                                                            </td><td>-26.98343                                                          </td><td>0.1237265                                                          </td><td>235                                                                </td><td>2391                                                               </td><td>0.4906054                                                          </td><td>0.6425692                                                          </td><td>0.041005042                                                        </td></tr>\n",
       "\t<tr><th scope=row>1</th><td>admin.                                                             </td><td>admin.                                                             </td><td> 15.07074                                                          </td><td>0.1237265                                                          </td><td>135                                                                </td><td> 902                                                               </td><td>0.2818372                                                          </td><td>0.2424080                                                          </td><td>0.005942273                                                        </td></tr>\n",
       "\t<tr><th scope=row>9</th><td>misc. level pos.                                                   </td><td>retired                                                            </td><td> 68.22718                                                          </td><td>0.1237265                                                          </td><td>109                                                                </td><td> 428                                                               </td><td>0.2275574                                                          </td><td>0.1150228                                                          </td><td>0.076779164                                                        </td></tr>\n",
       "\t<tr><th scope=row>10</th><td>misc. level pos.                                                   </td><td>self-employed                                                      </td><td> 68.22718                                                          </td><td>0.1237265                                                          </td><td>109                                                                </td><td> 428                                                               </td><td>0.2275574                                                          </td><td>0.1150228                                                          </td><td>0.076779164                                                        </td></tr>\n",
       "\t<tr><th scope=row>11</th><td>misc. level pos.                                                   </td><td>student                                                            </td><td> 68.22718                                                          </td><td>0.1237265                                                          </td><td>109                                                                </td><td> 428                                                               </td><td>0.2275574                                                          </td><td>0.1150228                                                          </td><td>0.076779164                                                        </td></tr>\n",
       "\t<tr><th scope=row>12</th><td>misc. level pos.                                                   </td><td>unemployed                                                         </td><td> 68.22718                                                          </td><td>0.1237265                                                          </td><td>109                                                                </td><td> 428                                                               </td><td>0.2275574                                                          </td><td>0.1150228                                                          </td><td>0.076779164                                                        </td></tr>\n",
       "</tbody>\n",
       "</table>\n",
       "</li>\n",
       "\t<li><strong>iv.total.final:</strong> 0.123726478844888</li>\n",
       "</ol>\n"
      ],
      "text/latex": [
       "\\begin{enumerate}\n",
       "\\item 'job'\n",
       "\\item \\begin{tabular}{r|lllllllll}\n",
       "  & Group.2 & Group.1 & woe & iv.total.final & 1 & 0 & col.perc.a & col.perc.b & iv.bins\\\\\n",
       "\\hline\n",
       "\t2 & management + technician + misc. level neg. + blue-collar + services & blue-collar                                                         & -26.98343                                                           & 0.1237265                                                           & 235                                                                 & 2391                                                                & 0.4906054                                                           & 0.6425692                                                           & 0.041005042                                                        \\\\\n",
       "\t3 & management + technician + misc. level neg. + blue-collar + services & entrepreneur                                                        & -26.98343                                                           & 0.1237265                                                           & 235                                                                 & 2391                                                                & 0.4906054                                                           & 0.6425692                                                           & 0.041005042                                                        \\\\\n",
       "\t4 & management + technician + misc. level neg. + blue-collar + services & housemaid                                                           & -26.98343                                                           & 0.1237265                                                           & 235                                                                 & 2391                                                                & 0.4906054                                                           & 0.6425692                                                           & 0.041005042                                                        \\\\\n",
       "\t5 & management + technician + misc. level neg. + blue-collar + services & management                                                          & -26.98343                                                           & 0.1237265                                                           & 235                                                                 & 2391                                                                & 0.4906054                                                           & 0.6425692                                                           & 0.041005042                                                        \\\\\n",
       "\t6 & management + technician + misc. level neg. + blue-collar + services & services                                                            & -26.98343                                                           & 0.1237265                                                           & 235                                                                 & 2391                                                                & 0.4906054                                                           & 0.6425692                                                           & 0.041005042                                                        \\\\\n",
       "\t7 & management + technician + misc. level neg. + blue-collar + services & technician                                                          & -26.98343                                                           & 0.1237265                                                           & 235                                                                 & 2391                                                                & 0.4906054                                                           & 0.6425692                                                           & 0.041005042                                                        \\\\\n",
       "\t8 & management + technician + misc. level neg. + blue-collar + services & unknown                                                             & -26.98343                                                           & 0.1237265                                                           & 235                                                                 & 2391                                                                & 0.4906054                                                           & 0.6425692                                                           & 0.041005042                                                        \\\\\n",
       "\t1 & admin.                                                              & admin.                                                              &  15.07074                                                           & 0.1237265                                                           & 135                                                                 &  902                                                                & 0.2818372                                                           & 0.2424080                                                           & 0.005942273                                                        \\\\\n",
       "\t9 & misc. level pos.                                                    & retired                                                             &  68.22718                                                           & 0.1237265                                                           & 109                                                                 &  428                                                                & 0.2275574                                                           & 0.1150228                                                           & 0.076779164                                                        \\\\\n",
       "\t10 & misc. level pos.                                                    & self-employed                                                       &  68.22718                                                           & 0.1237265                                                           & 109                                                                 &  428                                                                & 0.2275574                                                           & 0.1150228                                                           & 0.076779164                                                        \\\\\n",
       "\t11 & misc. level pos.                                                    & student                                                             &  68.22718                                                           & 0.1237265                                                           & 109                                                                 &  428                                                                & 0.2275574                                                           & 0.1150228                                                           & 0.076779164                                                        \\\\\n",
       "\t12 & misc. level pos.                                                    & unemployed                                                          &  68.22718                                                           & 0.1237265                                                           & 109                                                                 &  428                                                                & 0.2275574                                                           & 0.1150228                                                           & 0.076779164                                                        \\\\\n",
       "\\end{tabular}\n",
       "\n",
       "\\item \\textbf{iv.total.final:} 0.123726478844888\n",
       "\\end{enumerate}\n"
      ],
      "text/markdown": [
       "1. 'job'\n",
       "2. \n",
       "| <!--/--> | Group.2 | Group.1 | woe | iv.total.final | 1 | 0 | col.perc.a | col.perc.b | iv.bins |\n",
       "|---|---|---|---|---|---|---|---|---|---|\n",
       "| 2 | management + technician + misc. level neg. + blue-collar + services | blue-collar                                                         | -26.98343                                                           | 0.1237265                                                           | 235                                                                 | 2391                                                                | 0.4906054                                                           | 0.6425692                                                           | 0.041005042                                                         |\n",
       "| 3 | management + technician + misc. level neg. + blue-collar + services | entrepreneur                                                        | -26.98343                                                           | 0.1237265                                                           | 235                                                                 | 2391                                                                | 0.4906054                                                           | 0.6425692                                                           | 0.041005042                                                         |\n",
       "| 4 | management + technician + misc. level neg. + blue-collar + services | housemaid                                                           | -26.98343                                                           | 0.1237265                                                           | 235                                                                 | 2391                                                                | 0.4906054                                                           | 0.6425692                                                           | 0.041005042                                                         |\n",
       "| 5 | management + technician + misc. level neg. + blue-collar + services | management                                                          | -26.98343                                                           | 0.1237265                                                           | 235                                                                 | 2391                                                                | 0.4906054                                                           | 0.6425692                                                           | 0.041005042                                                         |\n",
       "| 6 | management + technician + misc. level neg. + blue-collar + services | services                                                            | -26.98343                                                           | 0.1237265                                                           | 235                                                                 | 2391                                                                | 0.4906054                                                           | 0.6425692                                                           | 0.041005042                                                         |\n",
       "| 7 | management + technician + misc. level neg. + blue-collar + services | technician                                                          | -26.98343                                                           | 0.1237265                                                           | 235                                                                 | 2391                                                                | 0.4906054                                                           | 0.6425692                                                           | 0.041005042                                                         |\n",
       "| 8 | management + technician + misc. level neg. + blue-collar + services | unknown                                                             | -26.98343                                                           | 0.1237265                                                           | 235                                                                 | 2391                                                                | 0.4906054                                                           | 0.6425692                                                           | 0.041005042                                                         |\n",
       "| 1 | admin.                                                              | admin.                                                              |  15.07074                                                           | 0.1237265                                                           | 135                                                                 |  902                                                                | 0.2818372                                                           | 0.2424080                                                           | 0.005942273                                                         |\n",
       "| 9 | misc. level pos.                                                    | retired                                                             |  68.22718                                                           | 0.1237265                                                           | 109                                                                 |  428                                                                | 0.2275574                                                           | 0.1150228                                                           | 0.076779164                                                         |\n",
       "| 10 | misc. level pos.                                                    | self-employed                                                       |  68.22718                                                           | 0.1237265                                                           | 109                                                                 |  428                                                                | 0.2275574                                                           | 0.1150228                                                           | 0.076779164                                                         |\n",
       "| 11 | misc. level pos.                                                    | student                                                             |  68.22718                                                           | 0.1237265                                                           | 109                                                                 |  428                                                                | 0.2275574                                                           | 0.1150228                                                           | 0.076779164                                                         |\n",
       "| 12 | misc. level pos.                                                    | unemployed                                                          |  68.22718                                                           | 0.1237265                                                           | 109                                                                 |  428                                                                | 0.2275574                                                           | 0.1150228                                                           | 0.076779164                                                         |\n",
       "\n",
       "\n",
       "3. **iv.total.final:** 0.123726478844888\n",
       "\n",
       "\n"
      ],
      "text/plain": [
       "[[1]]\n",
       "[1] \"job\"\n",
       "\n",
       "[[2]]\n",
       "                                                               Group.2\n",
       "2  management + technician + misc. level neg. + blue-collar + services\n",
       "3  management + technician + misc. level neg. + blue-collar + services\n",
       "4  management + technician + misc. level neg. + blue-collar + services\n",
       "5  management + technician + misc. level neg. + blue-collar + services\n",
       "6  management + technician + misc. level neg. + blue-collar + services\n",
       "7  management + technician + misc. level neg. + blue-collar + services\n",
       "8  management + technician + misc. level neg. + blue-collar + services\n",
       "1                                                               admin.\n",
       "9                                                     misc. level pos.\n",
       "10                                                    misc. level pos.\n",
       "11                                                    misc. level pos.\n",
       "12                                                    misc. level pos.\n",
       "         Group.1       woe iv.total.final   1    0 col.perc.a col.perc.b\n",
       "2    blue-collar -26.98343      0.1237265 235 2391  0.4906054  0.6425692\n",
       "3   entrepreneur -26.98343      0.1237265 235 2391  0.4906054  0.6425692\n",
       "4      housemaid -26.98343      0.1237265 235 2391  0.4906054  0.6425692\n",
       "5     management -26.98343      0.1237265 235 2391  0.4906054  0.6425692\n",
       "6       services -26.98343      0.1237265 235 2391  0.4906054  0.6425692\n",
       "7     technician -26.98343      0.1237265 235 2391  0.4906054  0.6425692\n",
       "8        unknown -26.98343      0.1237265 235 2391  0.4906054  0.6425692\n",
       "1         admin.  15.07074      0.1237265 135  902  0.2818372  0.2424080\n",
       "9        retired  68.22718      0.1237265 109  428  0.2275574  0.1150228\n",
       "10 self-employed  68.22718      0.1237265 109  428  0.2275574  0.1150228\n",
       "11       student  68.22718      0.1237265 109  428  0.2275574  0.1150228\n",
       "12    unemployed  68.22718      0.1237265 109  428  0.2275574  0.1150228\n",
       "       iv.bins\n",
       "2  0.041005042\n",
       "3  0.041005042\n",
       "4  0.041005042\n",
       "5  0.041005042\n",
       "6  0.041005042\n",
       "7  0.041005042\n",
       "8  0.041005042\n",
       "1  0.005942273\n",
       "9  0.076779164\n",
       "10 0.076779164\n",
       "11 0.076779164\n",
       "12 0.076779164\n",
       "\n",
       "[[3]]\n",
       "iv.total.final \n",
       "     0.1237265 \n"
      ]
     },
     "metadata": {},
     "output_type": "display_data"
    }
   ],
   "source": [
    "# Grouping 12 categories in the variable job onto 3 groups using WOE\n",
    "binning_cat <- woe.binning(train, 'subscribe', 'job')\n",
    "binning_cat"
   ]
  },
  {
   "cell_type": "code",
   "execution_count": 27,
   "metadata": {
    "scrolled": true
   },
   "outputs": [
    {
     "data": {
      "text/html": [
       "<table>\n",
       "<thead><tr><th></th><th scope=col>job</th><th scope=col>job.binned</th><th scope=col>woe.job.binned</th></tr></thead>\n",
       "<tbody>\n",
       "\t<tr><th scope=row>1</th><td>housemaid                                                          </td><td>management + technician + misc. level neg. + blue-collar + services</td><td>-26.98343                                                          </td></tr>\n",
       "\t<tr><th scope=row>4</th><td>self-employed                                                      </td><td>misc. level pos.                                                   </td><td> 68.22718                                                          </td></tr>\n",
       "\t<tr><th scope=row>7</th><td>blue-collar                                                        </td><td>management + technician + misc. level neg. + blue-collar + services</td><td>-26.98343                                                          </td></tr>\n",
       "\t<tr><th scope=row>14</th><td>technician                                                         </td><td>management + technician + misc. level neg. + blue-collar + services</td><td>-26.98343                                                          </td></tr>\n",
       "\t<tr><th scope=row>15</th><td>management                                                         </td><td>management + technician + misc. level neg. + blue-collar + services</td><td>-26.98343                                                          </td></tr>\n",
       "\t<tr><th scope=row>16</th><td>admin.                                                             </td><td>admin.                                                             </td><td> 15.07074                                                          </td></tr>\n",
       "</tbody>\n",
       "</table>\n"
      ],
      "text/latex": [
       "\\begin{tabular}{r|lll}\n",
       "  & job & job.binned & woe.job.binned\\\\\n",
       "\\hline\n",
       "\t1 & housemaid                                                           & management + technician + misc. level neg. + blue-collar + services & -26.98343                                                          \\\\\n",
       "\t4 & self-employed                                                       & misc. level pos.                                                    &  68.22718                                                          \\\\\n",
       "\t7 & blue-collar                                                         & management + technician + misc. level neg. + blue-collar + services & -26.98343                                                          \\\\\n",
       "\t14 & technician                                                          & management + technician + misc. level neg. + blue-collar + services & -26.98343                                                          \\\\\n",
       "\t15 & management                                                          & management + technician + misc. level neg. + blue-collar + services & -26.98343                                                          \\\\\n",
       "\t16 & admin.                                                              & admin.                                                              &  15.07074                                                          \\\\\n",
       "\\end{tabular}\n"
      ],
      "text/markdown": [
       "\n",
       "| <!--/--> | job | job.binned | woe.job.binned |\n",
       "|---|---|---|---|\n",
       "| 1 | housemaid                                                           | management + technician + misc. level neg. + blue-collar + services | -26.98343                                                           |\n",
       "| 4 | self-employed                                                       | misc. level pos.                                                    |  68.22718                                                           |\n",
       "| 7 | blue-collar                                                         | management + technician + misc. level neg. + blue-collar + services | -26.98343                                                           |\n",
       "| 14 | technician                                                          | management + technician + misc. level neg. + blue-collar + services | -26.98343                                                           |\n",
       "| 15 | management                                                          | management + technician + misc. level neg. + blue-collar + services | -26.98343                                                           |\n",
       "| 16 | admin.                                                              | admin.                                                              |  15.07074                                                           |\n",
       "\n"
      ],
      "text/plain": [
       "   job          \n",
       "1  housemaid    \n",
       "4  self-employed\n",
       "7  blue-collar  \n",
       "14 technician   \n",
       "15 management   \n",
       "16 admin.       \n",
       "   job.binned                                                         \n",
       "1  management + technician + misc. level neg. + blue-collar + services\n",
       "4  misc. level pos.                                                   \n",
       "7  management + technician + misc. level neg. + blue-collar + services\n",
       "14 management + technician + misc. level neg. + blue-collar + services\n",
       "15 management + technician + misc. level neg. + blue-collar + services\n",
       "16 admin.                                                             \n",
       "   woe.job.binned\n",
       "1  -26.98343     \n",
       "4   68.22718     \n",
       "7  -26.98343     \n",
       "14 -26.98343     \n",
       "15 -26.98343     \n",
       "16  15.07074     "
      ]
     },
     "metadata": {},
     "output_type": "display_data"
    }
   ],
   "source": [
    "# Apply the binning to data\n",
    "tmp <- woe.binning.deploy(train, binning_cat, add.woe.or.dum.var='woe')\n",
    "head(tmp[, c('job', 'job.binned', 'woe.job.binned')])"
   ]
  },
  {
   "cell_type": "markdown",
   "metadata": {},
   "source": [
    "Apply the variable remmaping for all categorical variables."
   ]
  },
  {
   "cell_type": "code",
   "execution_count": 28,
   "metadata": {},
   "outputs": [],
   "source": [
    "# Loop through all categorical variables\n",
    "for (v in iv_cat_list) {\n",
    "    \n",
    "    # Remapping categorical variable on train data\n",
    "    binning_cat <- woe.binning(train, 'subscribe', v)\n",
    "    \n",
    "    # Apply the binning to the train, valid and test data\n",
    "    train <- woe.binning.deploy(train, binning_cat, add.woe.or.dum.var='woe')\n",
    "    valid <- woe.binning.deploy(valid, binning_cat, add.woe.or.dum.var='woe')\n",
    "    test <- woe.binning.deploy(test, binning_cat, add.woe.or.dum.var='woe')\n",
    "    \n",
    "    # Apply the binning to the test (holdout) data\n",
    "    test_holdout <- woe.binning.deploy(test_holdout, binning_cat, add.woe.or.dum.var='woe')\n",
    "}"
   ]
  },
  {
   "cell_type": "markdown",
   "metadata": {},
   "source": [
    "#### Grouping (or discretizing) numerical variables - Decision tree–based discretization"
   ]
  },
  {
   "cell_type": "markdown",
   "metadata": {},
   "source": [
    "Test the variable discretizing on a numerical variable."
   ]
  },
  {
   "cell_type": "code",
   "execution_count": 29,
   "metadata": {},
   "outputs": [
    {
     "data": {
      "text/html": [
       "<ol>\n",
       "\t<li>'age'</li>\n",
       "\t<li><table>\n",
       "<thead><tr><th></th><th scope=col>woe</th><th scope=col>cutpoints.final</th><th scope=col>cutpoints.final[-1]</th><th scope=col>iv.total.final</th><th scope=col>1</th><th scope=col>0</th><th scope=col>col.perc.a</th><th scope=col>col.perc.b</th><th scope=col>iv.bins</th></tr></thead>\n",
       "<tbody>\n",
       "\t<tr><th scope=row>(-Inf,26]</th><td> 62.641510 </td><td>-Inf       </td><td>26         </td><td>0.1257925  </td><td> 46        </td><td> 191       </td><td>0.0960334  </td><td>0.05133029 </td><td>0.028002706</td></tr>\n",
       "\t<tr><th scope=row>(26,38]</th><td>  1.589851 </td><td>  26       </td><td>38         </td><td>0.1257925  </td><td>223        </td><td>1705       </td><td>0.4655532  </td><td>0.45821016 </td><td>0.000116744</td></tr>\n",
       "\t<tr><th scope=row>(38,50]</th><td>-53.033993 </td><td>  38       </td><td>50         </td><td>0.1257925  </td><td> 89        </td><td>1175       </td><td>0.1858038  </td><td>0.31577533 </td><td>0.068929114</td></tr>\n",
       "\t<tr><th scope=row>(50, Inf]</th><td> 36.886531 </td><td>  50       </td><td>Inf        </td><td>0.1257925  </td><td>121        </td><td> 650       </td><td>0.2526096  </td><td>0.17468422 </td><td>0.028743969</td></tr>\n",
       "\t<tr><th scope=row>Missing</th><td>        NA </td><td> Inf       </td><td>Missing    </td><td>0.1257925  </td><td>  0        </td><td>   0       </td><td>0.0000000  </td><td>0.00000000 </td><td>         NA</td></tr>\n",
       "</tbody>\n",
       "</table>\n",
       "</li>\n",
       "\t<li><strong>iv.total.final:</strong> 0.125792533244395</li>\n",
       "</ol>\n"
      ],
      "text/latex": [
       "\\begin{enumerate}\n",
       "\\item 'age'\n",
       "\\item \\begin{tabular}{r|lllllllll}\n",
       "  & woe & cutpoints.final & cutpoints.final{[}-1{]} & iv.total.final & 1 & 0 & col.perc.a & col.perc.b & iv.bins\\\\\n",
       "\\hline\n",
       "\t(-Inf,26{]} &  62.641510  & -Inf        & 26          & 0.1257925   &  46         &  191        & 0.0960334   & 0.05133029  & 0.028002706\\\\\n",
       "\t(26,38{]} &   1.589851  &   26        & 38          & 0.1257925   & 223         & 1705        & 0.4655532   & 0.45821016  & 0.000116744\\\\\n",
       "\t(38,50{]} & -53.033993  &   38        & 50          & 0.1257925   &  89         & 1175        & 0.1858038   & 0.31577533  & 0.068929114\\\\\n",
       "\t(50, Inf{]} &  36.886531  &   50        & Inf         & 0.1257925   & 121         &  650        & 0.2526096   & 0.17468422  & 0.028743969\\\\\n",
       "\tMissing &         NA  &  Inf        & Missing     & 0.1257925   &   0         &    0        & 0.0000000   & 0.00000000  &          NA\\\\\n",
       "\\end{tabular}\n",
       "\n",
       "\\item \\textbf{iv.total.final:} 0.125792533244395\n",
       "\\end{enumerate}\n"
      ],
      "text/markdown": [
       "1. 'age'\n",
       "2. \n",
       "| <!--/--> | woe | cutpoints.final | cutpoints.final[-1] | iv.total.final | 1 | 0 | col.perc.a | col.perc.b | iv.bins |\n",
       "|---|---|---|---|---|---|---|---|---|---|\n",
       "| (-Inf,26] |  62.641510  | -Inf        | 26          | 0.1257925   |  46         |  191        | 0.0960334   | 0.05133029  | 0.028002706 |\n",
       "| (26,38] |   1.589851  |   26        | 38          | 0.1257925   | 223         | 1705        | 0.4655532   | 0.45821016  | 0.000116744 |\n",
       "| (38,50] | -53.033993  |   38        | 50          | 0.1257925   |  89         | 1175        | 0.1858038   | 0.31577533  | 0.068929114 |\n",
       "| (50, Inf] |  36.886531  |   50        | Inf         | 0.1257925   | 121         |  650        | 0.2526096   | 0.17468422  | 0.028743969 |\n",
       "| Missing |         NA  |  Inf        | Missing     | 0.1257925   |   0         |    0        | 0.0000000   | 0.00000000  |          NA |\n",
       "\n",
       "\n",
       "3. **iv.total.final:** 0.125792533244395\n",
       "\n",
       "\n"
      ],
      "text/plain": [
       "[[1]]\n",
       "[1] \"age\"\n",
       "\n",
       "[[2]]\n",
       "                 woe cutpoints.final cutpoints.final[-1] iv.total.final   1\n",
       "(-Inf,26]  62.641510            -Inf                  26      0.1257925  46\n",
       "(26,38]     1.589851              26                  38      0.1257925 223\n",
       "(38,50]   -53.033993              38                  50      0.1257925  89\n",
       "(50, Inf]  36.886531              50                 Inf      0.1257925 121\n",
       "Missing           NA             Inf             Missing      0.1257925   0\n",
       "             0 col.perc.a col.perc.b     iv.bins\n",
       "(-Inf,26]  191  0.0960334 0.05133029 0.028002706\n",
       "(26,38]   1705  0.4655532 0.45821016 0.000116744\n",
       "(38,50]   1175  0.1858038 0.31577533 0.068929114\n",
       "(50, Inf]  650  0.2526096 0.17468422 0.028743969\n",
       "Missing      0  0.0000000 0.00000000          NA\n",
       "\n",
       "[[3]]\n",
       "iv.total.final \n",
       "     0.1257925 \n"
      ]
     },
     "metadata": {},
     "output_type": "display_data"
    }
   ],
   "source": [
    "# Grouping the variable age onto 4 groups using WOE\n",
    "binning_num <- woe.binning(train, 'subscribe', 'age')\n",
    "binning_num"
   ]
  },
  {
   "cell_type": "code",
   "execution_count": 30,
   "metadata": {},
   "outputs": [
    {
     "data": {
      "text/html": [
       "<table>\n",
       "<thead><tr><th></th><th scope=col>age</th><th scope=col>age.binned</th><th scope=col>woe.age.binned</th></tr></thead>\n",
       "<tbody>\n",
       "\t<tr><th scope=row>1</th><td>29        </td><td>(26,38]   </td><td>  1.589851</td></tr>\n",
       "\t<tr><th scope=row>4</th><td>32        </td><td>(26,38]   </td><td>  1.589851</td></tr>\n",
       "\t<tr><th scope=row>7</th><td>34        </td><td>(26,38]   </td><td>  1.589851</td></tr>\n",
       "\t<tr><th scope=row>14</th><td>39        </td><td>(38,50]   </td><td>-53.033993</td></tr>\n",
       "\t<tr><th scope=row>15</th><td>39        </td><td>(38,50]   </td><td>-53.033993</td></tr>\n",
       "\t<tr><th scope=row>16</th><td>33        </td><td>(26,38]   </td><td>  1.589851</td></tr>\n",
       "</tbody>\n",
       "</table>\n"
      ],
      "text/latex": [
       "\\begin{tabular}{r|lll}\n",
       "  & age & age.binned & woe.age.binned\\\\\n",
       "\\hline\n",
       "\t1 & 29         & (26,38{]}  &   1.589851\\\\\n",
       "\t4 & 32         & (26,38{]}  &   1.589851\\\\\n",
       "\t7 & 34         & (26,38{]}  &   1.589851\\\\\n",
       "\t14 & 39         & (38,50{]}  & -53.033993\\\\\n",
       "\t15 & 39         & (38,50{]}  & -53.033993\\\\\n",
       "\t16 & 33         & (26,38{]}  &   1.589851\\\\\n",
       "\\end{tabular}\n"
      ],
      "text/markdown": [
       "\n",
       "| <!--/--> | age | age.binned | woe.age.binned |\n",
       "|---|---|---|---|\n",
       "| 1 | 29         | (26,38]    |   1.589851 |\n",
       "| 4 | 32         | (26,38]    |   1.589851 |\n",
       "| 7 | 34         | (26,38]    |   1.589851 |\n",
       "| 14 | 39         | (38,50]    | -53.033993 |\n",
       "| 15 | 39         | (38,50]    | -53.033993 |\n",
       "| 16 | 33         | (26,38]    |   1.589851 |\n",
       "\n"
      ],
      "text/plain": [
       "   age age.binned woe.age.binned\n",
       "1  29  (26,38]      1.589851    \n",
       "4  32  (26,38]      1.589851    \n",
       "7  34  (26,38]      1.589851    \n",
       "14 39  (38,50]    -53.033993    \n",
       "15 39  (38,50]    -53.033993    \n",
       "16 33  (26,38]      1.589851    "
      ]
     },
     "metadata": {},
     "output_type": "display_data"
    }
   ],
   "source": [
    "# Apply the binning to data\n",
    "tmp <- woe.binning.deploy(train, binning_num, add.woe.or.dum.var='woe')\n",
    "head(tmp[, c('age', 'age.binned', 'woe.age.binned')])"
   ]
  },
  {
   "cell_type": "markdown",
   "metadata": {},
   "source": [
    "Apply the variable discretizing for all numerical variables."
   ]
  },
  {
   "cell_type": "code",
   "execution_count": 31,
   "metadata": {},
   "outputs": [],
   "source": [
    "# Loop through all numerical variables\n",
    "for (v in iv_num_list) {\n",
    "    \n",
    "    # Discretizing numerical variable on train data\n",
    "    binning_num <- woe.binning(train, 'subscribe', v)\n",
    "    \n",
    "    # Apply the binning to the train, valid and test data\n",
    "    train <- woe.binning.deploy(train, binning_num, add.woe.or.dum.var='woe')\n",
    "    valid <- woe.binning.deploy(valid, binning_num, add.woe.or.dum.var='woe')\n",
    "    test <- woe.binning.deploy(test, binning_num, add.woe.or.dum.var='woe')\n",
    "    \n",
    "    # Apply the binning to the test (holdout) data\n",
    "    test_holdout <- woe.binning.deploy(test_holdout, binning_num, add.woe.or.dum.var='woe')\n",
    "}"
   ]
  },
  {
   "cell_type": "markdown",
   "metadata": {},
   "source": [
    "#### Grouping (or discretizing) numerical variables - Equal frequency discretization\n",
    "\n",
    "Reference:  \n",
    "\n",
    "Tutorial to prepare train and test set using dataPreparation: https://cran.r-project.org/web/packages/dataPreparation/vignettes/train_test_prep.html"
   ]
  },
  {
   "cell_type": "markdown",
   "metadata": {},
   "source": [
    "Test the variable discretizing on a numerical variable."
   ]
  },
  {
   "cell_type": "code",
   "execution_count": 32,
   "metadata": {},
   "outputs": [
    {
     "data": {
      "text/html": [
       "<strong>$age</strong> = <ol class=list-inline>\n",
       "\t<li>-Inf</li>\n",
       "\t<li>31</li>\n",
       "\t<li>35</li>\n",
       "\t<li>41</li>\n",
       "\t<li>50</li>\n",
       "\t<li>Inf</li>\n",
       "</ol>\n"
      ],
      "text/latex": [
       "\\textbf{\\$age} = \\begin{enumerate*}\n",
       "\\item -Inf\n",
       "\\item 31\n",
       "\\item 35\n",
       "\\item 41\n",
       "\\item 50\n",
       "\\item Inf\n",
       "\\end{enumerate*}\n"
      ],
      "text/markdown": [
       "**$age** = 1. -Inf\n",
       "2. 31\n",
       "3. 35\n",
       "4. 41\n",
       "5. 50\n",
       "6. Inf\n",
       "\n",
       "\n"
      ],
      "text/plain": [
       "$age\n",
       "[1] -Inf   31   35   41   50  Inf\n"
      ]
     },
     "metadata": {},
     "output_type": "display_data"
    }
   ],
   "source": [
    "# Build the discretization\n",
    "bins <- build_bins(dataSet=train, cols=\"age\", n_bins=5, type=\"equal_freq\", verbose=F)\n",
    "\n",
    "# Print out to check\n",
    "bins"
   ]
  },
  {
   "cell_type": "code",
   "execution_count": 33,
   "metadata": {},
   "outputs": [
    {
     "data": {
      "text/html": [
       "<ol class=list-inline>\n",
       "\t<li>]-Inf, 31[</li>\n",
       "\t<li>[31, 35[</li>\n",
       "\t<li>[31, 35[</li>\n",
       "\t<li>[35, 41[</li>\n",
       "\t<li>[35, 41[</li>\n",
       "\t<li>[31, 35[</li>\n",
       "</ol>\n",
       "\n",
       "<details>\n",
       "\t<summary style=display:list-item;cursor:pointer>\n",
       "\t\t<strong>Levels</strong>:\n",
       "\t</summary>\n",
       "\t<ol class=list-inline>\n",
       "\t\t<li>'[31, 35['</li>\n",
       "\t\t<li>'[35, 41['</li>\n",
       "\t\t<li>'[41, 50['</li>\n",
       "\t\t<li>'[50, +Inf['</li>\n",
       "\t\t<li>']-Inf, 31['</li>\n",
       "\t</ol>\n",
       "</details>"
      ],
      "text/latex": [
       "\\begin{enumerate*}\n",
       "\\item {]}-Inf, 31{[}\n",
       "\\item {[}31, 35{[}\n",
       "\\item {[}31, 35{[}\n",
       "\\item {[}35, 41{[}\n",
       "\\item {[}35, 41{[}\n",
       "\\item {[}31, 35{[}\n",
       "\\end{enumerate*}\n",
       "\n",
       "\\emph{Levels}: \\begin{enumerate*}\n",
       "\\item '{[}31, 35{[}'\n",
       "\\item '{[}35, 41{[}'\n",
       "\\item '{[}41, 50{[}'\n",
       "\\item '{[}50, +Inf{[}'\n",
       "\\item '{]}-Inf, 31{[}'\n",
       "\\end{enumerate*}\n"
      ],
      "text/markdown": [
       "1. ]-Inf, 31[\n",
       "2. [31, 35[\n",
       "3. [31, 35[\n",
       "4. [35, 41[\n",
       "5. [35, 41[\n",
       "6. [31, 35[\n",
       "\n",
       "\n",
       "\n",
       "**Levels**: 1. '[31, 35['\n",
       "2. '[35, 41['\n",
       "3. '[41, 50['\n",
       "4. '[50, +Inf['\n",
       "5. ']-Inf, 31['\n",
       "\n",
       "\n"
      ],
      "text/plain": [
       "[1] ]-Inf, 31[ [31, 35[   [31, 35[   [35, 41[   [35, 41[   [31, 35[  \n",
       "Levels: [31, 35[ [35, 41[ [41, 50[ [50, +Inf[ ]-Inf, 31["
      ]
     },
     "metadata": {},
     "output_type": "display_data"
    }
   ],
   "source": [
    "# Apply to the data\n",
    "tmp <- fastDiscretization(dataSet=train, bins=bins, verbose=F)\n",
    "setDF(tmp); setDF(train)  # Convert data.table to data.frame\n",
    "head(tmp[, 'age'])"
   ]
  },
  {
   "cell_type": "markdown",
   "metadata": {},
   "source": [
    "Apply the variable discretizing for all numerical variables."
   ]
  },
  {
   "cell_type": "code",
   "execution_count": 34,
   "metadata": {},
   "outputs": [],
   "source": [
    "# Loop through all numerical variables\n",
    "for (v in iv_num_list) {\n",
    "    \n",
    "    # Discretizing numerical variable on train data, n_bins=5\n",
    "    bins <- build_bins(dataSet=train, cols=v, n_bins=5, type=\"equal_freq\", verbose=F)\n",
    "    \n",
    "    # Apply the binning to the train, valid and test data\n",
    "    tmp <- fastDiscretization(dataSet=train, bins=bins, verbose=F)\n",
    "    setDF(tmp); setDF(train)  # Convert data.table to data.frame\n",
    "    train[, paste0(v, '_freq_bin')] <- tmp[, v]  # Add new variable\n",
    "    \n",
    "    tmp <- fastDiscretization(dataSet=valid, bins=bins, verbose=F)\n",
    "    setDF(tmp); setDF(valid)  # Convert data.table to data.frame\n",
    "    valid[, paste0(v, '_freq_bin')] <- tmp[, v]  # Add new variable\n",
    "    \n",
    "    tmp <- fastDiscretization(dataSet=test, bins=bins, verbose=F)\n",
    "    setDF(tmp); setDF(test)  # Convert data.table to data.frame\n",
    "    test[, paste0(v, '_freq_bin')] <- tmp[, v]  # Add new variable\n",
    "    \n",
    "    # Apply the binning to the test (holdout) data\n",
    "    tmp <- fastDiscretization(dataSet=test_holdout, bins=bins, verbose=F)\n",
    "    setDF(tmp); setDF(test_holdout)  # Convert data.table to data.frame\n",
    "    test_holdout[, paste0(v, '_freq_bin')] <- tmp[, v]  # Add new variable\n",
    "}"
   ]
  },
  {
   "cell_type": "markdown",
   "metadata": {},
   "source": [
    "#### Grouping (or discretizing) numerical variables - Equal width discretization"
   ]
  },
  {
   "cell_type": "markdown",
   "metadata": {},
   "source": [
    "Test the variable discretizing on a numerical variable."
   ]
  },
  {
   "cell_type": "code",
   "execution_count": 35,
   "metadata": {},
   "outputs": [
    {
     "data": {
      "text/html": [
       "<strong>$age</strong> = <ol class=list-inline>\n",
       "\t<li>19</li>\n",
       "\t<li>32.8</li>\n",
       "\t<li>46.6</li>\n",
       "\t<li>60.4</li>\n",
       "\t<li>74.2</li>\n",
       "\t<li>88</li>\n",
       "</ol>\n"
      ],
      "text/latex": [
       "\\textbf{\\$age} = \\begin{enumerate*}\n",
       "\\item 19\n",
       "\\item 32.8\n",
       "\\item 46.6\n",
       "\\item 60.4\n",
       "\\item 74.2\n",
       "\\item 88\n",
       "\\end{enumerate*}\n"
      ],
      "text/markdown": [
       "**$age** = 1. 19\n",
       "2. 32.8\n",
       "3. 46.6\n",
       "4. 60.4\n",
       "5. 74.2\n",
       "6. 88\n",
       "\n",
       "\n"
      ],
      "text/plain": [
       "$age\n",
       "[1] 19.0 32.8 46.6 60.4 74.2 88.0\n"
      ]
     },
     "metadata": {},
     "output_type": "display_data"
    }
   ],
   "source": [
    "# Build the discretization\n",
    "bins <- build_bins(dataSet=train, cols=\"age\", n_bins=5, type=\"equal_width\", verbose=F)\n",
    "\n",
    "# Print out to check\n",
    "bins"
   ]
  },
  {
   "cell_type": "code",
   "execution_count": 36,
   "metadata": {},
   "outputs": [
    {
     "data": {
      "text/html": [
       "<ol class=list-inline>\n",
       "\t<li>[19, 32.8[</li>\n",
       "\t<li>[19, 32.8[</li>\n",
       "\t<li>[32.8, 46.6[</li>\n",
       "\t<li>[32.8, 46.6[</li>\n",
       "\t<li>[32.8, 46.6[</li>\n",
       "\t<li>[32.8, 46.6[</li>\n",
       "</ol>\n",
       "\n",
       "<details>\n",
       "\t<summary style=display:list-item;cursor:pointer>\n",
       "\t\t<strong>Levels</strong>:\n",
       "\t</summary>\n",
       "\t<ol class=list-inline>\n",
       "\t\t<li>'[19, 32.8['</li>\n",
       "\t\t<li>'[32.8, 46.6['</li>\n",
       "\t\t<li>'[46.6, 60.4['</li>\n",
       "\t\t<li>'[60.4, 74.2['</li>\n",
       "\t\t<li>'[74.2, 88]'</li>\n",
       "\t</ol>\n",
       "</details>"
      ],
      "text/latex": [
       "\\begin{enumerate*}\n",
       "\\item {[}19, 32.8{[}\n",
       "\\item {[}19, 32.8{[}\n",
       "\\item {[}32.8, 46.6{[}\n",
       "\\item {[}32.8, 46.6{[}\n",
       "\\item {[}32.8, 46.6{[}\n",
       "\\item {[}32.8, 46.6{[}\n",
       "\\end{enumerate*}\n",
       "\n",
       "\\emph{Levels}: \\begin{enumerate*}\n",
       "\\item '{[}19, 32.8{[}'\n",
       "\\item '{[}32.8, 46.6{[}'\n",
       "\\item '{[}46.6, 60.4{[}'\n",
       "\\item '{[}60.4, 74.2{[}'\n",
       "\\item '{[}74.2, 88{]}'\n",
       "\\end{enumerate*}\n"
      ],
      "text/markdown": [
       "1. [19, 32.8[\n",
       "2. [19, 32.8[\n",
       "3. [32.8, 46.6[\n",
       "4. [32.8, 46.6[\n",
       "5. [32.8, 46.6[\n",
       "6. [32.8, 46.6[\n",
       "\n",
       "\n",
       "\n",
       "**Levels**: 1. '[19, 32.8['\n",
       "2. '[32.8, 46.6['\n",
       "3. '[46.6, 60.4['\n",
       "4. '[60.4, 74.2['\n",
       "5. '[74.2, 88]'\n",
       "\n",
       "\n"
      ],
      "text/plain": [
       "[1] [19, 32.8[   [19, 32.8[   [32.8, 46.6[ [32.8, 46.6[ [32.8, 46.6[\n",
       "[6] [32.8, 46.6[\n",
       "Levels: [19, 32.8[ [32.8, 46.6[ [46.6, 60.4[ [60.4, 74.2[ [74.2, 88]"
      ]
     },
     "metadata": {},
     "output_type": "display_data"
    }
   ],
   "source": [
    "# Apply to the data\n",
    "tmp <- fastDiscretization(dataSet=train, bins=bins, verbose=F)\n",
    "setDF(tmp); setDF(train)  # Convert data.table to data.frame\n",
    "head(tmp[, 'age'])"
   ]
  },
  {
   "cell_type": "markdown",
   "metadata": {},
   "source": [
    "Apply the variable discretizing for all numerical variables."
   ]
  },
  {
   "cell_type": "code",
   "execution_count": 37,
   "metadata": {},
   "outputs": [],
   "source": [
    "# Loop through all numerical variables\n",
    "for (v in iv_num_list) {\n",
    "    \n",
    "    # Discretizing numerical variable on train data, n_bins=5\n",
    "    bins <- build_bins(dataSet=train, cols=v, n_bins=5, type=\"equal_width\", verbose=F)\n",
    "    \n",
    "    # Apply the binning to the train, valid and test data\n",
    "    tmp <- fastDiscretization(dataSet=train, bins=bins, verbose=F)\n",
    "    setDF(tmp); setDF(train)  # Convert data.table to data.frame\n",
    "    train[, paste0(v, '_width_bin')] <- tmp[, v]  # Add new variable\n",
    "    \n",
    "    tmp <- fastDiscretization(dataSet=valid, bins=bins, verbose=F)\n",
    "    setDF(tmp); setDF(valid)  # Convert data.table to data.frame\n",
    "    valid[, paste0(v, '_width_bin')] <- tmp[, v]  # Add new variable\n",
    "    \n",
    "    tmp <- fastDiscretization(dataSet=test, bins=bins, verbose=F)\n",
    "    setDF(tmp); setDF(test)  # Convert data.table to data.frame\n",
    "    test[, paste0(v, '_width_bin')] <- tmp[, v]  # Add new variable\n",
    "    \n",
    "    # Apply the binning to the test (holdout) data\n",
    "    tmp <- fastDiscretization(dataSet=test_holdout, bins=bins, verbose=F)\n",
    "    setDF(tmp); setDF(test_holdout)  # Convert data.table to data.frame\n",
    "    test_holdout[, paste0(v, '_width_bin')] <- tmp[, v]  # Add new variable\n",
    "}"
   ]
  },
  {
   "cell_type": "markdown",
   "metadata": {},
   "source": [
    "#### 2.3.2. Value representation\n",
    "\n",
    "- Dummy coding\n",
    "- Incidence replacement\n",
    "- Weight of evidence (WoE conversion)\n",
    "\n",
    "Reference:  \n",
    "\n",
    "Coussement, K., Lessmann, S., & Verstraeten, G. (2017). A comparative analysis of data preparation algorithms for customer churn prediction: A case study in the telecommunication industry. Decision Support Systems, 95, 27-36.\n",
    "\n",
    "All about Categorical Variable Encoding: https://towardsdatascience.com/all-about-categorical-variable-encoding-305f3361fd02"
   ]
  },
  {
   "cell_type": "markdown",
   "metadata": {},
   "source": [
    "#### Get the updated list of categorical, boolean and numerical variables"
   ]
  },
  {
   "cell_type": "code",
   "execution_count": 38,
   "metadata": {},
   "outputs": [],
   "source": [
    "# Get the IV and DV list name\n",
    "# Dependent variable (DV)\n",
    "dv_list <- c('subscribe')\n",
    "# Independent variable (IV)\n",
    "iv_list <- setdiff(colnames(train), dv_list)  # Exclude the target variable\n",
    "iv_list <- setdiff(iv_list, 'client_id')  # Exclude the client_id"
   ]
  },
  {
   "cell_type": "code",
   "execution_count": 39,
   "metadata": {},
   "outputs": [],
   "source": [
    "# Pick out categorical, boolean and numerical variable\n",
    "iv_cat_list <- c()  # List to store categorical variable\n",
    "iv_bool_list <- c()  # List to store boolean variable\n",
    "iv_num_list <- c()  # List to store numerical variable\n",
    "for (v in iv_list) {\n",
    "    if (class(train[, v]) == 'factor') {  # Factor == categorical variable\n",
    "        iv_cat_list <- c(iv_cat_list, v)\n",
    "    } else if (class(train[, v]) == 'logical') {  # Logical == boolean variable\n",
    "        iv_bool_list <- c(iv_bool_list, v)\n",
    "    } else {  # Non-factor + Non-logical == numerical variable\n",
    "        iv_num_list <- c(iv_num_list, v)\n",
    "    }\n",
    "}"
   ]
  },
  {
   "cell_type": "markdown",
   "metadata": {},
   "source": [
    "#### Convert categorical variables to dummy"
   ]
  },
  {
   "cell_type": "markdown",
   "metadata": {},
   "source": [
    "Test the variable representation on a categorical variable."
   ]
  },
  {
   "cell_type": "code",
   "execution_count": 40,
   "metadata": {},
   "outputs": [],
   "source": [
    "# Build the dummy encoding\n",
    "encoding <- build_encoding(dataSet=train, cols=\"job\", verbose=F)"
   ]
  },
  {
   "cell_type": "code",
   "execution_count": 41,
   "metadata": {},
   "outputs": [
    {
     "data": {
      "text/html": [
       "<table>\n",
       "<thead><tr><th scope=col>job.admin.</th><th scope=col>job.blue.collar</th><th scope=col>job.entrepreneur</th><th scope=col>job.housemaid</th><th scope=col>job.management</th><th scope=col>job.retired</th><th scope=col>job.self.employed</th><th scope=col>job.services</th><th scope=col>job.student</th><th scope=col>job.technician</th><th scope=col>job.unemployed</th></tr></thead>\n",
       "<tbody>\n",
       "\t<tr><td>FALSE</td><td>FALSE</td><td>FALSE</td><td> TRUE</td><td>FALSE</td><td>FALSE</td><td>FALSE</td><td>FALSE</td><td>FALSE</td><td>FALSE</td><td>FALSE</td></tr>\n",
       "\t<tr><td>FALSE</td><td>FALSE</td><td>FALSE</td><td>FALSE</td><td>FALSE</td><td>FALSE</td><td> TRUE</td><td>FALSE</td><td>FALSE</td><td>FALSE</td><td>FALSE</td></tr>\n",
       "\t<tr><td>FALSE</td><td> TRUE</td><td>FALSE</td><td>FALSE</td><td>FALSE</td><td>FALSE</td><td>FALSE</td><td>FALSE</td><td>FALSE</td><td>FALSE</td><td>FALSE</td></tr>\n",
       "\t<tr><td>FALSE</td><td>FALSE</td><td>FALSE</td><td>FALSE</td><td>FALSE</td><td>FALSE</td><td>FALSE</td><td>FALSE</td><td>FALSE</td><td> TRUE</td><td>FALSE</td></tr>\n",
       "\t<tr><td>FALSE</td><td>FALSE</td><td>FALSE</td><td>FALSE</td><td> TRUE</td><td>FALSE</td><td>FALSE</td><td>FALSE</td><td>FALSE</td><td>FALSE</td><td>FALSE</td></tr>\n",
       "\t<tr><td> TRUE</td><td>FALSE</td><td>FALSE</td><td>FALSE</td><td>FALSE</td><td>FALSE</td><td>FALSE</td><td>FALSE</td><td>FALSE</td><td>FALSE</td><td>FALSE</td></tr>\n",
       "</tbody>\n",
       "</table>\n"
      ],
      "text/latex": [
       "\\begin{tabular}{r|lllllllllll}\n",
       " job.admin. & job.blue.collar & job.entrepreneur & job.housemaid & job.management & job.retired & job.self.employed & job.services & job.student & job.technician & job.unemployed\\\\\n",
       "\\hline\n",
       "\t FALSE & FALSE & FALSE &  TRUE & FALSE & FALSE & FALSE & FALSE & FALSE & FALSE & FALSE\\\\\n",
       "\t FALSE & FALSE & FALSE & FALSE & FALSE & FALSE &  TRUE & FALSE & FALSE & FALSE & FALSE\\\\\n",
       "\t FALSE &  TRUE & FALSE & FALSE & FALSE & FALSE & FALSE & FALSE & FALSE & FALSE & FALSE\\\\\n",
       "\t FALSE & FALSE & FALSE & FALSE & FALSE & FALSE & FALSE & FALSE & FALSE &  TRUE & FALSE\\\\\n",
       "\t FALSE & FALSE & FALSE & FALSE &  TRUE & FALSE & FALSE & FALSE & FALSE & FALSE & FALSE\\\\\n",
       "\t  TRUE & FALSE & FALSE & FALSE & FALSE & FALSE & FALSE & FALSE & FALSE & FALSE & FALSE\\\\\n",
       "\\end{tabular}\n"
      ],
      "text/markdown": [
       "\n",
       "| job.admin. | job.blue.collar | job.entrepreneur | job.housemaid | job.management | job.retired | job.self.employed | job.services | job.student | job.technician | job.unemployed |\n",
       "|---|---|---|---|---|---|---|---|---|---|---|\n",
       "| FALSE | FALSE | FALSE |  TRUE | FALSE | FALSE | FALSE | FALSE | FALSE | FALSE | FALSE |\n",
       "| FALSE | FALSE | FALSE | FALSE | FALSE | FALSE |  TRUE | FALSE | FALSE | FALSE | FALSE |\n",
       "| FALSE |  TRUE | FALSE | FALSE | FALSE | FALSE | FALSE | FALSE | FALSE | FALSE | FALSE |\n",
       "| FALSE | FALSE | FALSE | FALSE | FALSE | FALSE | FALSE | FALSE | FALSE |  TRUE | FALSE |\n",
       "| FALSE | FALSE | FALSE | FALSE |  TRUE | FALSE | FALSE | FALSE | FALSE | FALSE | FALSE |\n",
       "|  TRUE | FALSE | FALSE | FALSE | FALSE | FALSE | FALSE | FALSE | FALSE | FALSE | FALSE |\n",
       "\n"
      ],
      "text/plain": [
       "  job.admin. job.blue.collar job.entrepreneur job.housemaid job.management\n",
       "1 FALSE      FALSE           FALSE             TRUE         FALSE         \n",
       "2 FALSE      FALSE           FALSE            FALSE         FALSE         \n",
       "3 FALSE       TRUE           FALSE            FALSE         FALSE         \n",
       "4 FALSE      FALSE           FALSE            FALSE         FALSE         \n",
       "5 FALSE      FALSE           FALSE            FALSE          TRUE         \n",
       "6  TRUE      FALSE           FALSE            FALSE         FALSE         \n",
       "  job.retired job.self.employed job.services job.student job.technician\n",
       "1 FALSE       FALSE             FALSE        FALSE       FALSE         \n",
       "2 FALSE        TRUE             FALSE        FALSE       FALSE         \n",
       "3 FALSE       FALSE             FALSE        FALSE       FALSE         \n",
       "4 FALSE       FALSE             FALSE        FALSE        TRUE         \n",
       "5 FALSE       FALSE             FALSE        FALSE       FALSE         \n",
       "6 FALSE       FALSE             FALSE        FALSE       FALSE         \n",
       "  job.unemployed\n",
       "1 FALSE         \n",
       "2 FALSE         \n",
       "3 FALSE         \n",
       "4 FALSE         \n",
       "5 FALSE         \n",
       "6 FALSE         "
      ]
     },
     "metadata": {},
     "output_type": "display_data"
    }
   ],
   "source": [
    "# Transform the categorical variable\n",
    "tmp <- one_hot_encoder(dataSet=train, encoding=encoding, type='logical', drop=F, verbose=F)\n",
    "setDF(tmp)\n",
    "tmp <- tmp[, -ncol(tmp)]\n",
    "head(tmp[, 84:ncol(tmp)])"
   ]
  },
  {
   "cell_type": "markdown",
   "metadata": {},
   "source": [
    "Apply the variable representation for all categorical variables."
   ]
  },
  {
   "cell_type": "code",
   "execution_count": 42,
   "metadata": {},
   "outputs": [],
   "source": [
    "# Loop through all categorical variables\n",
    "for (v in iv_cat_list) {\n",
    "    \n",
    "    # Representing categorical variable on train data\n",
    "    encoding <- build_encoding(dataSet=train, cols=v, verbose=F)\n",
    "    \n",
    "    # Apply the binning to the train, valid and test data\n",
    "    train <- one_hot_encoder(dataSet=train, encoding=encoding, type='logical', drop=F, verbose=F)\n",
    "    setDF(train)\n",
    "    train <- train[, -ncol(train)]  # Drop the last dummy column\n",
    "    \n",
    "    valid <- one_hot_encoder(dataSet=valid, encoding=encoding, type='logical', drop=F, verbose=F)\n",
    "    setDF(valid)\n",
    "    valid <- valid[, -ncol(valid)]  # Drop the last dummy column\n",
    "    \n",
    "    test <- one_hot_encoder(dataSet=test, encoding=encoding, type='logical', drop=F, verbose=F)\n",
    "    setDF(test)\n",
    "    test <- test[, -ncol(test)]  # Drop the last dummy column\n",
    "    \n",
    "    # Apply the binning to the test (holdout) data\n",
    "    test_holdout <- one_hot_encoder(dataSet=test_holdout, encoding=encoding, type='logical', drop=F, verbose=F)\n",
    "    setDF(test_holdout)\n",
    "    test_holdout <- test_holdout[, -ncol(test_holdout)]  # Drop the last dummy column\n",
    "}"
   ]
  },
  {
   "cell_type": "markdown",
   "metadata": {},
   "source": [
    "#### Represent categorical variables using incidence of target variable"
   ]
  },
  {
   "cell_type": "markdown",
   "metadata": {},
   "source": [
    "Test the variable representation on a categorical variable."
   ]
  },
  {
   "cell_type": "code",
   "execution_count": 43,
   "metadata": {},
   "outputs": [
    {
     "data": {
      "text/html": [
       "<table>\n",
       "<thead><tr><th></th><th scope=col>job</th><th scope=col>job_incidence</th></tr></thead>\n",
       "<tbody>\n",
       "\t<tr><th scope=row>admin.</th><td>admin.       </td><td>0.13018322   </td></tr>\n",
       "\t<tr><th scope=row>blue-collar</th><td>blue-collar  </td><td>0.08278146   </td></tr>\n",
       "\t<tr><th scope=row>entrepreneur</th><td>entrepreneur </td><td>0.10493827   </td></tr>\n",
       "\t<tr><th scope=row>housemaid</th><td>housemaid    </td><td>0.08256881   </td></tr>\n",
       "\t<tr><th scope=row>management</th><td>management   </td><td>0.11006289   </td></tr>\n",
       "\t<tr><th scope=row>retired</th><td>retired      </td><td>0.24102564   </td></tr>\n",
       "\t<tr><th scope=row>self-employed</th><td>self-employed</td><td>0.13548387   </td></tr>\n",
       "\t<tr><th scope=row>services</th><td>services     </td><td>0.07616708   </td></tr>\n",
       "\t<tr><th scope=row>student</th><td>student      </td><td>0.29347826   </td></tr>\n",
       "\t<tr><th scope=row>technician</th><td>technician   </td><td>0.09571429   </td></tr>\n",
       "\t<tr><th scope=row>unemployed</th><td>unemployed   </td><td>0.14736842   </td></tr>\n",
       "\t<tr><th scope=row>unknown</th><td>unknown      </td><td>0.04166667   </td></tr>\n",
       "</tbody>\n",
       "</table>\n"
      ],
      "text/latex": [
       "\\begin{tabular}{r|ll}\n",
       "  & job & job\\_incidence\\\\\n",
       "\\hline\n",
       "\tadmin. & admin.        & 0.13018322   \\\\\n",
       "\tblue-collar & blue-collar   & 0.08278146   \\\\\n",
       "\tentrepreneur & entrepreneur  & 0.10493827   \\\\\n",
       "\thousemaid & housemaid     & 0.08256881   \\\\\n",
       "\tmanagement & management    & 0.11006289   \\\\\n",
       "\tretired & retired       & 0.24102564   \\\\\n",
       "\tself-employed & self-employed & 0.13548387   \\\\\n",
       "\tservices & services      & 0.07616708   \\\\\n",
       "\tstudent & student       & 0.29347826   \\\\\n",
       "\ttechnician & technician    & 0.09571429   \\\\\n",
       "\tunemployed & unemployed    & 0.14736842   \\\\\n",
       "\tunknown & unknown       & 0.04166667   \\\\\n",
       "\\end{tabular}\n"
      ],
      "text/markdown": [
       "\n",
       "| <!--/--> | job | job_incidence |\n",
       "|---|---|---|\n",
       "| admin. | admin.        | 0.13018322    |\n",
       "| blue-collar | blue-collar   | 0.08278146    |\n",
       "| entrepreneur | entrepreneur  | 0.10493827    |\n",
       "| housemaid | housemaid     | 0.08256881    |\n",
       "| management | management    | 0.11006289    |\n",
       "| retired | retired       | 0.24102564    |\n",
       "| self-employed | self-employed | 0.13548387    |\n",
       "| services | services      | 0.07616708    |\n",
       "| student | student       | 0.29347826    |\n",
       "| technician | technician    | 0.09571429    |\n",
       "| unemployed | unemployed    | 0.14736842    |\n",
       "| unknown | unknown       | 0.04166667    |\n",
       "\n"
      ],
      "text/plain": [
       "              job           job_incidence\n",
       "admin.        admin.        0.13018322   \n",
       "blue-collar   blue-collar   0.08278146   \n",
       "entrepreneur  entrepreneur  0.10493827   \n",
       "housemaid     housemaid     0.08256881   \n",
       "management    management    0.11006289   \n",
       "retired       retired       0.24102564   \n",
       "self-employed self-employed 0.13548387   \n",
       "services      services      0.07616708   \n",
       "student       student       0.29347826   \n",
       "technician    technician    0.09571429   \n",
       "unemployed    unemployed    0.14736842   \n",
       "unknown       unknown       0.04166667   "
      ]
     },
     "metadata": {},
     "output_type": "display_data"
    }
   ],
   "source": [
    "# Find the incidence rates per category of a variable\n",
    "tb <- table(train$job, train$subscribe)\n",
    "incidence_map <- data.frame('v1'=rownames(tb), 'v2'=tb[, '1'] / (tb[, '0'] + tb[, '1']))\n",
    "colnames(incidence_map) <- c('job', 'job_incidence')\n",
    "incidence_map"
   ]
  },
  {
   "cell_type": "code",
   "execution_count": 44,
   "metadata": {},
   "outputs": [
    {
     "data": {
      "text/html": [
       "<table>\n",
       "<thead><tr><th scope=col>job</th><th scope=col>job_incidence</th></tr></thead>\n",
       "<tbody>\n",
       "\t<tr><td>housemaid    </td><td>0.08256881   </td></tr>\n",
       "\t<tr><td>self-employed</td><td>0.13548387   </td></tr>\n",
       "\t<tr><td>blue-collar  </td><td>0.08278146   </td></tr>\n",
       "\t<tr><td>technician   </td><td>0.09571429   </td></tr>\n",
       "\t<tr><td>management   </td><td>0.11006289   </td></tr>\n",
       "\t<tr><td>admin.       </td><td>0.13018322   </td></tr>\n",
       "</tbody>\n",
       "</table>\n"
      ],
      "text/latex": [
       "\\begin{tabular}{r|ll}\n",
       " job & job\\_incidence\\\\\n",
       "\\hline\n",
       "\t housemaid     & 0.08256881   \\\\\n",
       "\t self-employed & 0.13548387   \\\\\n",
       "\t blue-collar   & 0.08278146   \\\\\n",
       "\t technician    & 0.09571429   \\\\\n",
       "\t management    & 0.11006289   \\\\\n",
       "\t admin.        & 0.13018322   \\\\\n",
       "\\end{tabular}\n"
      ],
      "text/markdown": [
       "\n",
       "| job | job_incidence |\n",
       "|---|---|\n",
       "| housemaid     | 0.08256881    |\n",
       "| self-employed | 0.13548387    |\n",
       "| blue-collar   | 0.08278146    |\n",
       "| technician    | 0.09571429    |\n",
       "| management    | 0.11006289    |\n",
       "| admin.        | 0.13018322    |\n",
       "\n"
      ],
      "text/plain": [
       "  job           job_incidence\n",
       "1 housemaid     0.08256881   \n",
       "2 self-employed 0.13548387   \n",
       "3 blue-collar   0.08278146   \n",
       "4 technician    0.09571429   \n",
       "5 management    0.11006289   \n",
       "6 admin.        0.13018322   "
      ]
     },
     "metadata": {},
     "output_type": "display_data"
    }
   ],
   "source": [
    "# Convert the categories with incidences\n",
    "tmp <- plyr::join(x=train, y=incidence_map, by='job', type=\"left\", match=\"all\")  # Left join\n",
    "head(tmp[, c('job', 'job_incidence')])"
   ]
  },
  {
   "cell_type": "markdown",
   "metadata": {},
   "source": [
    "Apply the variable representation for all categorical variables."
   ]
  },
  {
   "cell_type": "code",
   "execution_count": 45,
   "metadata": {},
   "outputs": [],
   "source": [
    "# Loop through all categorical variables\n",
    "for (v in iv_cat_list) {\n",
    "    \n",
    "    # Find the incidence rates per category of a variable\n",
    "    tb <- table(train[, v], train[, 'subscribe'])\n",
    "    incidence_map <- data.frame('v1'=rownames(tb), 'v2'=tb[, '1'] / (tb[, '0'] + tb[, '1']))\n",
    "    colnames(incidence_map) <- c(v, paste0(v, '_incidence'))  # Rename the columns to join\n",
    "    \n",
    "    # Apply the variable representation to the train, valid and test data\n",
    "    train <- plyr::join(x=train, y=incidence_map, by=v, type=\"left\", match=\"all\")\n",
    "    valid <- plyr::join(x=valid, y=incidence_map, by=v, type=\"left\", match=\"all\")\n",
    "    test <- plyr::join(x=test, y=incidence_map, by=v, type=\"left\", match=\"all\")\n",
    "    \n",
    "    # Apply the binning to the test (holdout) data\n",
    "    test_holdout <- plyr::join(x=test_holdout, y=incidence_map, by=v, type=\"left\", match=\"all\")\n",
    "}"
   ]
  },
  {
   "cell_type": "markdown",
   "metadata": {},
   "source": [
    "#### Represent categorical variables using weight-of-evidence conversion"
   ]
  },
  {
   "cell_type": "markdown",
   "metadata": {},
   "source": [
    "Test the variable representation on a categorical variable."
   ]
  },
  {
   "cell_type": "code",
   "execution_count": 46,
   "metadata": {},
   "outputs": [
    {
     "data": {
      "text/html": [
       "<table>\n",
       "<thead><tr><th></th><th scope=col>job</th><th scope=col>job_woe</th></tr></thead>\n",
       "<tbody>\n",
       "\t<tr><th scope=row>admin.</th><td>admin.       </td><td>-1.8993397   </td></tr>\n",
       "\t<tr><th scope=row>blue-collar</th><td>blue-collar  </td><td>-2.4051417   </td></tr>\n",
       "\t<tr><th scope=row>entrepreneur</th><td>entrepreneur </td><td>-2.1435204   </td></tr>\n",
       "\t<tr><th scope=row>housemaid</th><td>housemaid    </td><td>-2.4079456   </td></tr>\n",
       "\t<tr><th scope=row>management</th><td>management   </td><td>-2.0900988   </td></tr>\n",
       "\t<tr><th scope=row>retired</th><td>retired      </td><td>-1.1470647   </td></tr>\n",
       "\t<tr><th scope=row>self-employed</th><td>self-employed</td><td>-1.8533174   </td></tr>\n",
       "\t<tr><th scope=row>services</th><td>services     </td><td>-2.4956019   </td></tr>\n",
       "\t<tr><th scope=row>student</th><td>student      </td><td>-0.8785504   </td></tr>\n",
       "\t<tr><th scope=row>technician</th><td>technician   </td><td>-2.2457778   </td></tr>\n",
       "\t<tr><th scope=row>unemployed</th><td>unemployed   </td><td>-1.7553918   </td></tr>\n",
       "\t<tr><th scope=row>unknown</th><td>unknown      </td><td>-3.1354942   </td></tr>\n",
       "</tbody>\n",
       "</table>\n"
      ],
      "text/latex": [
       "\\begin{tabular}{r|ll}\n",
       "  & job & job\\_woe\\\\\n",
       "\\hline\n",
       "\tadmin. & admin.        & -1.8993397   \\\\\n",
       "\tblue-collar & blue-collar   & -2.4051417   \\\\\n",
       "\tentrepreneur & entrepreneur  & -2.1435204   \\\\\n",
       "\thousemaid & housemaid     & -2.4079456   \\\\\n",
       "\tmanagement & management    & -2.0900988   \\\\\n",
       "\tretired & retired       & -1.1470647   \\\\\n",
       "\tself-employed & self-employed & -1.8533174   \\\\\n",
       "\tservices & services      & -2.4956019   \\\\\n",
       "\tstudent & student       & -0.8785504   \\\\\n",
       "\ttechnician & technician    & -2.2457778   \\\\\n",
       "\tunemployed & unemployed    & -1.7553918   \\\\\n",
       "\tunknown & unknown       & -3.1354942   \\\\\n",
       "\\end{tabular}\n"
      ],
      "text/markdown": [
       "\n",
       "| <!--/--> | job | job_woe |\n",
       "|---|---|---|\n",
       "| admin. | admin.        | -1.8993397    |\n",
       "| blue-collar | blue-collar   | -2.4051417    |\n",
       "| entrepreneur | entrepreneur  | -2.1435204    |\n",
       "| housemaid | housemaid     | -2.4079456    |\n",
       "| management | management    | -2.0900988    |\n",
       "| retired | retired       | -1.1470647    |\n",
       "| self-employed | self-employed | -1.8533174    |\n",
       "| services | services      | -2.4956019    |\n",
       "| student | student       | -0.8785504    |\n",
       "| technician | technician    | -2.2457778    |\n",
       "| unemployed | unemployed    | -1.7553918    |\n",
       "| unknown | unknown       | -3.1354942    |\n",
       "\n"
      ],
      "text/plain": [
       "              job           job_woe   \n",
       "admin.        admin.        -1.8993397\n",
       "blue-collar   blue-collar   -2.4051417\n",
       "entrepreneur  entrepreneur  -2.1435204\n",
       "housemaid     housemaid     -2.4079456\n",
       "management    management    -2.0900988\n",
       "retired       retired       -1.1470647\n",
       "self-employed self-employed -1.8533174\n",
       "services      services      -2.4956019\n",
       "student       student       -0.8785504\n",
       "technician    technician    -2.2457778\n",
       "unemployed    unemployed    -1.7553918\n",
       "unknown       unknown       -3.1354942"
      ]
     },
     "metadata": {},
     "output_type": "display_data"
    }
   ],
   "source": [
    "# Find the WOE per category of a variable\n",
    "tb <- table(train$job, train$subscribe)\n",
    "woe_map <- data.frame('v1'=rownames(tb), 'v2'=log(tb[, '1'] / tb[, '0']))\n",
    "colnames(woe_map) <- c('job', 'job_woe')\n",
    "woe_map"
   ]
  },
  {
   "cell_type": "code",
   "execution_count": 47,
   "metadata": {},
   "outputs": [
    {
     "data": {
      "text/html": [
       "<table>\n",
       "<thead><tr><th scope=col>job</th><th scope=col>job_woe</th></tr></thead>\n",
       "<tbody>\n",
       "\t<tr><td>housemaid    </td><td>-2.407946    </td></tr>\n",
       "\t<tr><td>self-employed</td><td>-1.853317    </td></tr>\n",
       "\t<tr><td>blue-collar  </td><td>-2.405142    </td></tr>\n",
       "\t<tr><td>technician   </td><td>-2.245778    </td></tr>\n",
       "\t<tr><td>management   </td><td>-2.090099    </td></tr>\n",
       "\t<tr><td>admin.       </td><td>-1.899340    </td></tr>\n",
       "</tbody>\n",
       "</table>\n"
      ],
      "text/latex": [
       "\\begin{tabular}{r|ll}\n",
       " job & job\\_woe\\\\\n",
       "\\hline\n",
       "\t housemaid     & -2.407946    \\\\\n",
       "\t self-employed & -1.853317    \\\\\n",
       "\t blue-collar   & -2.405142    \\\\\n",
       "\t technician    & -2.245778    \\\\\n",
       "\t management    & -2.090099    \\\\\n",
       "\t admin.        & -1.899340    \\\\\n",
       "\\end{tabular}\n"
      ],
      "text/markdown": [
       "\n",
       "| job | job_woe |\n",
       "|---|---|\n",
       "| housemaid     | -2.407946     |\n",
       "| self-employed | -1.853317     |\n",
       "| blue-collar   | -2.405142     |\n",
       "| technician    | -2.245778     |\n",
       "| management    | -2.090099     |\n",
       "| admin.        | -1.899340     |\n",
       "\n"
      ],
      "text/plain": [
       "  job           job_woe  \n",
       "1 housemaid     -2.407946\n",
       "2 self-employed -1.853317\n",
       "3 blue-collar   -2.405142\n",
       "4 technician    -2.245778\n",
       "5 management    -2.090099\n",
       "6 admin.        -1.899340"
      ]
     },
     "metadata": {},
     "output_type": "display_data"
    }
   ],
   "source": [
    "# Convert the categories with WOE\n",
    "tmp <- plyr::join(x=train, y=woe_map, by='job', type=\"left\", match=\"all\")  # Left join\n",
    "head(tmp[, c('job', 'job_woe')])"
   ]
  },
  {
   "cell_type": "markdown",
   "metadata": {},
   "source": [
    "Apply the variable representation for all categorical variables."
   ]
  },
  {
   "cell_type": "code",
   "execution_count": 48,
   "metadata": {},
   "outputs": [],
   "source": [
    "# Loop through all categorical variables\n",
    "for (v in iv_cat_list) {\n",
    "    \n",
    "    # Find the incidence rates per category of a variable\n",
    "    tb <- table(train[, v], train[, 'subscribe'])\n",
    "    woe_map <- data.frame('v1'=rownames(tb), 'v2'=log(tb[, '1'] / tb[, '0']))\n",
    "    colnames(woe_map) <- c(v, paste0(v, '_woe'))  # Rename the columns to join\n",
    "    \n",
    "    # Apply the variable representation to the train, valid and test data\n",
    "    train <- plyr::join(x=train, y=woe_map, by=v, type=\"left\", match=\"all\")\n",
    "    valid <- plyr::join(x=valid, y=woe_map, by=v, type=\"left\", match=\"all\")\n",
    "    test <- plyr::join(x=test, y=woe_map, by=v, type=\"left\", match=\"all\")\n",
    "    \n",
    "    # Apply the binning to the test (holdout) data\n",
    "    test_holdout <- plyr::join(x=test_holdout, y=woe_map, by=v, type=\"left\", match=\"all\")\n",
    "}"
   ]
  },
  {
   "cell_type": "markdown",
   "metadata": {},
   "source": [
    "#### 2.3.3. Others variable transformations"
   ]
  },
  {
   "cell_type": "markdown",
   "metadata": {},
   "source": [
    "#### Log transformation numerical variable"
   ]
  },
  {
   "cell_type": "code",
   "execution_count": 49,
   "metadata": {},
   "outputs": [],
   "source": [
    "# Transform the variable age on train and test (holdout)\n",
    "# Train, valid, test\n",
    "train[, 'age_log'] <- log(train[, 'age'])\n",
    "valid[, 'age_log'] <- log(valid[, 'age'])\n",
    "test[, 'age_log'] <- log(test[, 'age'])\n",
    "# Test (holdout)\n",
    "test_holdout[, 'age_log'] <- log(test_holdout[, 'age'])"
   ]
  },
  {
   "cell_type": "markdown",
   "metadata": {},
   "source": [
    "#### Standardize numerical variable"
   ]
  },
  {
   "cell_type": "code",
   "execution_count": 50,
   "metadata": {},
   "outputs": [],
   "source": [
    "# Standardize the variable age on train and test (holdout)\n",
    "# Train, valid, test\n",
    "train[, 'age_scaled'] <- scale(train[, 'age'], center=T, scale=T)  # sd = 1, mean = 0\n",
    "valid[, 'age_scaled'] <- scale(valid[, 'age'], center=T, scale=T)  # sd = 1, mean = 0\n",
    "test[, 'age_scaled'] <- scale(test[, 'age'], center=T, scale=T)  # sd = 1, mean = 0\n",
    "# Test (holdout)\n",
    "test_holdout[, 'age_scaled'] <- scale(test_holdout[, 'age'], center=T, scale=T)  # sd = 1, mean = 0"
   ]
  },
  {
   "cell_type": "markdown",
   "metadata": {},
   "source": [
    "### 2.4. Variable selection\n",
    "\n",
    "Reference:  \n",
    "\n",
    "Verbeke, W., Dejaeger, K., Martens, D., Hur, J., & Baesens, B. (2012). New insights into churn prediction in the telecommunication sector: A profit driven data mining approach. European Journal of Operational Research, 218(1), 211-229.\n",
    "\n",
    "Boruta: https://www.datacamp.com/community/tutorials/feature-selection-R-boruta"
   ]
  },
  {
   "cell_type": "markdown",
   "metadata": {},
   "source": [
    "#### Get the updated list of categorical, boolean and numerical variables"
   ]
  },
  {
   "cell_type": "code",
   "execution_count": 51,
   "metadata": {},
   "outputs": [],
   "source": [
    "# Get the IV and DV list name\n",
    "# Dependent variable (DV)\n",
    "dv_list <- c('subscribe')\n",
    "# Independent variable (IV)\n",
    "iv_list <- setdiff(colnames(train), dv_list)  # Exclude the target variable\n",
    "iv_list <- setdiff(iv_list, 'client_id')  # Exclude the client_id"
   ]
  },
  {
   "cell_type": "code",
   "execution_count": 52,
   "metadata": {},
   "outputs": [],
   "source": [
    "# Pick out categorical, boolean and numerical variable\n",
    "iv_cat_list <- c()  # List to store categorical variable\n",
    "iv_bool_list <- c()  # List to store boolean variable\n",
    "iv_num_list <- c()  # List to store numerical variable\n",
    "for (v in iv_list) {\n",
    "    if (class(train[, v]) == 'factor') {  # Factor == categorical variable\n",
    "        iv_cat_list <- c(iv_cat_list, v)\n",
    "    } else if (class(train[, v]) == 'logical') {  # Logical == boolean variable\n",
    "        iv_bool_list <- c(iv_bool_list, v)\n",
    "    } else {  # Non-factor + Non-logical == numerical variable\n",
    "        iv_num_list <- c(iv_num_list, v)\n",
    "    }\n",
    "}"
   ]
  },
  {
   "cell_type": "markdown",
   "metadata": {},
   "source": [
    "#### 2.4.1. Variable correcting and filtering"
   ]
  },
  {
   "cell_type": "markdown",
   "metadata": {},
   "source": [
    "#### Check and correct +/-Inf values (if any)"
   ]
  },
  {
   "cell_type": "code",
   "execution_count": 53,
   "metadata": {},
   "outputs": [
    {
     "data": {
      "text/html": [
       "20"
      ],
      "text/latex": [
       "20"
      ],
      "text/markdown": [
       "20"
      ],
      "text/plain": [
       "[1] 20"
      ]
     },
     "metadata": {},
     "output_type": "display_data"
    },
    {
     "data": {
      "text/html": [
       "3"
      ],
      "text/latex": [
       "3"
      ],
      "text/markdown": [
       "3"
      ],
      "text/plain": [
       "[1] 3"
      ]
     },
     "metadata": {},
     "output_type": "display_data"
    },
    {
     "data": {
      "text/html": [
       "2"
      ],
      "text/latex": [
       "2"
      ],
      "text/markdown": [
       "2"
      ],
      "text/plain": [
       "[1] 2"
      ]
     },
     "metadata": {},
     "output_type": "display_data"
    },
    {
     "data": {
      "text/html": [
       "18"
      ],
      "text/latex": [
       "18"
      ],
      "text/markdown": [
       "18"
      ],
      "text/plain": [
       "[1] 18"
      ]
     },
     "metadata": {},
     "output_type": "display_data"
    }
   ],
   "source": [
    "# Check missing value\n",
    "# Train, valid, test\n",
    "sum(apply(sapply(train, is.infinite), 2, sum))\n",
    "sum(apply(sapply(valid, is.infinite), 2, sum))\n",
    "sum(apply(sapply(test, is.infinite), 2, sum))\n",
    "# Test (holdout)\n",
    "sum(apply(sapply(test_holdout, is.infinite), 2, sum))"
   ]
  },
  {
   "cell_type": "code",
   "execution_count": 54,
   "metadata": {},
   "outputs": [],
   "source": [
    "# Impute +/-Inf value by NA\n",
    "# Train, valid, test\n",
    "train[sapply(train, is.infinite)] <- NA\n",
    "valid[sapply(valid, is.infinite)] <- NA\n",
    "test[sapply(test, is.infinite)] <- NA\n",
    "# Test (holdout)\n",
    "test_holdout[sapply(test_holdout, is.infinite)] <- NA"
   ]
  },
  {
   "cell_type": "markdown",
   "metadata": {},
   "source": [
    "#### Check and correct missing values (if any)"
   ]
  },
  {
   "cell_type": "code",
   "execution_count": 55,
   "metadata": {},
   "outputs": [
    {
     "data": {
      "text/html": [
       "20"
      ],
      "text/latex": [
       "20"
      ],
      "text/markdown": [
       "20"
      ],
      "text/plain": [
       "[1] 20"
      ]
     },
     "metadata": {},
     "output_type": "display_data"
    },
    {
     "data": {
      "text/html": [
       "3"
      ],
      "text/latex": [
       "3"
      ],
      "text/markdown": [
       "3"
      ],
      "text/plain": [
       "[1] 3"
      ]
     },
     "metadata": {},
     "output_type": "display_data"
    },
    {
     "data": {
      "text/html": [
       "2"
      ],
      "text/latex": [
       "2"
      ],
      "text/markdown": [
       "2"
      ],
      "text/plain": [
       "[1] 2"
      ]
     },
     "metadata": {},
     "output_type": "display_data"
    },
    {
     "data": {
      "text/html": [
       "20"
      ],
      "text/latex": [
       "20"
      ],
      "text/markdown": [
       "20"
      ],
      "text/plain": [
       "[1] 20"
      ]
     },
     "metadata": {},
     "output_type": "display_data"
    }
   ],
   "source": [
    "# Check missing value\n",
    "# Train, valid, test\n",
    "sum(apply(is.na(train), 2, sum))\n",
    "sum(apply(is.na(valid), 2, sum))\n",
    "sum(apply(is.na(test), 2, sum))\n",
    "# Test (holdout)\n",
    "sum(apply(is.na(test_holdout), 2, sum))"
   ]
  },
  {
   "cell_type": "code",
   "execution_count": 56,
   "metadata": {},
   "outputs": [],
   "source": [
    "# Impute missing value in numerical variable by mean\n",
    "for (v in iv_num_list) {\n",
    "    # Train, valid, test\n",
    "    train[is.na(train[, v]), v] <- mean(train[, v], na.rm=T)\n",
    "    valid[is.na(valid[, v]), v] <- mean(valid[, v], na.rm=T)\n",
    "    test[is.na(test[, v]), v] <- mean(test[, v], na.rm=T)\n",
    "    \n",
    "    # Test (holdout)\n",
    "    test_holdout[is.na(test_holdout[, v]), v] <- mean(test_holdout[, v], na.rm=T)\n",
    "}"
   ]
  },
  {
   "cell_type": "markdown",
   "metadata": {},
   "source": [
    "#### Drop categorical variables (all were processed)"
   ]
  },
  {
   "cell_type": "code",
   "execution_count": 57,
   "metadata": {},
   "outputs": [],
   "source": [
    "for (v in iv_cat_list) {\n",
    "    # Train, valid, test\n",
    "    train[, v] <- NULL\n",
    "    valid[, v] <- NULL\n",
    "    test[, v] <- NULL\n",
    "    \n",
    "    # Test (holdout)\n",
    "    test_holdout[, v] <- NULL\n",
    "}"
   ]
  },
  {
   "cell_type": "markdown",
   "metadata": {},
   "source": [
    "#### Convert boolean variable to numerical"
   ]
  },
  {
   "cell_type": "code",
   "execution_count": 58,
   "metadata": {},
   "outputs": [],
   "source": [
    "# Convert boolean to int\n",
    "for (v in iv_bool_list) {\n",
    "    # Train, valid, test\n",
    "    train[, v] <- as.integer(train[, v])\n",
    "    valid[, v] <- as.integer(valid[, v])\n",
    "    test[, v] <- as.integer(test[, v])\n",
    "    \n",
    "    # Test (holdout)\n",
    "    test_holdout[, v] <- as.integer(test_holdout[, v])\n",
    "}"
   ]
  },
  {
   "cell_type": "markdown",
   "metadata": {},
   "source": [
    "#### Drop constant variable (i.e. variance=0)"
   ]
  },
  {
   "cell_type": "code",
   "execution_count": 59,
   "metadata": {},
   "outputs": [
    {
     "data": {
      "text/html": [
       "<ol class=list-inline>\n",
       "\t<li>'woe.pdays.binned'</li>\n",
       "\t<li>'pdays.binned_incidence'</li>\n",
       "\t<li>'previous_freq_bin_incidence'</li>\n",
       "\t<li>'pdays.binned_woe'</li>\n",
       "\t<li>'previous_freq_bin_woe'</li>\n",
       "\t<li>'pdays.binned...Inf.999.'</li>\n",
       "\t<li>'pdays.binned..999. Inf.'</li>\n",
       "</ol>\n"
      ],
      "text/latex": [
       "\\begin{enumerate*}\n",
       "\\item 'woe.pdays.binned'\n",
       "\\item 'pdays.binned\\_incidence'\n",
       "\\item 'previous\\_freq\\_bin\\_incidence'\n",
       "\\item 'pdays.binned\\_woe'\n",
       "\\item 'previous\\_freq\\_bin\\_woe'\n",
       "\\item 'pdays.binned...Inf.999.'\n",
       "\\item 'pdays.binned..999. Inf.'\n",
       "\\end{enumerate*}\n"
      ],
      "text/markdown": [
       "1. 'woe.pdays.binned'\n",
       "2. 'pdays.binned_incidence'\n",
       "3. 'previous_freq_bin_incidence'\n",
       "4. 'pdays.binned_woe'\n",
       "5. 'previous_freq_bin_woe'\n",
       "6. 'pdays.binned...Inf.999.'\n",
       "7. 'pdays.binned..999. Inf.'\n",
       "\n",
       "\n"
      ],
      "text/plain": [
       "[1] \"woe.pdays.binned\"            \"pdays.binned_incidence\"     \n",
       "[3] \"previous_freq_bin_incidence\" \"pdays.binned_woe\"           \n",
       "[5] \"previous_freq_bin_woe\"       \"pdays.binned...Inf.999.\"    \n",
       "[7] \"pdays.binned..999. Inf.\"    "
      ]
     },
     "metadata": {},
     "output_type": "display_data"
    }
   ],
   "source": [
    "# Find the constant variable\n",
    "var_list <- c()\n",
    "for (v in c(iv_num_list, iv_bool_list)) {\n",
    "    var_list <- c(var_list, var(train[, v], na.rm=T))\n",
    "}\n",
    "constant_var <- c(iv_num_list, iv_bool_list)[var_list == 0]\n",
    "constant_var"
   ]
  },
  {
   "cell_type": "code",
   "execution_count": 60,
   "metadata": {},
   "outputs": [],
   "source": [
    "# Drop the constant variable\n",
    "for (v in constant_var) {\n",
    "    # Train, valid, test\n",
    "    train[, v] <- NULL\n",
    "    valid[, v] <- NULL\n",
    "    test[, v] <- NULL\n",
    "    \n",
    "    # Test (holdout)\n",
    "    test_holdout[, v] <- NULL\n",
    "}"
   ]
  },
  {
   "cell_type": "markdown",
   "metadata": {},
   "source": [
    "#### 2.4.2. Variable selection: Fisher Score"
   ]
  },
  {
   "cell_type": "code",
   "execution_count": 61,
   "metadata": {},
   "outputs": [],
   "source": [
    "FisherScore <- function(basetable, depvar, IV_list) {\n",
    "  \"\n",
    "  This function calculate the Fisher score of a variable.\n",
    "  \n",
    "  Ref:\n",
    "  ---\n",
    "  Verbeke, W., Dejaeger, K., Martens, D., Hur, J., & Baesens, B. (2012). New insights into churn prediction in the telecommunication sector: A profit driven data mining approach. European Journal of Operational Research, 218(1), 211-229.\n",
    "  \"\n",
    "  \n",
    "  # Get the unique values of dependent variable\n",
    "  DV <- unique(basetable[, depvar])\n",
    "  \n",
    "  IV_FisherScore <- c()\n",
    "  \n",
    "  for (v in IV_list) {\n",
    "    fs <- abs((mean(basetable[which(basetable[, depvar]==DV[1]), v]) - mean(basetable[which(basetable[, depvar]==DV[2]), v]))) /\n",
    "      sqrt((var(basetable[which(basetable[, depvar]==DV[1]), v]) + var(basetable[which(basetable[, depvar]==DV[2]), v])))\n",
    "    IV_FisherScore <- c(IV_FisherScore, fs)\n",
    "  }\n",
    "  \n",
    "  return(data.frame(IV=IV_list, fisher_score=IV_FisherScore))\n",
    "}\n",
    "\n",
    "varSelectionFisher <- function(basetable, depvar, IV_list, num_select=20) {\n",
    "  \"\n",
    "  This function will calculate the Fisher score for all IVs and select the best\n",
    "  top IVs.\n",
    "\n",
    "  Assumption: all variables of input dataset are converted into numeric type.\n",
    "  \"\n",
    "  \n",
    "  fs <- FisherScore(basetable, depvar, IV_list)  # Calculate Fisher Score for all IVs\n",
    "  num_select <- min(num_select, ncol(basetable))  # Top N IVs to be selected\n",
    "  return(as.vector(fs[order(fs$fisher_score, decreasing=T), ][1:num_select, 'IV']))\n",
    "}"
   ]
  },
  {
   "cell_type": "code",
   "execution_count": 62,
   "metadata": {},
   "outputs": [
    {
     "data": {
      "text/html": [
       "<table>\n",
       "<thead><tr><th scope=col>IV</th><th scope=col>fisher_score</th></tr></thead>\n",
       "<tbody>\n",
       "\t<tr><td>age           </td><td>0.0364485     </td></tr>\n",
       "\t<tr><td>campaign      </td><td>0.1443533     </td></tr>\n",
       "\t<tr><td>pdays         </td><td>0.4343708     </td></tr>\n",
       "\t<tr><td>previous      </td><td>0.3454339     </td></tr>\n",
       "\t<tr><td>emp.var.rate  </td><td>0.6531280     </td></tr>\n",
       "\t<tr><td>cons.price.idx</td><td>0.3030515     </td></tr>\n",
       "</tbody>\n",
       "</table>\n"
      ],
      "text/latex": [
       "\\begin{tabular}{r|ll}\n",
       " IV & fisher\\_score\\\\\n",
       "\\hline\n",
       "\t age            & 0.0364485     \\\\\n",
       "\t campaign       & 0.1443533     \\\\\n",
       "\t pdays          & 0.4343708     \\\\\n",
       "\t previous       & 0.3454339     \\\\\n",
       "\t emp.var.rate   & 0.6531280     \\\\\n",
       "\t cons.price.idx & 0.3030515     \\\\\n",
       "\\end{tabular}\n"
      ],
      "text/markdown": [
       "\n",
       "| IV | fisher_score |\n",
       "|---|---|\n",
       "| age            | 0.0364485      |\n",
       "| campaign       | 0.1443533      |\n",
       "| pdays          | 0.4343708      |\n",
       "| previous       | 0.3454339      |\n",
       "| emp.var.rate   | 0.6531280      |\n",
       "| cons.price.idx | 0.3030515      |\n",
       "\n"
      ],
      "text/plain": [
       "  IV             fisher_score\n",
       "1 age            0.0364485   \n",
       "2 campaign       0.1443533   \n",
       "3 pdays          0.4343708   \n",
       "4 previous       0.3454339   \n",
       "5 emp.var.rate   0.6531280   \n",
       "6 cons.price.idx 0.3030515   "
      ]
     },
     "metadata": {},
     "output_type": "display_data"
    }
   ],
   "source": [
    "# Calculate Fisher Score for all variable\n",
    "# Get the IV and DV list\n",
    "dv_list <- c('subscribe')  # DV list\n",
    "iv_list <- setdiff(names(train), dv_list)  # IV list excluded DV\n",
    "iv_list <- setdiff(iv_list, 'client_id')  # Excluded the client_id\n",
    "fs <- FisherScore(train, dv_list, iv_list)\n",
    "head(fs)"
   ]
  },
  {
   "cell_type": "code",
   "execution_count": 63,
   "metadata": {},
   "outputs": [
    {
     "data": {
      "text/html": [
       "<ol class=list-inline>\n",
       "\t<li>'nr.employed_freq_bin_woe'</li>\n",
       "\t<li>'woe.nr.employed.binned'</li>\n",
       "\t<li>'nr.employed.binned_woe'</li>\n",
       "\t<li>'nr.employed_freq_bin_incidence'</li>\n",
       "\t<li>'nr.employed.binned_incidence'</li>\n",
       "\t<li>'nr.employed_width_bin_woe'</li>\n",
       "\t<li>'nr.employed'</li>\n",
       "\t<li>'emp.var.rate_width_bin_woe'</li>\n",
       "\t<li>'euribor3m_freq_bin_woe'</li>\n",
       "\t<li>'nr.employed.binned...Inf.5076.2.'</li>\n",
       "</ol>\n"
      ],
      "text/latex": [
       "\\begin{enumerate*}\n",
       "\\item 'nr.employed\\_freq\\_bin\\_woe'\n",
       "\\item 'woe.nr.employed.binned'\n",
       "\\item 'nr.employed.binned\\_woe'\n",
       "\\item 'nr.employed\\_freq\\_bin\\_incidence'\n",
       "\\item 'nr.employed.binned\\_incidence'\n",
       "\\item 'nr.employed\\_width\\_bin\\_woe'\n",
       "\\item 'nr.employed'\n",
       "\\item 'emp.var.rate\\_width\\_bin\\_woe'\n",
       "\\item 'euribor3m\\_freq\\_bin\\_woe'\n",
       "\\item 'nr.employed.binned...Inf.5076.2.'\n",
       "\\end{enumerate*}\n"
      ],
      "text/markdown": [
       "1. 'nr.employed_freq_bin_woe'\n",
       "2. 'woe.nr.employed.binned'\n",
       "3. 'nr.employed.binned_woe'\n",
       "4. 'nr.employed_freq_bin_incidence'\n",
       "5. 'nr.employed.binned_incidence'\n",
       "6. 'nr.employed_width_bin_woe'\n",
       "7. 'nr.employed'\n",
       "8. 'emp.var.rate_width_bin_woe'\n",
       "9. 'euribor3m_freq_bin_woe'\n",
       "10. 'nr.employed.binned...Inf.5076.2.'\n",
       "\n",
       "\n"
      ],
      "text/plain": [
       " [1] \"nr.employed_freq_bin_woe\"         \"woe.nr.employed.binned\"          \n",
       " [3] \"nr.employed.binned_woe\"           \"nr.employed_freq_bin_incidence\"  \n",
       " [5] \"nr.employed.binned_incidence\"     \"nr.employed_width_bin_woe\"       \n",
       " [7] \"nr.employed\"                      \"emp.var.rate_width_bin_woe\"      \n",
       " [9] \"euribor3m_freq_bin_woe\"           \"nr.employed.binned...Inf.5076.2.\""
      ]
     },
     "metadata": {},
     "output_type": "display_data"
    }
   ],
   "source": [
    "# Select top 20 variables according to the Fisher Score\n",
    "best_fs_var <- varSelectionFisher(train, dv_list, iv_list, num_select=50)\n",
    "head(best_fs_var, 10)"
   ]
  },
  {
   "cell_type": "code",
   "execution_count": 64,
   "metadata": {},
   "outputs": [],
   "source": [
    "# Apply variable selection to the data\n",
    "# Train\n",
    "var_select <- names(train)[names(train) %in% best_fs_var]\n",
    "train_processed <- train[, c('client_id', var_select, 'subscribe')]\n",
    "# Valid\n",
    "var_select <- names(valid)[names(valid) %in% best_fs_var]\n",
    "valid_processed <- valid[, c('client_id', var_select, 'subscribe')]\n",
    "# Test\n",
    "var_select <- names(test)[names(test) %in% best_fs_var]\n",
    "test_processed <- test[, c('client_id', var_select, 'subscribe')]\n",
    "# Test (holdout)\n",
    "var_select <- names(test_holdout)[names(test_holdout) %in% best_fs_var]\n",
    "test_holdout_processed <- test_holdout[, c('client_id', var_select)]"
   ]
  },
  {
   "cell_type": "markdown",
   "metadata": {},
   "source": [
    "### 2.5. Finalize data processing"
   ]
  },
  {
   "cell_type": "code",
   "execution_count": 65,
   "metadata": {},
   "outputs": [
    {
     "data": {
      "text/html": [
       "<ol class=list-inline>\n",
       "\t<li>4200</li>\n",
       "\t<li>52</li>\n",
       "</ol>\n"
      ],
      "text/latex": [
       "\\begin{enumerate*}\n",
       "\\item 4200\n",
       "\\item 52\n",
       "\\end{enumerate*}\n"
      ],
      "text/markdown": [
       "1. 4200\n",
       "2. 52\n",
       "\n",
       "\n"
      ],
      "text/plain": [
       "[1] 4200   52"
      ]
     },
     "metadata": {},
     "output_type": "display_data"
    },
    {
     "data": {
      "text/html": [
       "<ol class=list-inline>\n",
       "\t<li>1400</li>\n",
       "\t<li>52</li>\n",
       "</ol>\n"
      ],
      "text/latex": [
       "\\begin{enumerate*}\n",
       "\\item 1400\n",
       "\\item 52\n",
       "\\end{enumerate*}\n"
      ],
      "text/markdown": [
       "1. 1400\n",
       "2. 52\n",
       "\n",
       "\n"
      ],
      "text/plain": [
       "[1] 1400   52"
      ]
     },
     "metadata": {},
     "output_type": "display_data"
    },
    {
     "data": {
      "text/html": [
       "<ol class=list-inline>\n",
       "\t<li>1400</li>\n",
       "\t<li>52</li>\n",
       "</ol>\n"
      ],
      "text/latex": [
       "\\begin{enumerate*}\n",
       "\\item 1400\n",
       "\\item 52\n",
       "\\end{enumerate*}\n"
      ],
      "text/markdown": [
       "1. 1400\n",
       "2. 52\n",
       "\n",
       "\n"
      ],
      "text/plain": [
       "[1] 1400   52"
      ]
     },
     "metadata": {},
     "output_type": "display_data"
    },
    {
     "data": {
      "text/html": [
       "<ol class=list-inline>\n",
       "\t<li>3000</li>\n",
       "\t<li>51</li>\n",
       "</ol>\n"
      ],
      "text/latex": [
       "\\begin{enumerate*}\n",
       "\\item 3000\n",
       "\\item 51\n",
       "\\end{enumerate*}\n"
      ],
      "text/markdown": [
       "1. 3000\n",
       "2. 51\n",
       "\n",
       "\n"
      ],
      "text/plain": [
       "[1] 3000   51"
      ]
     },
     "metadata": {},
     "output_type": "display_data"
    }
   ],
   "source": [
    "# Check if train and test (holdout) have same variables\n",
    "# Train, valid, test\n",
    "dim(train_processed)\n",
    "dim(valid_processed)\n",
    "dim(test_processed)\n",
    "# Test (holdout)\n",
    "dim(test_holdout_processed)"
   ]
  },
  {
   "cell_type": "code",
   "execution_count": 66,
   "metadata": {},
   "outputs": [],
   "source": [
    "# Rename the data columns\n",
    "for (v in colnames(train_processed)) {\n",
    "    \n",
    "    # Fix the column name\n",
    "    fix_name <- str_replace_all(v, \"[^[:alnum:] ]\", \"_\")\n",
    "    fix_name <- gsub(' +', '', fix_name) \n",
    "    \n",
    "    # Train, valid, test\n",
    "    colnames(train_processed)[colnames(train_processed) == v] <- fix_name\n",
    "    colnames(valid_processed)[colnames(valid_processed) == v] <- fix_name\n",
    "    colnames(test_processed)[colnames(test_processed) == v] <- fix_name\n",
    "    \n",
    "    # Test (holdout)\n",
    "    colnames(test_holdout_processed)[colnames(test_holdout_processed) == v] <- fix_name\n",
    "}"
   ]
  },
  {
   "cell_type": "code",
   "execution_count": 67,
   "metadata": {},
   "outputs": [
    {
     "data": {
      "text/html": [
       "<table>\n",
       "<thead><tr><th scope=col>client_id</th><th scope=col>pdays</th><th scope=col>emp_var_rate</th><th scope=col>euribor3m</th><th scope=col>nr_employed</th><th scope=col>pdays_999</th><th scope=col>woe_month_binned</th><th scope=col>woe_emp_var_rate_binned</th><th scope=col>woe_cons_price_idx_binned</th><th scope=col>woe_cons_conf_idx_binned</th><th scope=col>...</th><th scope=col>euribor3m_binned_woe</th><th scope=col>nr_employed_binned_woe</th><th scope=col>emp_var_rate_freq_bin_woe</th><th scope=col>euribor3m_freq_bin_woe</th><th scope=col>nr_employed_freq_bin_woe</th><th scope=col>emp_var_rate_width_bin_woe</th><th scope=col>cons_conf_idx_width_bin_woe</th><th scope=col>euribor3m_width_bin_woe</th><th scope=col>nr_employed_width_bin_woe</th><th scope=col>subscribe</th></tr></thead>\n",
       "<tbody>\n",
       "\t<tr><td> 2         </td><td>999        </td><td> 1.1       </td><td>4.858      </td><td>5191.0     </td><td>1          </td><td>-33.39693  </td><td>-94.56851  </td><td>-123.93836 </td><td>   9.414245</td><td>...        </td><td>-2.616464  </td><td>-2.896025  </td><td>-3.289431  </td><td>-3.192275  </td><td>-3.289431  </td><td>-2.995732  </td><td>-2.671493  </td><td>-2.929108  </td><td>-2.896025  </td><td>0          </td></tr>\n",
       "\t<tr><td> 5         </td><td>999        </td><td>-1.8       </td><td>1.299      </td><td>5099.1     </td><td>1          </td><td>-33.39693  </td><td> 44.14570  </td><td>  30.17728 </td><td> -59.006784</td><td>...        </td><td>-2.616464  </td><td>-1.971674  </td><td>-1.429056  </td><td>-2.098587  </td><td>-1.974348  </td><td>-1.540039  </td><td>-1.876394  </td><td>-1.171029  </td><td>-1.691018  </td><td>0          </td></tr>\n",
       "\t<tr><td> 8         </td><td>999        </td><td>-0.1       </td><td>4.153      </td><td>5195.8     </td><td>1          </td><td>-33.39693  </td><td> 44.14570  </td><td> -33.24684 </td><td> -59.006784</td><td>...        </td><td>-2.616464  </td><td>-2.896025  </td><td>-2.363994  </td><td>-2.098587  </td><td>-2.363994  </td><td>-2.370244  </td><td>-2.756119  </td><td>-2.639057  </td><td>-2.896025  </td><td>0          </td></tr>\n",
       "\t<tr><td>21         </td><td>999        </td><td> 1.4       </td><td>4.967      </td><td>5228.1     </td><td>1          </td><td>-33.39693  </td><td>-94.56851  </td><td> -33.24684 </td><td>-106.548634</td><td>...        </td><td>-2.616464  </td><td>-2.896025  </td><td>-2.876386  </td><td>-2.833213  </td><td>-2.876386  </td><td>-2.995732  </td><td>-2.671493  </td><td>-2.929108  </td><td>-2.896025  </td><td>0          </td></tr>\n",
       "\t<tr><td>22         </td><td>999        </td><td> 1.4       </td><td>4.964      </td><td>5228.1     </td><td>1          </td><td>-33.39693  </td><td>-94.56851  </td><td> -33.24684 </td><td>-106.548634</td><td>...        </td><td>-2.616464  </td><td>-2.896025  </td><td>-2.876386  </td><td>-2.833213  </td><td>-2.876386  </td><td>-2.995732  </td><td>-2.671493  </td><td>-2.929108  </td><td>-2.896025  </td><td>1          </td></tr>\n",
       "\t<tr><td>24         </td><td>999        </td><td> 1.4       </td><td>4.964      </td><td>5228.1     </td><td>1          </td><td>-33.39693  </td><td>-94.56851  </td><td> -33.24684 </td><td>-106.548634</td><td>...        </td><td>-2.616464  </td><td>-2.896025  </td><td>-2.876386  </td><td>-2.833213  </td><td>-2.876386  </td><td>-2.995732  </td><td>-2.671493  </td><td>-2.929108  </td><td>-2.896025  </td><td>0          </td></tr>\n",
       "</tbody>\n",
       "</table>\n"
      ],
      "text/latex": [
       "\\begin{tabular}{r|llllllllllllllllllllllllllllllllllllllllllllllllllll}\n",
       " client\\_id & pdays & emp\\_var\\_rate & euribor3m & nr\\_employed & pdays\\_999 & woe\\_month\\_binned & woe\\_emp\\_var\\_rate\\_binned & woe\\_cons\\_price\\_idx\\_binned & woe\\_cons\\_conf\\_idx\\_binned & ... & euribor3m\\_binned\\_woe & nr\\_employed\\_binned\\_woe & emp\\_var\\_rate\\_freq\\_bin\\_woe & euribor3m\\_freq\\_bin\\_woe & nr\\_employed\\_freq\\_bin\\_woe & emp\\_var\\_rate\\_width\\_bin\\_woe & cons\\_conf\\_idx\\_width\\_bin\\_woe & euribor3m\\_width\\_bin\\_woe & nr\\_employed\\_width\\_bin\\_woe & subscribe\\\\\n",
       "\\hline\n",
       "\t  2          & 999         &  1.1        & 4.858       & 5191.0      & 1           & -33.39693   & -94.56851   & -123.93836  &    9.414245 & ...         & -2.616464   & -2.896025   & -3.289431   & -3.192275   & -3.289431   & -2.995732   & -2.671493   & -2.929108   & -2.896025   & 0          \\\\\n",
       "\t  5          & 999         & -1.8        & 1.299       & 5099.1      & 1           & -33.39693   &  44.14570   &   30.17728  &  -59.006784 & ...         & -2.616464   & -1.971674   & -1.429056   & -2.098587   & -1.974348   & -1.540039   & -1.876394   & -1.171029   & -1.691018   & 0          \\\\\n",
       "\t  8          & 999         & -0.1        & 4.153       & 5195.8      & 1           & -33.39693   &  44.14570   &  -33.24684  &  -59.006784 & ...         & -2.616464   & -2.896025   & -2.363994   & -2.098587   & -2.363994   & -2.370244   & -2.756119   & -2.639057   & -2.896025   & 0          \\\\\n",
       "\t 21          & 999         &  1.4        & 4.967       & 5228.1      & 1           & -33.39693   & -94.56851   &  -33.24684  & -106.548634 & ...         & -2.616464   & -2.896025   & -2.876386   & -2.833213   & -2.876386   & -2.995732   & -2.671493   & -2.929108   & -2.896025   & 0          \\\\\n",
       "\t 22          & 999         &  1.4        & 4.964       & 5228.1      & 1           & -33.39693   & -94.56851   &  -33.24684  & -106.548634 & ...         & -2.616464   & -2.896025   & -2.876386   & -2.833213   & -2.876386   & -2.995732   & -2.671493   & -2.929108   & -2.896025   & 1          \\\\\n",
       "\t 24          & 999         &  1.4        & 4.964       & 5228.1      & 1           & -33.39693   & -94.56851   &  -33.24684  & -106.548634 & ...         & -2.616464   & -2.896025   & -2.876386   & -2.833213   & -2.876386   & -2.995732   & -2.671493   & -2.929108   & -2.896025   & 0          \\\\\n",
       "\\end{tabular}\n"
      ],
      "text/markdown": [
       "\n",
       "| client_id | pdays | emp_var_rate | euribor3m | nr_employed | pdays_999 | woe_month_binned | woe_emp_var_rate_binned | woe_cons_price_idx_binned | woe_cons_conf_idx_binned | ... | euribor3m_binned_woe | nr_employed_binned_woe | emp_var_rate_freq_bin_woe | euribor3m_freq_bin_woe | nr_employed_freq_bin_woe | emp_var_rate_width_bin_woe | cons_conf_idx_width_bin_woe | euribor3m_width_bin_woe | nr_employed_width_bin_woe | subscribe |\n",
       "|---|---|---|---|---|---|---|---|---|---|---|---|---|---|---|---|---|---|---|---|---|\n",
       "|  2          | 999         |  1.1        | 4.858       | 5191.0      | 1           | -33.39693   | -94.56851   | -123.93836  |    9.414245 | ...         | -2.616464   | -2.896025   | -3.289431   | -3.192275   | -3.289431   | -2.995732   | -2.671493   | -2.929108   | -2.896025   | 0           |\n",
       "|  5          | 999         | -1.8        | 1.299       | 5099.1      | 1           | -33.39693   |  44.14570   |   30.17728  |  -59.006784 | ...         | -2.616464   | -1.971674   | -1.429056   | -2.098587   | -1.974348   | -1.540039   | -1.876394   | -1.171029   | -1.691018   | 0           |\n",
       "|  8          | 999         | -0.1        | 4.153       | 5195.8      | 1           | -33.39693   |  44.14570   |  -33.24684  |  -59.006784 | ...         | -2.616464   | -2.896025   | -2.363994   | -2.098587   | -2.363994   | -2.370244   | -2.756119   | -2.639057   | -2.896025   | 0           |\n",
       "| 21          | 999         |  1.4        | 4.967       | 5228.1      | 1           | -33.39693   | -94.56851   |  -33.24684  | -106.548634 | ...         | -2.616464   | -2.896025   | -2.876386   | -2.833213   | -2.876386   | -2.995732   | -2.671493   | -2.929108   | -2.896025   | 0           |\n",
       "| 22          | 999         |  1.4        | 4.964       | 5228.1      | 1           | -33.39693   | -94.56851   |  -33.24684  | -106.548634 | ...         | -2.616464   | -2.896025   | -2.876386   | -2.833213   | -2.876386   | -2.995732   | -2.671493   | -2.929108   | -2.896025   | 1           |\n",
       "| 24          | 999         |  1.4        | 4.964       | 5228.1      | 1           | -33.39693   | -94.56851   |  -33.24684  | -106.548634 | ...         | -2.616464   | -2.896025   | -2.876386   | -2.833213   | -2.876386   | -2.995732   | -2.671493   | -2.929108   | -2.896025   | 0           |\n",
       "\n"
      ],
      "text/plain": [
       "  client_id pdays emp_var_rate euribor3m nr_employed pdays_999 woe_month_binned\n",
       "1  2        999    1.1         4.858     5191.0      1         -33.39693       \n",
       "2  5        999   -1.8         1.299     5099.1      1         -33.39693       \n",
       "3  8        999   -0.1         4.153     5195.8      1         -33.39693       \n",
       "4 21        999    1.4         4.967     5228.1      1         -33.39693       \n",
       "5 22        999    1.4         4.964     5228.1      1         -33.39693       \n",
       "6 24        999    1.4         4.964     5228.1      1         -33.39693       \n",
       "  woe_emp_var_rate_binned woe_cons_price_idx_binned woe_cons_conf_idx_binned\n",
       "1 -94.56851               -123.93836                   9.414245             \n",
       "2  44.14570                 30.17728                 -59.006784             \n",
       "3  44.14570                -33.24684                 -59.006784             \n",
       "4 -94.56851                -33.24684                -106.548634             \n",
       "5 -94.56851                -33.24684                -106.548634             \n",
       "6 -94.56851                -33.24684                -106.548634             \n",
       "  ... euribor3m_binned_woe nr_employed_binned_woe emp_var_rate_freq_bin_woe\n",
       "1 ... -2.616464            -2.896025              -3.289431                \n",
       "2 ... -2.616464            -1.971674              -1.429056                \n",
       "3 ... -2.616464            -2.896025              -2.363994                \n",
       "4 ... -2.616464            -2.896025              -2.876386                \n",
       "5 ... -2.616464            -2.896025              -2.876386                \n",
       "6 ... -2.616464            -2.896025              -2.876386                \n",
       "  euribor3m_freq_bin_woe nr_employed_freq_bin_woe emp_var_rate_width_bin_woe\n",
       "1 -3.192275              -3.289431                -2.995732                 \n",
       "2 -2.098587              -1.974348                -1.540039                 \n",
       "3 -2.098587              -2.363994                -2.370244                 \n",
       "4 -2.833213              -2.876386                -2.995732                 \n",
       "5 -2.833213              -2.876386                -2.995732                 \n",
       "6 -2.833213              -2.876386                -2.995732                 \n",
       "  cons_conf_idx_width_bin_woe euribor3m_width_bin_woe nr_employed_width_bin_woe\n",
       "1 -2.671493                   -2.929108               -2.896025                \n",
       "2 -1.876394                   -1.171029               -1.691018                \n",
       "3 -2.756119                   -2.639057               -2.896025                \n",
       "4 -2.671493                   -2.929108               -2.896025                \n",
       "5 -2.671493                   -2.929108               -2.896025                \n",
       "6 -2.671493                   -2.929108               -2.896025                \n",
       "  subscribe\n",
       "1 0        \n",
       "2 0        \n",
       "3 0        \n",
       "4 0        \n",
       "5 1        \n",
       "6 0        "
      ]
     },
     "metadata": {},
     "output_type": "display_data"
    }
   ],
   "source": [
    "# Print out to check\n",
    "head(train_processed)"
   ]
  },
  {
   "cell_type": "markdown",
   "metadata": {},
   "source": [
    "## 3. Methodology"
   ]
  },
  {
   "cell_type": "markdown",
   "metadata": {},
   "source": [
    "### 3.1. Logistic Regression model"
   ]
  },
  {
   "cell_type": "code",
   "execution_count": 68,
   "metadata": {},
   "outputs": [
    {
     "name": "stderr",
     "output_type": "stream",
     "text": [
      "Resampling: cross-validation\n",
      "Measures:             auc.train   auc.test    \n",
      "Warning message in predict.lm(object, newdata, se.fit, scale = 1, type = if (type == :\n",
      "\"prediction from a rank-deficient fit may be misleading\"Warning message in predict.lm(object, newdata, se.fit, scale = 1, type = if (type == :\n",
      "\"prediction from a rank-deficient fit may be misleading\"[Resample] iter 1:    0.7942316   0.7488084   \n",
      "Warning message in predict.lm(object, newdata, se.fit, scale = 1, type = if (type == :\n",
      "\"prediction from a rank-deficient fit may be misleading\"Warning message in predict.lm(object, newdata, se.fit, scale = 1, type = if (type == :\n",
      "\"prediction from a rank-deficient fit may be misleading\"[Resample] iter 2:    0.7873690   0.7697810   \n",
      "Warning message in predict.lm(object, newdata, se.fit, scale = 1, type = if (type == :\n",
      "\"prediction from a rank-deficient fit may be misleading\"Warning message in predict.lm(object, newdata, se.fit, scale = 1, type = if (type == :\n",
      "\"prediction from a rank-deficient fit may be misleading\"[Resample] iter 3:    0.7910198   0.7662524   \n",
      "Warning message in predict.lm(object, newdata, se.fit, scale = 1, type = if (type == :\n",
      "\"prediction from a rank-deficient fit may be misleading\"Warning message in predict.lm(object, newdata, se.fit, scale = 1, type = if (type == :\n",
      "\"prediction from a rank-deficient fit may be misleading\"[Resample] iter 4:    0.7795883   0.8042072   \n",
      "Warning message in predict.lm(object, newdata, se.fit, scale = 1, type = if (type == :\n",
      "\"prediction from a rank-deficient fit may be misleading\"Warning message in predict.lm(object, newdata, se.fit, scale = 1, type = if (type == :\n",
      "\"prediction from a rank-deficient fit may be misleading\"[Resample] iter 5:    0.7892984   0.7713638   \n",
      "\n",
      "\n",
      "Aggregated Result: auc.test.mean=0.7720826,auc.train.mean=0.7883014\n",
      "\n",
      "\n"
     ]
    }
   ],
   "source": [
    "# Set up cross-validation\n",
    "rdesc = makeResampleDesc(\"CV\", iters=5, predict=\"both\")\n",
    "\n",
    "# Define the model\n",
    "learner <- makeLearner(\"classif.logreg\", predict.type=\"prob\", fix.factors.prediction=T)\n",
    "\n",
    "# Define the task\n",
    "train_task <- makeClassifTask(id=\"bank_train\", data=train_processed[, -1], target=\"subscribe\")\n",
    "\n",
    "# Set hyper parameter tuning\n",
    "tune_params <- makeParamSet(\n",
    ")\n",
    "ctrl = makeTuneControlGrid()\n",
    "\n",
    "# Run the hyper parameter tuning with k-fold CV\n",
    "if (length(tune_params$pars) > 0) {\n",
    "    # Run parameter tuning\n",
    "    res <- tuneParams(learner, task=train_task, resampling=rdesc,\n",
    "      par.set=tune_params, control=ctrl, measures=list(mlr::auc))\n",
    "    \n",
    "    # Extract best model\n",
    "    best_learner <- res$learner\n",
    "    \n",
    "} else {\n",
    "    # Simple cross-validation\n",
    "    res <- resample(learner, train_task, rdesc, measures=list(mlr::auc, setAggregation(mlr::auc, train.mean)))\n",
    "    \n",
    "    # No parameter for tuning, only 1 best learner\n",
    "    best_learner <- learner\n",
    "}"
   ]
  },
  {
   "cell_type": "code",
   "execution_count": 70,
   "metadata": {},
   "outputs": [
    {
     "name": "stderr",
     "output_type": "stream",
     "text": [
      "Warning message in predict.lm(object, newdata, se.fit, scale = 1, type = if (type == :\n",
      "\"prediction from a rank-deficient fit may be misleading\""
     ]
    },
    {
     "data": {
      "text/html": [
       "<strong>auc:</strong> 0.806654926070936"
      ],
      "text/latex": [
       "\\textbf{auc:} 0.806654926070936"
      ],
      "text/markdown": [
       "**auc:** 0.806654926070936"
      ],
      "text/plain": [
       "      auc \n",
       "0.8066549 "
      ]
     },
     "metadata": {},
     "output_type": "display_data"
    }
   ],
   "source": [
    "# Retrain the model with tbe best hyper-parameters\n",
    "best_md <- mlr::train(best_learner, train_task)\n",
    "\n",
    "# Make prediction on valid data\n",
    "pred <- predict(best_md, newdata=valid_processed[, -1])\n",
    "performance(pred, measures=mlr::auc)\n",
    "\n",
    "# Make prediction on test data\n",
    "pred <- predict(best_md, newdata=test_processed[, -1])\n",
    "performance(pred, measures=mlr::auc)\n",
    "\n",
    "# Make prediction on test (holdout) data\n",
    "pred <- predict(best_md, newdata=test_holdout_processed[, -1])\n",
    "pred"
   ]
  },
  {
   "cell_type": "code",
   "execution_count": 73,
   "metadata": {},
   "outputs": [],
   "source": [
    "# Output predicted file\n",
    "output <- data.frame(client_id=test_holdout$client_id, subscribe=pred$data$prob.1)\n",
    "write.csv(output, 'lr_submission_5.csv', row.names=FALSE)"
   ]
  },
  {
   "cell_type": "markdown",
   "metadata": {},
   "source": [
    "### 3.2. RandomForest model"
   ]
  },
  {
   "cell_type": "code",
   "execution_count": 127,
   "metadata": {},
   "outputs": [
    {
     "name": "stderr",
     "output_type": "stream",
     "text": [
      "[Tune] Started tuning learner classif.randomForest for parameter set:\n",
      "          Type len Def               Constr Req Tunable Trafo\n",
      "ntree discrete   -   - 100,250,500,750,1000   -    TRUE     -\n",
      "mtry  discrete   -   -        2,4,5,7,10,14   -    TRUE     -\n",
      "With control class: TuneControlGrid\n",
      "Imputation value: -0\n",
      "[Tune-x] 1: ntree=100; mtry=2\n",
      "[Tune-y] 1: auc.test.mean=0.7246139; time: 0.2 min\n",
      "[Tune-x] 2: ntree=250; mtry=2\n",
      "[Tune-y] 2: auc.test.mean=0.7278561; time: 0.3 min\n",
      "[Tune-x] 3: ntree=500; mtry=2\n",
      "[Tune-y] 3: auc.test.mean=0.7352703; time: 0.6 min\n",
      "[Tune-x] 4: ntree=750; mtry=2\n",
      "[Tune-y] 4: auc.test.mean=0.7392010; time: 0.7 min\n",
      "[Tune-x] 5: ntree=1000; mtry=2\n",
      "[Tune-y] 5: auc.test.mean=0.7401417; time: 1.0 min\n",
      "[Tune-x] 6: ntree=100; mtry=4\n",
      "[Tune-y] 6: auc.test.mean=0.7257882; time: 0.1 min\n",
      "[Tune-x] 7: ntree=250; mtry=4\n",
      "[Tune-y] 7: auc.test.mean=0.7317396; time: 0.3 min\n",
      "[Tune-x] 8: ntree=500; mtry=4\n",
      "[Tune-y] 8: auc.test.mean=0.7379840; time: 0.6 min\n",
      "[Tune-x] 9: ntree=750; mtry=4\n",
      "[Tune-y] 9: auc.test.mean=0.7378525; time: 0.9 min\n",
      "[Tune-x] 10: ntree=1000; mtry=4\n",
      "[Tune-y] 10: auc.test.mean=0.7390436; time: 1.2 min\n",
      "[Tune-x] 11: ntree=100; mtry=5\n",
      "[Tune-y] 11: auc.test.mean=0.7269958; time: 0.1 min\n",
      "[Tune-x] 12: ntree=250; mtry=5\n",
      "[Tune-y] 12: auc.test.mean=0.7355967; time: 0.3 min\n",
      "[Tune-x] 13: ntree=500; mtry=5\n",
      "[Tune-y] 13: auc.test.mean=0.7367418; time: 0.6 min\n",
      "[Tune-x] 14: ntree=750; mtry=5\n",
      "[Tune-y] 14: auc.test.mean=0.7392710; time: 0.9 min\n",
      "[Tune-x] 15: ntree=1000; mtry=5\n",
      "[Tune-y] 15: auc.test.mean=0.7397293; time: 1.2 min\n",
      "[Tune-x] 16: ntree=100; mtry=7\n",
      "[Tune-y] 16: auc.test.mean=0.7261739; time: 0.1 min\n",
      "[Tune-x] 17: ntree=250; mtry=7\n",
      "[Tune-y] 17: auc.test.mean=0.7368757; time: 0.3 min\n",
      "[Tune-x] 18: ntree=500; mtry=7\n",
      "[Tune-y] 18: auc.test.mean=0.7405838; time: 0.7 min\n",
      "[Tune-x] 19: ntree=750; mtry=7\n",
      "[Tune-y] 19: auc.test.mean=0.7414347; time: 1.0 min\n",
      "[Tune-x] 20: ntree=1000; mtry=7\n",
      "[Tune-y] 20: auc.test.mean=0.7394732; time: 1.4 min\n",
      "[Tune-x] 21: ntree=100; mtry=10\n",
      "[Tune-y] 21: auc.test.mean=0.7298860; time: 0.2 min\n",
      "[Tune-x] 22: ntree=250; mtry=10\n",
      "[Tune-y] 22: auc.test.mean=0.7377910; time: 0.4 min\n",
      "[Tune-x] 23: ntree=500; mtry=10\n",
      "[Tune-y] 23: auc.test.mean=0.7429231; time: 0.7 min\n",
      "[Tune-x] 24: ntree=750; mtry=10\n",
      "[Tune-y] 24: auc.test.mean=0.7445455; time: 1.1 min\n",
      "[Tune-x] 25: ntree=1000; mtry=10\n",
      "[Tune-y] 25: auc.test.mean=0.7460457; time: 1.6 min\n",
      "[Tune-x] 26: ntree=100; mtry=14\n",
      "[Tune-y] 26: auc.test.mean=0.7327450; time: 0.2 min\n",
      "[Tune-x] 27: ntree=250; mtry=14\n",
      "[Tune-y] 27: auc.test.mean=0.7391490; time: 0.5 min\n",
      "[Tune-x] 28: ntree=500; mtry=14\n",
      "[Tune-y] 28: auc.test.mean=0.7447021; time: 0.9 min\n",
      "[Tune-x] 29: ntree=750; mtry=14\n",
      "[Tune-y] 29: auc.test.mean=0.7480487; time: 1.3 min\n",
      "[Tune-x] 30: ntree=1000; mtry=14\n",
      "[Tune-y] 30: auc.test.mean=0.7475227; time: 1.8 min\n",
      "[Tune] Result: ntree=750; mtry=14 : auc.test.mean=0.7480487\n"
     ]
    }
   ],
   "source": [
    "# Set up cross-validation\n",
    "rdesc = makeResampleDesc(\"CV\", iters=10)\n",
    "\n",
    "# Define the model\n",
    "learner <- makeLearner(\"classif.randomForest\", predict.type=\"prob\", fix.factors.prediction=T)\n",
    "\n",
    "# Define the task\n",
    "train_task <- makeClassifTask(id=\"bank_train\", data=train_processed[, -1], target=\"subscribe\")\n",
    "\n",
    "# Set hyper parameter tuning\n",
    "tune_params <- makeParamSet(\n",
    "  makeDiscreteParam('ntree', value=c(100, 250, 500, 750, 1000)),\n",
    "  makeDiscreteParam('mtry', value=round(sqrt((ncol(train_processed)-1) * c(0.1, 0.25, 0.5, 1, 2, 4))))\n",
    ")\n",
    "ctrl = makeTuneControlGrid()\n",
    "\n",
    "# Run the hyper parameter tuning with k-fold CV\n",
    "if (length(tune_params$pars) > 0) {\n",
    "    # Run parameter tuning\n",
    "    res <- tuneParams(learner, task=train_task, resampling=rdesc,\n",
    "      par.set=tune_params, control=ctrl, measures=list(mlr::auc))\n",
    "    \n",
    "    # Extract best model\n",
    "    best_learner <- res$learner\n",
    "    \n",
    "} else {\n",
    "    # Simple cross-validation\n",
    "    res <- resample(learner, train_task, rdesc, measures=list(mlr::auc))\n",
    "    \n",
    "    # No parameter for tuning, only 1 best learner\n",
    "    best_learner <- learner\n",
    "}"
   ]
  },
  {
   "cell_type": "code",
   "execution_count": 128,
   "metadata": {},
   "outputs": [],
   "source": [
    "# Retrain the model with tbe best hyper-parameters\n",
    "best_md <- mlr::train(best_learner, train_task)"
   ]
  },
  {
   "cell_type": "code",
   "execution_count": 129,
   "metadata": {},
   "outputs": [
    {
     "data": {
      "text/html": [
       "<strong>auc:</strong> 0.763450582050516"
      ],
      "text/latex": [
       "\\textbf{auc:} 0.763450582050516"
      ],
      "text/markdown": [
       "**auc:** 0.763450582050516"
      ],
      "text/plain": [
       "      auc \n",
       "0.7634506 "
      ]
     },
     "metadata": {},
     "output_type": "display_data"
    }
   ],
   "source": [
    "# Make prediction on valid data\n",
    "pred <- predict(best_md, newdata=valid_processed[, -1])\n",
    "performance(pred, measures=mlr::auc)"
   ]
  },
  {
   "cell_type": "code",
   "execution_count": 130,
   "metadata": {},
   "outputs": [
    {
     "data": {
      "text/html": [
       "<strong>auc:</strong> 0.736802957807743"
      ],
      "text/latex": [
       "\\textbf{auc:} 0.736802957807743"
      ],
      "text/markdown": [
       "**auc:** 0.736802957807743"
      ],
      "text/plain": [
       "     auc \n",
       "0.736803 "
      ]
     },
     "metadata": {},
     "output_type": "display_data"
    }
   ],
   "source": [
    "# Make prediction on test data\n",
    "pred <- predict(best_md, newdata=test_processed[, -1])\n",
    "performance(pred, measures=mlr::auc)"
   ]
  },
  {
   "cell_type": "code",
   "execution_count": 131,
   "metadata": {},
   "outputs": [
    {
     "data": {
      "text/plain": [
       "Prediction: 3000 observations\n",
       "predict.type: prob\n",
       "threshold: 0=0.50,1=0.50\n",
       "time: 0.09\n",
       "  prob.0 prob.1 response\n",
       "1  1.000  0.000        0\n",
       "2  1.000  0.000        0\n",
       "3  0.738  0.262        0\n",
       "4  1.000  0.000        0\n",
       "5  1.000  0.000        0\n",
       "6  1.000  0.000        0\n",
       "... (#rows: 3000, #cols: 3)"
      ]
     },
     "metadata": {},
     "output_type": "display_data"
    }
   ],
   "source": [
    "# Make prediction on test data\n",
    "pred <- predict(best_md, newdata=test_holdout_processed[, -1])\n",
    "pred"
   ]
  },
  {
   "cell_type": "code",
   "execution_count": 132,
   "metadata": {},
   "outputs": [],
   "source": [
    "# Output predicted file\n",
    "output <- data.frame(client_id=test_holdout$client_id, subscribe=pred$data$prob.1)\n",
    "write.csv(output, 'rf_submission_4.csv', row.names=FALSE)"
   ]
  },
  {
   "cell_type": "markdown",
   "metadata": {},
   "source": [
    "### 3.4. Naive Bayes"
   ]
  },
  {
   "cell_type": "code",
   "execution_count": 74,
   "metadata": {},
   "outputs": [
    {
     "name": "stderr",
     "output_type": "stream",
     "text": [
      "Resampling: cross-validation\n",
      "Measures:             auc.train   auc.test    \n",
      "[Resample] iter 1:    0.7633015   0.7678741   \n",
      "[Resample] iter 2:    0.7699187   0.7431950   \n",
      "[Resample] iter 3:    0.7562929   0.8006747   \n",
      "[Resample] iter 4:    0.7631708   0.7703333   \n",
      "[Resample] iter 5:    0.7704162   0.7499913   \n",
      "\n",
      "\n",
      "Aggregated Result: auc.test.mean=0.7664137,auc.train.mean=0.7646200\n",
      "\n",
      "\n"
     ]
    }
   ],
   "source": [
    "# Set up cross-validation\n",
    "rdesc = makeResampleDesc(\"CV\", iters=5, predict=\"both\")\n",
    "\n",
    "# Define the model\n",
    "learner <- makeLearner(\"classif.naiveBayes\", predict.type=\"prob\", fix.factors.prediction=T)\n",
    "\n",
    "# Define the task\n",
    "train_task <- makeClassifTask(id=\"bank_train\", data=train_processed[, -1], target=\"subscribe\")\n",
    "\n",
    "# Set hyper parameter tuning (this part changes)\n",
    "tune_params <- makeParamSet(\n",
    ")\n",
    "#     makeNumericLearnerParam(id = \"laplace\", default = 0, lower = 0)\n",
    "    # makeNumericLearnerParam(id = \"threshold\", default = 0.001, lower = 0)\n",
    "ctrl = makeTuneControlGrid()\n",
    "\n",
    "# Run the hyper parameter tuning with k-fold CV\n",
    "if (length(tune_params$pars) > 0) {\n",
    "    # Run parameter tuning\n",
    "    res <- tuneParams(learner, task=train_task, resampling=rdesc,\n",
    "      par.set=tune_params, control=ctrl, measures=list(mlr::auc))\n",
    "    \n",
    "    # Extract best model\n",
    "    best_learner <- res$learner\n",
    "    \n",
    "} else {\n",
    "    # Simple cross-validation (this part changes)\n",
    "    res <- resample(learner, train_task, rdesc, measures=list(mlr::auc, setAggregation(mlr::auc, train.mean)))\n",
    "    \n",
    "    # No parameter for tuning, only 1 best learner\n",
    "    best_learner <- learner\n",
    "}"
   ]
  },
  {
   "cell_type": "code",
   "execution_count": 75,
   "metadata": {},
   "outputs": [
    {
     "data": {
      "text/html": [
       "<strong>auc:</strong> 0.7805530659203"
      ],
      "text/latex": [
       "\\textbf{auc:} 0.7805530659203"
      ],
      "text/markdown": [
       "**auc:** 0.7805530659203"
      ],
      "text/plain": [
       "      auc \n",
       "0.7805531 "
      ]
     },
     "metadata": {},
     "output_type": "display_data"
    },
    {
     "data": {
      "text/html": [
       "<strong>auc:</strong> 0.7928816876903"
      ],
      "text/latex": [
       "\\textbf{auc:} 0.7928816876903"
      ],
      "text/markdown": [
       "**auc:** 0.7928816876903"
      ],
      "text/plain": [
       "      auc \n",
       "0.7928817 "
      ]
     },
     "metadata": {},
     "output_type": "display_data"
    },
    {
     "data": {
      "text/plain": [
       "Prediction: 3000 observations\n",
       "predict.type: prob\n",
       "threshold: 0=0.50,1=0.50\n",
       "time: 2.61\n",
       "        prob.0       prob.1 response\n",
       "1 1.000000e+00 1.350207e-18        0\n",
       "2 1.000000e+00 3.067820e-22        0\n",
       "3 2.706201e-57 1.000000e+00        1\n",
       "4 1.000000e+00 3.283557e-22        0\n",
       "5 1.000000e+00 2.899585e-22        0\n",
       "6 1.000000e+00 3.276097e-22        0\n",
       "... (#rows: 3000, #cols: 3)"
      ]
     },
     "metadata": {},
     "output_type": "display_data"
    }
   ],
   "source": [
    "# Retrain the model with tbe best hyper-parameters\n",
    "best_md <- mlr::train(best_learner, train_task)\n",
    "\n",
    "# Make prediction on valid data\n",
    "pred <- predict(best_md, newdata=valid_processed[, -1])\n",
    "performance(pred, measures=mlr::auc)\n",
    "\n",
    "# Make prediction on test data\n",
    "pred <- predict(best_md, newdata=test_processed[, -1])\n",
    "performance(pred, measures=mlr::auc)\n",
    "\n",
    "# Make prediction on test (holdout) data\n",
    "pred <- predict(best_md, newdata=test_holdout_processed[, -1])\n",
    "pred"
   ]
  },
  {
   "cell_type": "code",
   "execution_count": 76,
   "metadata": {},
   "outputs": [],
   "source": [
    "# Output predicted file\n",
    "output <- data.frame(client_id=test_holdout$client_id, subscribe=pred$data$prob.1)\n",
    "write.csv(output, 'lr_submission_6.csv', row.names=FALSE)"
   ]
  },
  {
   "cell_type": "markdown",
   "metadata": {},
   "source": [
    "### 3.5. KNN"
   ]
  },
  {
   "cell_type": "code",
   "execution_count": 77,
   "metadata": {},
   "outputs": [
    {
     "name": "stderr",
     "output_type": "stream",
     "text": [
      "Loading required package: kknn\n",
      "Warning message:\n",
      "\"package 'kknn' was built under R version 3.6.2\"\n",
      "Attaching package: 'kknn'\n",
      "\n",
      "The following object is masked from 'package:caret':\n",
      "\n",
      "    contr.dummy\n",
      "\n",
      "Resampling: cross-validation\n",
      "Measures:             auc.train   auc.test    \n",
      "[Resample] iter 1:    0.7791306   0.6693165   \n",
      "[Resample] iter 2:    0.7677935   0.7173216   \n",
      "[Resample] iter 3:    0.7717957   0.7187300   \n",
      "[Resample] iter 4:    0.7809510   0.6900910   \n",
      "[Resample] iter 5:    0.7676631   0.7337635   \n",
      "\n",
      "\n",
      "Aggregated Result: auc.test.mean=0.7058445,auc.train.mean=0.7734668\n",
      "\n",
      "\n"
     ]
    }
   ],
   "source": [
    "# Set up cross-validation\n",
    "rdesc = makeResampleDesc(\"CV\", iters=5, predict=\"both\")\n",
    "\n",
    "# Define the model\n",
    "learner <- makeLearner(\"classif.kknn\", predict.type=\"prob\", fix.factors.prediction=T)\n",
    "\n",
    "# Define the task\n",
    "train_task <- makeClassifTask(id=\"bank_train\", data=train_processed[, -1], target=\"subscribe\")\n",
    "\n",
    "# Set hyper parameter tuning (this part changes)\n",
    "tune_params <- makeParamSet(\n",
    "#     makeNumericLearnerParam(id = \"laplace\", default = 0, lower = 0)\n",
    "    # makeNumericLearnerParam(id = \"threshold\", default = 0.001, lower = 0)\n",
    ")\n",
    "ctrl = makeTuneControlGrid()\n",
    "\n",
    "# Run the hyper parameter tuning with k-fold CV\n",
    "if (length(tune_params$pars) > 0) {\n",
    "    # Run parameter tuning\n",
    "    res <- tuneParams(learner, task=train_task, resampling=rdesc,\n",
    "      par.set=tune_params, control=ctrl, measures=list(mlr::auc))\n",
    "    \n",
    "    # Extract best model\n",
    "    best_learner <- res$learner\n",
    "    \n",
    "} else {\n",
    "    # Simple cross-validation (this part changes)\n",
    "    res <- resample(learner, train_task, rdesc, measures=list(mlr::auc, setAggregation(mlr::auc, train.mean)))\n",
    "    \n",
    "    # No parameter for tuning, only 1 best learner\n",
    "    best_learner <- learner\n",
    "}"
   ]
  },
  {
   "cell_type": "code",
   "execution_count": 78,
   "metadata": {},
   "outputs": [
    {
     "data": {
      "text/html": [
       "<strong>auc:</strong> 0.730946428290643"
      ],
      "text/latex": [
       "\\textbf{auc:} 0.730946428290643"
      ],
      "text/markdown": [
       "**auc:** 0.730946428290643"
      ],
      "text/plain": [
       "      auc \n",
       "0.7309464 "
      ]
     },
     "metadata": {},
     "output_type": "display_data"
    },
    {
     "data": {
      "text/html": [
       "<strong>auc:</strong> 0.695817746846455"
      ],
      "text/latex": [
       "\\textbf{auc:} 0.695817746846455"
      ],
      "text/markdown": [
       "**auc:** 0.695817746846455"
      ],
      "text/plain": [
       "      auc \n",
       "0.6958177 "
      ]
     },
     "metadata": {},
     "output_type": "display_data"
    },
    {
     "data": {
      "text/plain": [
       "Prediction: 3000 observations\n",
       "predict.type: prob\n",
       "threshold: 0=0.50,1=0.50\n",
       "time: 0.47\n",
       "     prob.0    prob.1 response\n",
       "1 1.0000000 0.0000000        0\n",
       "2 1.0000000 0.0000000        0\n",
       "3 0.6135519 0.3864481        0\n",
       "4 0.8979580 0.1020420        0\n",
       "5 1.0000000 0.0000000        0\n",
       "6 1.0000000 0.0000000        0\n",
       "... (#rows: 3000, #cols: 3)"
      ]
     },
     "metadata": {},
     "output_type": "display_data"
    }
   ],
   "source": [
    "# Retrain the model with tbe best hyper-parameters\n",
    "best_md <- mlr::train(best_learner, train_task)\n",
    "\n",
    "# Make prediction on valid data\n",
    "pred <- predict(best_md, newdata=valid_processed[, -1])\n",
    "performance(pred, measures=mlr::auc)\n",
    "\n",
    "# Make prediction on test data\n",
    "pred <- predict(best_md, newdata=test_processed[, -1])\n",
    "performance(pred, measures=mlr::auc)\n",
    "\n",
    "# Make prediction on test (holdout) data\n",
    "pred <- predict(best_md, newdata=test_holdout_processed[, -1])\n",
    "pred"
   ]
  },
  {
   "cell_type": "code",
   "execution_count": 79,
   "metadata": {},
   "outputs": [],
   "source": [
    "# Output predicted file\n",
    "output <- data.frame(client_id=test_holdout$client_id, subscribe=pred$data$prob.1)\n",
    "write.csv(output, 'lr_submission_KNN.csv', row.names=FALSE)"
   ]
  },
  {
   "cell_type": "markdown",
   "metadata": {},
   "source": [
    "## 3.5 LDA model"
   ]
  },
  {
   "cell_type": "code",
   "execution_count": 81,
   "metadata": {},
   "outputs": [
    {
     "name": "stderr",
     "output_type": "stream",
     "text": [
      "Resampling: cross-validation\n",
      "Measures:             auc.train   auc.test    \n",
      "Warning message in lda.default(x, grouping, ...):\n",
      "\"variables are collinear\"[Resample] iter 1:    0.7680493   0.8326427   \n",
      "Warning message in lda.default(x, grouping, ...):\n",
      "\"variables are collinear\"[Resample] iter 2:    0.8003541   0.7268244   \n",
      "Warning message in lda.default(x, grouping, ...):\n",
      "\"variables are collinear\"[Resample] iter 3:    0.7794022   0.8070886   \n",
      "Warning message in lda.default(x, grouping, ...):\n",
      "\"variables are collinear\"[Resample] iter 4:    0.7923676   0.7342282   \n",
      "Warning message in lda.default(x, grouping, ...):\n",
      "\"variables are collinear\"[Resample] iter 5:    0.7867347   0.7679816   \n",
      "\n",
      "\n",
      "Aggregated Result: auc.test.mean=0.7737531,auc.train.mean=0.7853816\n",
      "\n",
      "\n"
     ]
    }
   ],
   "source": [
    "# Set up cross-validation\n",
    "rdesc = makeResampleDesc(\"CV\", iters=5, predict=\"both\")\n",
    "\n",
    "# Define the model\n",
    "learner <- makeLearner(\"classif.lda\", predict.type=\"prob\", fix.factors.prediction=T)\n",
    "\n",
    "# Define the task\n",
    "train_task <- makeClassifTask(id=\"bank_train\", data=train_processed[, -1], target=\"subscribe\")\n",
    "\n",
    "# Set hyper parameter tuning (this part changes)\n",
    "tune_params <- makeParamSet(\n",
    "#     makeNumericLearnerParam(id = \"laplace\", default = 0, lower = 0)\n",
    "    # makeNumericLearnerParam(id = \"threshold\", default = 0.001, lower = 0)\n",
    ")\n",
    "ctrl = makeTuneControlGrid()\n",
    "\n",
    "# Run the hyper parameter tuning with k-fold CV\n",
    "if (length(tune_params$pars) > 0) {\n",
    "    # Run parameter tuning\n",
    "    res <- tuneParams(learner, task=train_task, resampling=rdesc,\n",
    "      par.set=tune_params, control=ctrl, measures=list(mlr::auc))\n",
    "    \n",
    "    # Extract best model\n",
    "    best_learner <- res$learner\n",
    "    \n",
    "} else {\n",
    "    # Simple cross-validation (this part changes)\n",
    "    res <- resample(learner, train_task, rdesc, measures=list(mlr::auc, setAggregation(mlr::auc, train.mean)))\n",
    "    \n",
    "    # No parameter for tuning, only 1 best learner\n",
    "    best_learner <- learner\n",
    "}"
   ]
  },
  {
   "cell_type": "code",
   "execution_count": 82,
   "metadata": {},
   "outputs": [
    {
     "name": "stderr",
     "output_type": "stream",
     "text": [
      "Warning message in lda.default(x, grouping, ...):\n",
      "\"variables are collinear\""
     ]
    },
    {
     "data": {
      "text/html": [
       "<strong>auc:</strong> 0.804933146741723"
      ],
      "text/latex": [
       "\\textbf{auc:} 0.804933146741723"
      ],
      "text/markdown": [
       "**auc:** 0.804933146741723"
      ],
      "text/plain": [
       "      auc \n",
       "0.8049331 "
      ]
     },
     "metadata": {},
     "output_type": "display_data"
    },
    {
     "data": {
      "text/html": [
       "<strong>auc:</strong> 0.809780339277947"
      ],
      "text/latex": [
       "\\textbf{auc:} 0.809780339277947"
      ],
      "text/markdown": [
       "**auc:** 0.809780339277947"
      ],
      "text/plain": [
       "      auc \n",
       "0.8097803 "
      ]
     },
     "metadata": {},
     "output_type": "display_data"
    },
    {
     "data": {
      "text/plain": [
       "Prediction: 3000 observations\n",
       "predict.type: prob\n",
       "threshold: 0=0.50,1=0.50\n",
       "time: 0.02\n",
       "     prob.0     prob.1 response\n",
       "1 0.9783962 0.02160380        0\n",
       "2 0.9807609 0.01923913        0\n",
       "3 0.2113227 0.78867728        1\n",
       "4 0.9727311 0.02726890        0\n",
       "5 0.9820760 0.01792395        0\n",
       "6 0.9722819 0.02771807        0\n",
       "... (#rows: 3000, #cols: 3)"
      ]
     },
     "metadata": {},
     "output_type": "display_data"
    }
   ],
   "source": [
    "# Retrain the model with tbe best hyper-parameters\n",
    "best_md <- mlr::train(best_learner, train_task)\n",
    "\n",
    "# Make prediction on valid data\n",
    "pred <- predict(best_md, newdata=valid_processed[, -1])\n",
    "performance(pred, measures=mlr::auc)\n",
    "\n",
    "# Make prediction on test data\n",
    "pred <- predict(best_md, newdata=test_processed[, -1])\n",
    "performance(pred, measures=mlr::auc)\n",
    "\n",
    "# Make prediction on test (holdout) data\n",
    "pred <- predict(best_md, newdata=test_holdout_processed[, -1])\n",
    "pred"
   ]
  },
  {
   "cell_type": "code",
   "execution_count": 83,
   "metadata": {},
   "outputs": [],
   "source": [
    "# Output predicted file\n",
    "output <- data.frame(client_id=test_holdout$client_id, subscribe=pred$data$prob.1)\n",
    "write.csv(output, 'lr_submission_LDA.csv', row.names=FALSE)"
   ]
  },
  {
   "cell_type": "code",
   "execution_count": null,
   "metadata": {},
   "outputs": [],
   "source": [
    "# \"classif.naiveBayes\",\"classif.earth\", \"classif.xgboost\", \"classif.kknn\", \"classif.randomForest\",\n",
    "#                 \"classif.logreg\", \"classif.lda\", \"classif.plsdaCaret\", \"classif.ctree\", \"classif.C50\", \"classif.boosting\""
   ]
  },
  {
   "cell_type": "code",
   "execution_count": null,
   "metadata": {},
   "outputs": [],
   "source": []
  }
 ],
 "metadata": {
  "kernelspec": {
   "display_name": "R",
   "language": "R",
   "name": "ir"
  },
  "language_info": {
   "codemirror_mode": "r",
   "file_extension": ".r",
   "mimetype": "text/x-r-source",
   "name": "R",
   "pygments_lexer": "r",
   "version": "3.6.1"
  }
 },
 "nbformat": 4,
 "nbformat_minor": 4
}
